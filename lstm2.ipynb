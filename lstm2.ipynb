{
  "nbformat": 4,
  "nbformat_minor": 0,
  "metadata": {
    "language_info": {
      "codemirror_mode": {
        "name": "ipython",
        "version": 3
      },
      "file_extension": ".py",
      "mimetype": "text/x-python",
      "name": "python",
      "nbconvert_exporter": "python",
      "pygments_lexer": "ipython3",
      "version": "3.8.12"
    },
    "orig_nbformat": 4,
    "kernelspec": {
      "name": "python3",
      "display_name": "Python 3.8.12 64-bit ('nlp-4650-project': conda)"
    },
    "interpreter": {
      "hash": "140351e719ebabd8c89d647add28ebb80040bf2d1128912b99179fb480ea150d"
    },
    "colab": {
      "name": "lstm.ipynb",
      "provenance": [],
      "collapsed_sections": []
    },
    "accelerator": "GPU"
  },
  "cells": [
    {
      "cell_type": "code",
      "metadata": {
        "id": "dbhpdgJevlV2"
      },
      "source": [
        "%load_ext autoreload\n",
        "%autoreload 2"
      ],
      "execution_count": 1,
      "outputs": []
    },
    {
      "cell_type": "code",
      "metadata": {
        "colab": {
          "base_uri": "https://localhost:8080/"
        },
        "id": "fWCHRlAbvtvn",
        "outputId": "0391815e-1da9-4d85-85bc-cba86eb99c9d"
      },
      "source": [
        "!pip install -r requirements.txt"
      ],
      "execution_count": 2,
      "outputs": [
        {
          "output_type": "stream",
          "name": "stdout",
          "text": [
            "Requirement already satisfied: tweepy in /home/cvxluo/anaconda3/envs/nlp-4650-project/lib/python3.8/site-packages (from -r requirements.txt (line 1)) (4.1.0)\n",
            "Requirement already satisfied: python-dotenv in /home/cvxluo/anaconda3/envs/nlp-4650-project/lib/python3.8/site-packages (from -r requirements.txt (line 2)) (0.19.1)\n",
            "Requirement already satisfied: jupyterlab in /home/cvxluo/anaconda3/envs/nlp-4650-project/lib/python3.8/site-packages (from -r requirements.txt (line 3)) (3.2.0)\n",
            "Requirement already satisfied: ipywidgets in /home/cvxluo/anaconda3/envs/nlp-4650-project/lib/python3.8/site-packages (from -r requirements.txt (line 4)) (7.6.5)\n",
            "Requirement already satisfied: matplotlib in /home/cvxluo/anaconda3/envs/nlp-4650-project/lib/python3.8/site-packages (from -r requirements.txt (line 5)) (3.4.2)\n",
            "Requirement already satisfied: seaborn in /home/cvxluo/anaconda3/envs/nlp-4650-project/lib/python3.8/site-packages (from -r requirements.txt (line 6)) (0.11.2)\n",
            "Requirement already satisfied: numpy in /home/cvxluo/anaconda3/envs/nlp-4650-project/lib/python3.8/site-packages (from -r requirements.txt (line 7)) (1.19.2)\n",
            "Requirement already satisfied: pandas in /home/cvxluo/anaconda3/envs/nlp-4650-project/lib/python3.8/site-packages (from -r requirements.txt (line 8)) (1.3.3)\n",
            "Requirement already satisfied: torch in /home/cvxluo/anaconda3/envs/nlp-4650-project/lib/python3.8/site-packages (from -r requirements.txt (line 9)) (1.10.0)\n",
            "Requirement already satisfied: torchtext in /home/cvxluo/anaconda3/envs/nlp-4650-project/lib/python3.8/site-packages (from -r requirements.txt (line 10)) (0.11.0)\n",
            "Requirement already satisfied: huggingface in /home/cvxluo/anaconda3/envs/nlp-4650-project/lib/python3.8/site-packages (from -r requirements.txt (line 11)) (0.0.1)\n",
            "Requirement already satisfied: transformers>3 in /home/cvxluo/anaconda3/envs/nlp-4650-project/lib/python3.8/site-packages (from -r requirements.txt (line 12)) (4.11.3)\n",
            "Requirement already satisfied: scikit-learn in /home/cvxluo/anaconda3/envs/nlp-4650-project/lib/python3.8/site-packages (from -r requirements.txt (line 13)) (0.24.2)\n",
            "Requirement already satisfied: nltk in /home/cvxluo/anaconda3/envs/nlp-4650-project/lib/python3.8/site-packages (from -r requirements.txt (line 14)) (3.6.5)\n",
            "Requirement already satisfied: tqdm in /home/cvxluo/anaconda3/envs/nlp-4650-project/lib/python3.8/site-packages (from -r requirements.txt (line 15)) (4.62.2)\n",
            "Requirement already satisfied: requests-oauthlib<2,>=1.0.0 in /home/cvxluo/anaconda3/envs/nlp-4650-project/lib/python3.8/site-packages (from tweepy->-r requirements.txt (line 1)) (1.3.0)\n",
            "Requirement already satisfied: requests<3,>=2.11.1 in /home/cvxluo/anaconda3/envs/nlp-4650-project/lib/python3.8/site-packages (from tweepy->-r requirements.txt (line 1)) (2.26.0)\n",
            "Requirement already satisfied: nbclassic~=0.2 in /home/cvxluo/anaconda3/envs/nlp-4650-project/lib/python3.8/site-packages (from jupyterlab->-r requirements.txt (line 3)) (0.3.2)\n",
            "Requirement already satisfied: jupyterlab-server~=2.3 in /home/cvxluo/anaconda3/envs/nlp-4650-project/lib/python3.8/site-packages (from jupyterlab->-r requirements.txt (line 3)) (2.8.2)\n",
            "Requirement already satisfied: tornado>=6.1.0 in /home/cvxluo/anaconda3/envs/nlp-4650-project/lib/python3.8/site-packages (from jupyterlab->-r requirements.txt (line 3)) (6.1)\n",
            "Requirement already satisfied: ipython in /home/cvxluo/anaconda3/envs/nlp-4650-project/lib/python3.8/site-packages (from jupyterlab->-r requirements.txt (line 3)) (7.27.0)\n",
            "Requirement already satisfied: jupyter-server~=1.4 in /home/cvxluo/anaconda3/envs/nlp-4650-project/lib/python3.8/site-packages (from jupyterlab->-r requirements.txt (line 3)) (1.11.1)\n",
            "Requirement already satisfied: jupyter-core in /home/cvxluo/anaconda3/envs/nlp-4650-project/lib/python3.8/site-packages (from jupyterlab->-r requirements.txt (line 3)) (4.8.1)\n",
            "Requirement already satisfied: packaging in /home/cvxluo/anaconda3/envs/nlp-4650-project/lib/python3.8/site-packages (from jupyterlab->-r requirements.txt (line 3)) (21.0)\n",
            "Requirement already satisfied: jinja2>=2.1 in /home/cvxluo/anaconda3/envs/nlp-4650-project/lib/python3.8/site-packages (from jupyterlab->-r requirements.txt (line 3)) (3.0.1)\n",
            "Requirement already satisfied: ipython-genutils~=0.2.0 in /home/cvxluo/anaconda3/envs/nlp-4650-project/lib/python3.8/site-packages (from ipywidgets->-r requirements.txt (line 4)) (0.2.0)\n",
            "Requirement already satisfied: widgetsnbextension~=3.5.0 in /home/cvxluo/anaconda3/envs/nlp-4650-project/lib/python3.8/site-packages (from ipywidgets->-r requirements.txt (line 4)) (3.5.1)\n",
            "Requirement already satisfied: nbformat>=4.2.0 in /home/cvxluo/anaconda3/envs/nlp-4650-project/lib/python3.8/site-packages (from ipywidgets->-r requirements.txt (line 4)) (5.1.3)\n",
            "Requirement already satisfied: traitlets>=4.3.1 in /home/cvxluo/anaconda3/envs/nlp-4650-project/lib/python3.8/site-packages (from ipywidgets->-r requirements.txt (line 4)) (5.1.0)\n",
            "Requirement already satisfied: jupyterlab-widgets>=1.0.0 in /home/cvxluo/anaconda3/envs/nlp-4650-project/lib/python3.8/site-packages (from ipywidgets->-r requirements.txt (line 4)) (1.0.2)\n",
            "Requirement already satisfied: ipykernel>=4.5.1 in /home/cvxluo/anaconda3/envs/nlp-4650-project/lib/python3.8/site-packages (from ipywidgets->-r requirements.txt (line 4)) (6.4.1)\n",
            "Requirement already satisfied: kiwisolver>=1.0.1 in /home/cvxluo/anaconda3/envs/nlp-4650-project/lib/python3.8/site-packages (from matplotlib->-r requirements.txt (line 5)) (1.3.1)\n",
            "Requirement already satisfied: python-dateutil>=2.7 in /home/cvxluo/anaconda3/envs/nlp-4650-project/lib/python3.8/site-packages (from matplotlib->-r requirements.txt (line 5)) (2.8.2)\n",
            "Requirement already satisfied: pillow>=6.2.0 in /home/cvxluo/anaconda3/envs/nlp-4650-project/lib/python3.8/site-packages (from matplotlib->-r requirements.txt (line 5)) (8.4.0)\n",
            "Requirement already satisfied: pyparsing>=2.2.1 in /home/cvxluo/anaconda3/envs/nlp-4650-project/lib/python3.8/site-packages (from matplotlib->-r requirements.txt (line 5)) (2.4.7)\n",
            "Requirement already satisfied: cycler>=0.10 in /home/cvxluo/anaconda3/envs/nlp-4650-project/lib/python3.8/site-packages (from matplotlib->-r requirements.txt (line 5)) (0.10.0)\n",
            "Requirement already satisfied: scipy>=1.0 in /home/cvxluo/anaconda3/envs/nlp-4650-project/lib/python3.8/site-packages (from seaborn->-r requirements.txt (line 6)) (1.6.2)\n",
            "Requirement already satisfied: pytz>=2017.3 in /home/cvxluo/anaconda3/envs/nlp-4650-project/lib/python3.8/site-packages (from pandas->-r requirements.txt (line 8)) (2021.3)\n",
            "Requirement already satisfied: typing-extensions in /home/cvxluo/anaconda3/envs/nlp-4650-project/lib/python3.8/site-packages (from torch->-r requirements.txt (line 9)) (3.10.0.2)\n",
            "Requirement already satisfied: huggingface-hub>=0.0.17 in /home/cvxluo/anaconda3/envs/nlp-4650-project/lib/python3.8/site-packages (from transformers>3->-r requirements.txt (line 12)) (0.0.19)\n",
            "Requirement already satisfied: sacremoses in /home/cvxluo/anaconda3/envs/nlp-4650-project/lib/python3.8/site-packages (from transformers>3->-r requirements.txt (line 12)) (0.0.43)\n",
            "Requirement already satisfied: filelock in /home/cvxluo/anaconda3/envs/nlp-4650-project/lib/python3.8/site-packages (from transformers>3->-r requirements.txt (line 12)) (3.3.1)\n",
            "Requirement already satisfied: tokenizers<0.11,>=0.10.1 in /home/cvxluo/anaconda3/envs/nlp-4650-project/lib/python3.8/site-packages (from transformers>3->-r requirements.txt (line 12)) (0.10.3)\n",
            "Requirement already satisfied: pyyaml>=5.1 in /home/cvxluo/anaconda3/envs/nlp-4650-project/lib/python3.8/site-packages (from transformers>3->-r requirements.txt (line 12)) (6.0)\n",
            "Requirement already satisfied: regex!=2019.12.17 in /home/cvxluo/anaconda3/envs/nlp-4650-project/lib/python3.8/site-packages (from transformers>3->-r requirements.txt (line 12)) (2021.8.3)\n",
            "Requirement already satisfied: joblib>=0.11 in /home/cvxluo/anaconda3/envs/nlp-4650-project/lib/python3.8/site-packages (from scikit-learn->-r requirements.txt (line 13)) (1.0.1)\n",
            "Requirement already satisfied: threadpoolctl>=2.0.0 in /home/cvxluo/anaconda3/envs/nlp-4650-project/lib/python3.8/site-packages (from scikit-learn->-r requirements.txt (line 13)) (2.2.0)\n",
            "Requirement already satisfied: click in /home/cvxluo/anaconda3/envs/nlp-4650-project/lib/python3.8/site-packages (from nltk->-r requirements.txt (line 14)) (8.0.1)\n",
            "Requirement already satisfied: six in /home/cvxluo/anaconda3/envs/nlp-4650-project/lib/python3.8/site-packages (from cycler>=0.10->matplotlib->-r requirements.txt (line 5)) (1.16.0)\n",
            "Requirement already satisfied: debugpy<2.0,>=1.0.0 in /home/cvxluo/anaconda3/envs/nlp-4650-project/lib/python3.8/site-packages (from ipykernel>=4.5.1->ipywidgets->-r requirements.txt (line 4)) (1.4.1)\n",
            "Requirement already satisfied: matplotlib-inline<0.2.0,>=0.1.0 in /home/cvxluo/anaconda3/envs/nlp-4650-project/lib/python3.8/site-packages (from ipykernel>=4.5.1->ipywidgets->-r requirements.txt (line 4)) (0.1.2)\n",
            "Requirement already satisfied: jupyter-client<8.0 in /home/cvxluo/anaconda3/envs/nlp-4650-project/lib/python3.8/site-packages (from ipykernel>=4.5.1->ipywidgets->-r requirements.txt (line 4)) (7.0.1)\n",
            "Requirement already satisfied: setuptools>=18.5 in /home/cvxluo/anaconda3/envs/nlp-4650-project/lib/python3.8/site-packages (from ipython->jupyterlab->-r requirements.txt (line 3)) (58.0.4)\n",
            "Requirement already satisfied: jedi>=0.16 in /home/cvxluo/anaconda3/envs/nlp-4650-project/lib/python3.8/site-packages (from ipython->jupyterlab->-r requirements.txt (line 3)) (0.18.0)\n",
            "Requirement already satisfied: prompt-toolkit!=3.0.0,!=3.0.1,<3.1.0,>=2.0.0 in /home/cvxluo/anaconda3/envs/nlp-4650-project/lib/python3.8/site-packages (from ipython->jupyterlab->-r requirements.txt (line 3)) (3.0.20)\n",
            "Requirement already satisfied: backcall in /home/cvxluo/anaconda3/envs/nlp-4650-project/lib/python3.8/site-packages (from ipython->jupyterlab->-r requirements.txt (line 3)) (0.2.0)\n",
            "Requirement already satisfied: decorator in /home/cvxluo/anaconda3/envs/nlp-4650-project/lib/python3.8/site-packages (from ipython->jupyterlab->-r requirements.txt (line 3)) (5.1.0)\n",
            "Requirement already satisfied: pygments in /home/cvxluo/anaconda3/envs/nlp-4650-project/lib/python3.8/site-packages (from ipython->jupyterlab->-r requirements.txt (line 3)) (2.10.0)\n",
            "Requirement already satisfied: pickleshare in /home/cvxluo/anaconda3/envs/nlp-4650-project/lib/python3.8/site-packages (from ipython->jupyterlab->-r requirements.txt (line 3)) (0.7.5)\n",
            "Requirement already satisfied: pexpect>4.3 in /home/cvxluo/anaconda3/envs/nlp-4650-project/lib/python3.8/site-packages (from ipython->jupyterlab->-r requirements.txt (line 3)) (4.8.0)\n",
            "Requirement already satisfied: parso<0.9.0,>=0.8.0 in /home/cvxluo/anaconda3/envs/nlp-4650-project/lib/python3.8/site-packages (from jedi>=0.16->ipython->jupyterlab->-r requirements.txt (line 3)) (0.8.2)\n",
            "Requirement already satisfied: MarkupSafe>=2.0 in /home/cvxluo/anaconda3/envs/nlp-4650-project/lib/python3.8/site-packages (from jinja2>=2.1->jupyterlab->-r requirements.txt (line 3)) (2.0.1)\n",
            "Requirement already satisfied: pyzmq>=13 in /home/cvxluo/anaconda3/envs/nlp-4650-project/lib/python3.8/site-packages (from jupyter-client<8.0->ipykernel>=4.5.1->ipywidgets->-r requirements.txt (line 4)) (22.2.1)\n",
            "Requirement already satisfied: entrypoints in /home/cvxluo/anaconda3/envs/nlp-4650-project/lib/python3.8/site-packages (from jupyter-client<8.0->ipykernel>=4.5.1->ipywidgets->-r requirements.txt (line 4)) (0.3)\n",
            "Requirement already satisfied: nest-asyncio>=1.5 in /home/cvxluo/anaconda3/envs/nlp-4650-project/lib/python3.8/site-packages (from jupyter-client<8.0->ipykernel>=4.5.1->ipywidgets->-r requirements.txt (line 4)) (1.5.1)\n",
            "Requirement already satisfied: requests-unixsocket in /home/cvxluo/anaconda3/envs/nlp-4650-project/lib/python3.8/site-packages (from jupyter-server~=1.4->jupyterlab->-r requirements.txt (line 3)) (0.2.0)\n",
            "Requirement already satisfied: argon2-cffi in /home/cvxluo/anaconda3/envs/nlp-4650-project/lib/python3.8/site-packages (from jupyter-server~=1.4->jupyterlab->-r requirements.txt (line 3)) (20.1.0)\n",
            "Requirement already satisfied: prometheus-client in /home/cvxluo/anaconda3/envs/nlp-4650-project/lib/python3.8/site-packages (from jupyter-server~=1.4->jupyterlab->-r requirements.txt (line 3)) (0.11.0)\n",
            "Requirement already satisfied: terminado>=0.8.3 in /home/cvxluo/anaconda3/envs/nlp-4650-project/lib/python3.8/site-packages (from jupyter-server~=1.4->jupyterlab->-r requirements.txt (line 3)) (0.9.4)\n",
            "Requirement already satisfied: nbconvert in /home/cvxluo/anaconda3/envs/nlp-4650-project/lib/python3.8/site-packages (from jupyter-server~=1.4->jupyterlab->-r requirements.txt (line 3)) (6.1.0)\n",
            "Requirement already satisfied: websocket-client in /home/cvxluo/anaconda3/envs/nlp-4650-project/lib/python3.8/site-packages (from jupyter-server~=1.4->jupyterlab->-r requirements.txt (line 3)) (1.2.1)\n",
            "Requirement already satisfied: anyio<4,>=3.1.0 in /home/cvxluo/anaconda3/envs/nlp-4650-project/lib/python3.8/site-packages (from jupyter-server~=1.4->jupyterlab->-r requirements.txt (line 3)) (3.3.4)\n",
            "Requirement already satisfied: Send2Trash in /home/cvxluo/anaconda3/envs/nlp-4650-project/lib/python3.8/site-packages (from jupyter-server~=1.4->jupyterlab->-r requirements.txt (line 3)) (1.8.0)\n",
            "Requirement already satisfied: idna>=2.8 in /home/cvxluo/anaconda3/envs/nlp-4650-project/lib/python3.8/site-packages (from anyio<4,>=3.1.0->jupyter-server~=1.4->jupyterlab->-r requirements.txt (line 3)) (3.2)\n",
            "Requirement already satisfied: sniffio>=1.1 in /home/cvxluo/anaconda3/envs/nlp-4650-project/lib/python3.8/site-packages (from anyio<4,>=3.1.0->jupyter-server~=1.4->jupyterlab->-r requirements.txt (line 3)) (1.2.0)\n",
            "Requirement already satisfied: babel in /home/cvxluo/anaconda3/envs/nlp-4650-project/lib/python3.8/site-packages (from jupyterlab-server~=2.3->jupyterlab->-r requirements.txt (line 3)) (2.9.1)\n",
            "Requirement already satisfied: json5 in /home/cvxluo/anaconda3/envs/nlp-4650-project/lib/python3.8/site-packages (from jupyterlab-server~=2.3->jupyterlab->-r requirements.txt (line 3)) (0.9.6)\n",
            "Requirement already satisfied: jsonschema>=3.0.1 in /home/cvxluo/anaconda3/envs/nlp-4650-project/lib/python3.8/site-packages (from jupyterlab-server~=2.3->jupyterlab->-r requirements.txt (line 3)) (3.2.0)\n",
            "Requirement already satisfied: attrs>=17.4.0 in /home/cvxluo/anaconda3/envs/nlp-4650-project/lib/python3.8/site-packages (from jsonschema>=3.0.1->jupyterlab-server~=2.3->jupyterlab->-r requirements.txt (line 3)) (21.2.0)\n",
            "Requirement already satisfied: pyrsistent>=0.14.0 in /home/cvxluo/anaconda3/envs/nlp-4650-project/lib/python3.8/site-packages (from jsonschema>=3.0.1->jupyterlab-server~=2.3->jupyterlab->-r requirements.txt (line 3)) (0.17.3)\n",
            "Requirement already satisfied: notebook<7 in /home/cvxluo/anaconda3/envs/nlp-4650-project/lib/python3.8/site-packages (from nbclassic~=0.2->jupyterlab->-r requirements.txt (line 3)) (6.4.3)\n",
            "Requirement already satisfied: ptyprocess>=0.5 in /home/cvxluo/anaconda3/envs/nlp-4650-project/lib/python3.8/site-packages (from pexpect>4.3->ipython->jupyterlab->-r requirements.txt (line 3)) (0.7.0)\n",
            "Requirement already satisfied: wcwidth in /home/cvxluo/anaconda3/envs/nlp-4650-project/lib/python3.8/site-packages (from prompt-toolkit!=3.0.0,!=3.0.1,<3.1.0,>=2.0.0->ipython->jupyterlab->-r requirements.txt (line 3)) (0.2.5)\n",
            "Requirement already satisfied: charset-normalizer~=2.0.0 in /home/cvxluo/anaconda3/envs/nlp-4650-project/lib/python3.8/site-packages (from requests<3,>=2.11.1->tweepy->-r requirements.txt (line 1)) (2.0.4)\n",
            "Requirement already satisfied: certifi>=2017.4.17 in /home/cvxluo/anaconda3/envs/nlp-4650-project/lib/python3.8/site-packages (from requests<3,>=2.11.1->tweepy->-r requirements.txt (line 1)) (2021.10.8)\n",
            "Requirement already satisfied: urllib3<1.27,>=1.21.1 in /home/cvxluo/anaconda3/envs/nlp-4650-project/lib/python3.8/site-packages (from requests<3,>=2.11.1->tweepy->-r requirements.txt (line 1)) (1.26.7)\n",
            "Requirement already satisfied: oauthlib>=3.0.0 in /home/cvxluo/anaconda3/envs/nlp-4650-project/lib/python3.8/site-packages (from requests-oauthlib<2,>=1.0.0->tweepy->-r requirements.txt (line 1)) (3.1.1)\n",
            "Requirement already satisfied: cffi>=1.0.0 in /home/cvxluo/anaconda3/envs/nlp-4650-project/lib/python3.8/site-packages (from argon2-cffi->jupyter-server~=1.4->jupyterlab->-r requirements.txt (line 3)) (1.14.6)\n",
            "Requirement already satisfied: pycparser in /home/cvxluo/anaconda3/envs/nlp-4650-project/lib/python3.8/site-packages (from cffi>=1.0.0->argon2-cffi->jupyter-server~=1.4->jupyterlab->-r requirements.txt (line 3)) (2.20)\n",
            "Requirement already satisfied: bleach in /home/cvxluo/anaconda3/envs/nlp-4650-project/lib/python3.8/site-packages (from nbconvert->jupyter-server~=1.4->jupyterlab->-r requirements.txt (line 3)) (4.0.0)\n",
            "Requirement already satisfied: nbclient<0.6.0,>=0.5.0 in /home/cvxluo/anaconda3/envs/nlp-4650-project/lib/python3.8/site-packages (from nbconvert->jupyter-server~=1.4->jupyterlab->-r requirements.txt (line 3)) (0.5.3)\n",
            "Requirement already satisfied: mistune<2,>=0.8.1 in /home/cvxluo/anaconda3/envs/nlp-4650-project/lib/python3.8/site-packages (from nbconvert->jupyter-server~=1.4->jupyterlab->-r requirements.txt (line 3)) (0.8.4)\n",
            "Requirement already satisfied: jupyterlab-pygments in /home/cvxluo/anaconda3/envs/nlp-4650-project/lib/python3.8/site-packages (from nbconvert->jupyter-server~=1.4->jupyterlab->-r requirements.txt (line 3)) (0.1.2)\n",
            "Requirement already satisfied: pandocfilters>=1.4.1 in /home/cvxluo/anaconda3/envs/nlp-4650-project/lib/python3.8/site-packages (from nbconvert->jupyter-server~=1.4->jupyterlab->-r requirements.txt (line 3)) (1.4.3)\n",
            "Requirement already satisfied: testpath in /home/cvxluo/anaconda3/envs/nlp-4650-project/lib/python3.8/site-packages (from nbconvert->jupyter-server~=1.4->jupyterlab->-r requirements.txt (line 3)) (0.5.0)\n",
            "Requirement already satisfied: defusedxml in /home/cvxluo/anaconda3/envs/nlp-4650-project/lib/python3.8/site-packages (from nbconvert->jupyter-server~=1.4->jupyterlab->-r requirements.txt (line 3)) (0.7.1)\n",
            "Requirement already satisfied: async-generator in /home/cvxluo/anaconda3/envs/nlp-4650-project/lib/python3.8/site-packages (from nbclient<0.6.0,>=0.5.0->nbconvert->jupyter-server~=1.4->jupyterlab->-r requirements.txt (line 3)) (1.10)\n",
            "Requirement already satisfied: webencodings in /home/cvxluo/anaconda3/envs/nlp-4650-project/lib/python3.8/site-packages (from bleach->nbconvert->jupyter-server~=1.4->jupyterlab->-r requirements.txt (line 3)) (0.5.1)\n"
          ]
        }
      ]
    },
    {
      "cell_type": "code",
      "metadata": {
        "id": "Z_3WDhl34Cqg"
      },
      "source": [
        "# Imports\n",
        "import string\n",
        "import re\n",
        "import random\n",
        "import csv\n",
        "\n",
        "import torch\n",
        "import torch.nn as nn\n",
        "from torch import optim\n",
        "from torch.utils.data import DataLoader, Dataset\n",
        "import torch.nn.functional as F\n",
        "import torchtext\n",
        "from torchtext.legacy import data\n",
        "from torchtext.data.metrics import bleu_score\n",
        "import pandas as pd\n",
        "import time\n",
        "import math\n",
        "import numpy as np\n",
        "\n",
        "# Plotting\n",
        "# for colab\n",
        "%matplotlib inline \n",
        "# for local notebook\n",
        "# %matplotlib notebook \n",
        "import matplotlib.pyplot as plt\n",
        "\n",
        "from dataset import *\n",
        "\n",
        "device = torch.device(\"cuda\" if torch.cuda.is_available() else \"cpu\")\n",
        "print(device)"
      ],
      "execution_count": 3,
      "outputs": [
        {
          "output_type": "stream",
          "name": "stdout",
          "text": [
            "cuda\n"
          ]
        }
      ]
    },
    {
      "cell_type": "code",
      "metadata": {
        "id": "Fr_0il6Mm4Pr"
      },
      "source": [
        "def asMinutes(s):\n",
        "    m = math.floor(s / 60)\n",
        "    s -= m * 60\n",
        "    return '%dm %ds' % (m, s)\n",
        "\n",
        "\n",
        "def timeSince(since, percent):\n",
        "    now = time.time()\n",
        "    s = now - since\n",
        "    es = s / (percent)\n",
        "    rs = es - s\n",
        "    return '%s (- %s)' % (asMinutes(s), asMinutes(rs))"
      ],
      "execution_count": 4,
      "outputs": []
    },
    {
      "cell_type": "code",
      "execution_count": 5,
      "metadata": {},
      "outputs": [],
      "source": [
        "def sentence_to_index(sentence, stoi) :\n",
        "    return [stoi.get(ch) if ch in stoi else stoi['<UNK>'] for ch in sentence]\n",
        "\n",
        "def index_to_sentence(indices, itos) :\n",
        "    return [itos[id] for id in indices]    "
      ]
    },
    {
      "cell_type": "code",
      "execution_count": 6,
      "metadata": {},
      "outputs": [],
      "source": [
        "class TwitterDataset(Dataset):\n",
        "    def __init__(self, df: pd.DataFrame, vocab: torchtext.vocab.Vocab) -> None:\n",
        "        super().__init__()\n",
        "        self.df = df\n",
        "        self.vocab = vocab\n",
        "        self.vocab_stoi = vocab.get_stoi()\n",
        "        self.vocab_itos = vocab.get_itos()\n",
        "\n",
        "    def __len__(self) -> int:\n",
        "        return len(self.df)\n",
        "\n",
        "    def __getitem__(self, index: int) -> torch.Tensor:\n",
        "        sample = self.df.iloc[index]\n",
        "        tweet = sample['text']\n",
        "        tweet_ch = ['<BOS>'] + tweet.strip().split() + ['<EOS>']\n",
        "        tweet_indices = sentence_to_index(tweet_ch, self.vocab_stoi)\n",
        "        tweet_tensor = torch.tensor(tweet_indices, dtype=torch.long).unsqueeze(0)\n",
        "\n",
        "        return tweet_tensor"
      ]
    },
    {
      "cell_type": "code",
      "execution_count": 7,
      "metadata": {
        "tags": []
      },
      "outputs": [],
      "source": [
        "# https://github.com/stanfordnlp/GloVe\n",
        "\n",
        "def load_glove() :\n",
        "    words = []\n",
        "    idx = 0\n",
        "    word2idx = {}\n",
        "    vectors = []\n",
        "\n",
        "    with open('glove.6B.50d.txt', 'rb') as f:\n",
        "        for l in f:\n",
        "            line = l.decode().split()\n",
        "            word = line[0]\n",
        "            words.append(word)\n",
        "            word2idx[word] = idx\n",
        "            idx += 1\n",
        "            vect = np.array(line[1:]).astype(np.float)\n",
        "            vectors.append(vect)\n",
        "\n",
        "            if not idx % 100000 :\n",
        "                print(idx, 'loaded')\n",
        "\n",
        "    glove = {w: vectors[word2idx[w]] for w in words}\n",
        "\n",
        "    return vectors"
      ]
    },
    {
      "cell_type": "code",
      "metadata": {
        "id": "C685c5DC-rZw"
      },
      "source": [
        "class TextGenerator(nn.Module):\n",
        "    def __init__(self, vocab_size, hidden_size, n_layers=1, use_embeds=False):\n",
        "        super(TextGenerator, self).__init__()\n",
        "        # self.use_embeds = use_embeds\n",
        "        self.num_layers = n_layers\n",
        "        self.hidden_size = hidden_size\n",
        "        self.vocab_size = vocab_size\n",
        "\n",
        "        self.encoder = nn.Embedding(self.vocab_size, self.hidden_size)\n",
        "\n",
        "        if use_embeds :\n",
        "            glove_embeddings = torch.tensor(np.array(load_glove()), dtype=torch.float)\n",
        "            self.encoder = nn.Embedding.from_pretrained(glove_embeddings)\n",
        "            self.hidden_size = glove_embeddings.shape[1]\n",
        "\n",
        "        self.rnn = nn.GRU(\n",
        "            self.hidden_size,\n",
        "            self.hidden_size,\n",
        "            self.num_layers,\n",
        "            batch_first=True\n",
        "        )\n",
        "        self.decoder = nn.Linear(self.hidden_size, self.vocab_size)\n",
        "    \n",
        "    def forward(self, input, hidden):\n",
        "        input = self.encoder(input)              # encode input using embedding layer\n",
        "        output, hidden = self.rnn(input, hidden) # get the next output and hidden state\n",
        "        output = self.decoder(output)            # predict distribution over next tokens\n",
        "        return output, hidden\n",
        "\n",
        "    def init_hidden(self, batch_size):\n",
        "        return torch.zeros(self.num_layers, batch_size, self.hidden_size, device=device)"
      ],
      "execution_count": 129,
      "outputs": []
    },
    {
      "cell_type": "code",
      "metadata": {
        "id": "jxAGJ4xg_fpt"
      },
      "source": [
        "def sample_sequence(model, vocab, start_sequence=[\"<BOS>\"], max_len=100, temperature=0.8):\n",
        "    generated_sequence = \"\"\n",
        "    vocab_stoi = vocab.get_stoi()\n",
        "    vocab_itos = vocab.get_itos()\n",
        "    inputs = torch.tensor(sentence_to_index(start_sequence, vocab_stoi), dtype=torch.long, device=device)\n",
        "    hidden = model.init_hidden(1)\n",
        "    for p in range(max_len):\n",
        "        output, hidden = model(inputs.unsqueeze(0), hidden)\n",
        "        # Sample from the network as a multinomial distribution\n",
        "        output_dist = output.data.view(-1).div(temperature).exp()\n",
        "        top_i = int(torch.multinomial(output_dist, 1)[0])\n",
        "        # Add predicted character to string and use as next input\n",
        "        predicted_char = vocab_itos[top_i] # if top_i in range(len(vocab_itos)) else \"UNK\"\n",
        "        \n",
        "        if predicted_char == \"<EOS>\":\n",
        "            break\n",
        "        generated_sequence += predicted_char + \" \"      \n",
        "        inputs = torch.tensor([top_i], dtype=torch.long, device=device)\n",
        "    return generated_sequence"
      ],
      "execution_count": 130,
      "outputs": []
    },
    {
      "cell_type": "code",
      "metadata": {
        "id": "qM264whjAHLu",
        "colab": {
          "base_uri": "https://localhost:8080/"
        },
        "outputId": "98f25a17-7456-41eb-b6bc-6fcfea815ea6",
        "tags": []
      },
      "source": [
        "df = load_dataset('cnn')\n",
        "tweets = df['text'].apply(lambda x: x.strip().split()).tolist()\n",
        "special_tokens = ['<BOS>', '<EOS>', '<UNK>']\n",
        "vocab = torchtext.vocab.build_vocab_from_iterator(tweets,\n",
        "                                                  min_freq=2,\n",
        "                                                  specials=special_tokens)\n",
        "vocab_stoi = vocab.get_stoi()\n",
        "vocab_itos = vocab.get_itos()\n",
        "vocab_size = len(vocab)\n",
        "dataset = TwitterDataset(df, vocab)"
      ],
      "execution_count": 131,
      "outputs": [
        {
          "output_type": "stream",
          "name": "stderr",
          "text": [
            "/home/cvxluo/Documents/Projects/Alive/nlp-4650-project/dataset.py:46: UserWarning: Boolean Series key will be reindexed to match DataFrame index.\n  df = df[filter]\n"
          ]
        }
      ]
    },
    {
      "cell_type": "code",
      "execution_count": 132,
      "metadata": {
        "tags": []
      },
      "outputs": [
        {
          "output_type": "stream",
          "name": "stdout",
          "text": [
            "['<BOS>', 'Family', 'lawyer:', 'Michigan', 'man', 'shot', 'by', 'U.S.', 'forces', 'in', 'Iraq', '2', '<EOS>']\n"
          ]
        }
      ],
      "source": [
        "example = dataset[5].squeeze()\n",
        "print(index_to_sentence(example, vocab_itos))"
      ]
    },
    {
      "cell_type": "code",
      "metadata": {
        "id": "4wUuCthDKJjM"
      },
      "source": [
        "def train(model, iterator, vocab, batch_size=1, num_epochs=1, lr=0.001, print_every=100):\n",
        "    optimizer = torch.optim.Adam(model.parameters(), lr=lr)\n",
        "    criterion = nn.CrossEntropyLoss()\n",
        "    it = 0\n",
        "    model.zero_grad()\n",
        "\n",
        "    candidates = []\n",
        "    references = []\n",
        "    \n",
        "    losses = []\n",
        "    bleu_scores = []\n",
        "    perplexities = []\n",
        "\n",
        "    for e in range(num_epochs):\n",
        "        # get training set\n",
        "        avg_loss = 0\n",
        "        avg_perplexity = 0\n",
        "        hidden = model.init_hidden(batch_size)\n",
        "\n",
        "        for tweet in iterator:\n",
        "            tweet = tweet.view(1, -1).to(device)\n",
        "            target = tweet[:, 1:]\n",
        "            input = tweet[:, :-1]\n",
        "\n",
        "            # cleanup\n",
        "            optimizer.zero_grad()\n",
        "            # forward pass\n",
        "            output, hidden = model(input, hidden)\n",
        "            loss = criterion(output.reshape(-1, vocab_size), target.reshape(-1))\n",
        "            hidden = hidden.detach()\n",
        "\n",
        "            # backward pass\n",
        "            loss.backward()\n",
        "            optimizer.step()\n",
        "\n",
        "            avg_loss += loss\n",
        "            avg_perplexity += math.exp(loss)\n",
        "            it += 1 # increment iteration count\n",
        "            if it % print_every == 0:\n",
        "                '''\n",
        "                # BLEU score calculation\n",
        "                candidates = [sample_sequence(model, vocab, temperature=0.6).split()] # for i in range(3)]\n",
        "                reference_corp = list(map(lambda ids : index_to_sentence(ids.squeeze(), vocab_itos), iterator))\n",
        "                references = [reference_corp] # for i in range(3)]\n",
        "                bleu = bleu_score(candidate_corpus=candidates, references_corpus=references, max_n=4)\n",
        "                '''\n",
        "                bleu = 0\n",
        "\n",
        "                print(\"[Epoch %d Iter %d] Loss %f, BLEU %f\" % (e+1, it+1, float(avg_loss/print_every), bleu))\n",
        "                print(\"    \" + sample_sequence(model, vocab))\n",
        "                losses.append(avg_loss.item())\n",
        "                bleu_scores.append(bleu)\n",
        "                perplexities.append(avg_perplexity)\n",
        "                avg_perplexity = 0\n",
        "                avg_loss = 0\n",
        "\n",
        "\n",
        "    return losses, bleu_scores, perplexities"
      ],
      "execution_count": 133,
      "outputs": []
    },
    {
      "cell_type": "code",
      "metadata": {
        "id": "d7p2Or35KSIS"
      },
      "source": [
        "hidden_size = 256\n",
        "n_layers = 1\n",
        "batch_size = 1\n",
        "lr = 0.001\n",
        "num_epochs = 10\n",
        "USE_EMBEDS = True\n",
        "# Note that if we use pretrained embeddings, our hidden size parameter will be ignored\n",
        "\n",
        "data_iterator = DataLoader(dataset, batch_size=batch_size, shuffle=True)\n",
        "model = TextGenerator(vocab_size, hidden_size, n_layers=n_layers, use_embeds=USE_EMBEDS).to(device)"
      ],
      "execution_count": 134,
      "outputs": [
        {
          "output_type": "stream",
          "name": "stdout",
          "text": [
            "100000 loaded\n",
            "200000 loaded\n",
            "300000 loaded\n",
            "400000 loaded\n"
          ]
        }
      ]
    },
    {
      "cell_type": "code",
      "metadata": {
        "colab": {
          "base_uri": "https://localhost:8080/"
        },
        "id": "Z2UkCgibX8OB",
        "outputId": "dd63ed44-cba7-4013-fa41-0667314d8895",
        "tags": []
      },
      "source": [
        "avg_losses, bleu_scores, perplexities = train(model, data_iterator, vocab, batch_size=batch_size, num_epochs=num_epochs, lr=lr, print_every=500)"
      ],
      "execution_count": 128,
      "outputs": [
        {
          "output_type": "stream",
          "name": "stdout",
          "text": [
            "01,  1.0209e+00],\n",
            "         [-6.1106e-02,  9.2698e-01, -2.4740e-02, -8.2404e-01,  3.5838e-01,\n",
            "           5.1235e-01, -1.7368e+00, -7.7074e-02, -5.2803e-01, -9.1106e-01,\n",
            "          -8.9816e-01,  1.3488e+00, -5.2135e-01, -6.8333e-01, -6.1652e-05,\n",
            "          -2.2163e-01,  3.4219e-02, -8.0921e-01, -1.0316e+00, -3.3231e-01,\n",
            "          -2.6263e-01,  2.1177e-01, -1.6616e-01, -6.3857e-01,  5.6367e-02,\n",
            "          -1.8269e+00, -1.9825e-01, -9.0269e-01, -7.0902e-01,  5.5313e-01,\n",
            "           1.7004e+00, -7.5809e-01,  5.5337e-03, -6.1740e-01,  5.4148e-01,\n",
            "          -4.1653e-01,  2.9324e-01, -2.4988e-01,  2.9099e-01, -4.1196e-01,\n",
            "           5.5186e-01,  1.1609e+00, -1.0677e+00, -2.3122e-01,  2.8835e-01,\n",
            "           7.2285e-01, -5.9046e-01, -9.2790e-01, -8.2795e-01,  1.0663e+00],\n",
            "         [ 3.9119e-01,  3.4992e-01,  2.2498e-01,  1.1417e-01,  3.1087e-01,\n",
            "          -5.2257e-01, -9.2955e-01,  2.5335e-01, -8.9138e-02, -4.2545e-01,\n",
            "          -3.1354e-01, -4.5698e-01, -6.4173e-01,  3.1926e-01,  1.0812e+00,\n",
            "           6.1861e-01,  2.8539e-02, -3.4201e-01, -6.8273e-01, -2.5298e-01,\n",
            "           4.3399e-01, -2.6450e-01, -5.7452e-02,  8.2656e-03,  1.5807e-02,\n",
            "          -1.5390e+00,  2.8407e-01,  1.4952e-01, -7.4397e-02, -1.8124e-01,\n",
            "           3.5567e+00,  6.3548e-01, -7.6356e-01,  2.1495e-01,  2.3488e-01,\n",
            "          -3.0534e-01,  4.6327e-01,  6.4019e-01,  7.7317e-02, -8.8417e-01,\n",
            "          -7.1713e-01, -1.6503e-01, -2.1991e-01, -3.8886e-01, -2.6111e-01,\n",
            "           5.8742e-01,  2.9305e-01, -2.0466e-01, -5.9552e-03,  1.7460e-01],\n",
            "         [ 9.5192e-01,  9.9283e-01, -1.5287e-01, -7.7903e-01, -2.4984e-01,\n",
            "           3.7628e-01,  1.1657e-01,  1.1348e-01, -1.1825e+00, -4.9891e-01,\n",
            "          -4.6036e-01, -4.5906e-01, -6.0123e-01,  3.7626e-01,  3.9146e-01,\n",
            "           2.9509e-02, -3.9764e-01, -7.5952e-01,  3.1875e-01, -4.1625e-01,\n",
            "          -4.8372e-03,  5.3232e-01, -8.3829e-02, -5.3647e-01,  5.3770e-01,\n",
            "          -1.6273e+00,  3.2241e-01,  8.4304e-01, -6.6668e-01,  1.4676e+00,\n",
            "           1.1750e+00,  1.2635e+00, -1.6294e+00,  1.9796e-01, -8.9596e-01,\n",
            "          -1.0951e+00,  2.5345e-01,  8.9321e-01, -1.0027e+00, -1.9992e-01,\n",
            "           5.8659e-01,  4.4695e-01,  6.8556e-02, -1.0654e+00,  3.3701e-01,\n",
            "           3.0686e-01, -1.2909e+00,  5.6395e-01,  1.0235e+00, -3.3371e-01],\n",
            "         [ 2.6818e-01,  1.4346e-01, -2.7877e-01,  1.6257e-02,  1.1384e-01,\n",
            "           6.9923e-01, -5.1332e-01, -4.7368e-01, -3.3075e-01, -1.3834e-01,\n",
            "           2.7020e-01,  3.0938e-01, -4.5012e-01, -4.1270e-01, -9.9320e-02,\n",
            "           3.8085e-02,  2.9749e-02,  1.0076e-01, -2.5058e-01, -5.1818e-01,\n",
            "           3.4558e-01,  4.4922e-01,  4.8791e-01, -8.0866e-02, -1.0121e-01,\n",
            "          -1.3777e+00, -1.0866e-01, -2.3201e-01,  1.2839e-02, -4.6508e-01,\n",
            "           3.8463e+00,  3.1362e-01,  1.3643e-01, -5.2244e-01,  3.3020e-01,\n",
            "           3.3707e-01, -3.5601e-01,  3.2431e-01,  1.2041e-01,  3.5120e-01,\n",
            "          -6.9043e-02,  3.6885e-01,  2.5168e-01, -2.4517e-01,  2.5381e-01,\n",
            "           1.3670e-01, -3.1178e-01, -6.3210e-01, -2.5028e-01, -3.8097e-01],\n",
            "         [ 6.6511e-01, -5.5496e-01,  1.5286e-01,  8.9360e-01,  4.3323e-01,\n",
            "          -7.5294e-01, -2.0703e-01, -1.2228e-01,  7.2996e-01,  9.0656e-01,\n",
            "           6.1766e-01,  9.0013e-01, -1.3084e+00,  7.8166e-01, -4.8755e-01,\n",
            "          -5.7645e-01, -2.5130e-01, -1.4413e-01, -8.2928e-01,  1.2282e-01,\n",
            "          -4.8911e-01,  1.2155e+00,  9.4470e-01,  7.7887e-01, -3.6720e-01,\n",
            "           3.9918e-01,  4.1133e-01,  3.2424e-01,  4.6459e-02, -4.4795e-01,\n",
            "           1.0682e+00,  1.1839e-01,  1.5367e-01,  3.3354e-01,  5.6978e-01,\n",
            "          -3.1384e-01,  5.3577e-03, -3.2120e-01, -3.4289e-01,  3.2076e-01,\n",
            "           3.1979e-01,  1.0896e+00, -3.8963e-01, -1.2718e+00, -1.3807e+00,\n",
            "           4.2139e-01, -1.7913e-01, -9.6964e-01,  2.9192e-01,  8.6985e-01],\n",
            "         [ 1.5164e-01,  3.0177e-01, -1.6763e-01,  1.7684e-01,  3.1719e-01,\n",
            "           3.3973e-01, -4.3478e-01, -3.1086e-01, -4.4999e-01, -2.9486e-01,\n",
            "           1.6608e-01,  1.1963e-01, -4.1328e-01, -4.2353e-01,  5.9868e-01,\n",
            "           2.8825e-01, -1.1547e-01, -4.1848e-02, -6.7989e-01, -2.5063e-01,\n",
            "           1.8472e-01,  8.6876e-02,  4.6582e-01,  1.5035e-02,  4.3474e-02,\n",
            "          -1.4671e+00, -3.0384e-01, -2.3441e-02,  3.0589e-01, -2.1785e-01,\n",
            "           3.7460e+00,  4.2284e-03, -1.8436e-01, -4.6209e-01,  9.8329e-02,\n",
            "          -1.1907e-01,  2.3919e-01,  1.1610e-01,  4.1705e-01,  5.6763e-02,\n",
            "          -6.3681e-05,  6.8987e-02,  8.7939e-02, -1.0285e-01, -1.3931e-01,\n",
            "           2.2314e-01, -8.0803e-02, -3.5652e-01,  1.6413e-02,  1.0216e-01],\n",
            "         [ 8.9466e-01,  3.6604e-01,  3.7588e-01, -4.1818e-01,  5.8462e-01,\n",
            "           1.8594e-01, -4.1907e-01, -4.6621e-01, -5.4903e-01,  2.4770e-02,\n",
            "          -9.0816e-01, -4.8271e-01, -5.0742e-02, -7.4039e-01,  1.4377e+00,\n",
            "          -1.9740e-02, -2.3840e-01,  4.3154e-01, -6.6120e-01, -4.1275e-01,\n",
            "           2.5475e-01,  9.3498e-01,  8.1404e-01, -1.7296e-01,  6.1296e-01,\n",
            "          -1.8475e+00, -2.7616e-01,  2.7701e-01,  4.2347e-01, -1.1599e-01,\n",
            "           3.6243e+00,  1.2306e-01, -2.3526e-02, -2.4843e-01, -2.2376e-01,\n",
            "          -5.3941e-01, -6.2444e-01, -2.7711e-01,  4.9406e-01,  2.0234e-02,\n",
            "          -2.3460e-01,  4.4512e-01,  5.3397e-01,  6.6654e-01, -9.3662e-02,\n",
            "          -3.5203e-02, -6.4194e-02,  5.5998e-01, -6.6593e-01,  1.2177e-01],\n",
            "         [ 9.4911e-01, -3.4968e-01,  4.8125e-01, -1.9306e-01, -8.8384e-03,\n",
            "           2.8182e-01, -9.6130e-01, -1.3581e-01, -4.3083e-01, -9.2933e-02,\n",
            "           1.5689e-01,  5.9585e-02, -4.9635e-01, -1.7414e-01,  7.5661e-01,\n",
            "           4.9210e-01,  2.1773e-01, -2.2778e-01, -1.3686e-01, -9.0589e-01,\n",
            "          -4.8781e-01,  1.9919e-01,  9.1447e-01, -1.6203e-01, -2.0645e-01,\n",
            "          -1.7312e+00, -4.7622e-01, -4.8540e-02, -1.4027e-01, -4.5828e-01,\n",
            "           4.0326e+00,  6.0520e-01,  1.0448e-01, -7.3610e-01,  2.4850e-01,\n",
            "          -3.3461e-02, -1.3395e-01,  5.2782e-02, -2.7268e-01,  7.9825e-02,\n",
            "          -8.0127e-01,  3.0831e-01,  4.3567e-01,  8.8747e-01,  2.9816e-01,\n",
            "          -2.4650e-02, -9.5075e-01,  3.6233e-01, -7.2512e-01, -6.0890e-01],\n",
            "         [ 1.5272e-01,  3.6181e-01, -2.2168e-01,  6.6051e-02,  1.3029e-01,\n",
            "           3.7075e-01, -7.5874e-01, -4.4722e-01,  2.2563e-01,  1.0208e-01,\n",
            "           5.4225e-02,  1.3494e-01, -4.3052e-01, -2.1340e-01,  5.6139e-01,\n",
            "          -2.1445e-01,  7.7974e-02,  1.0137e-01, -5.1306e-01, -4.0295e-01,\n",
            "           4.0639e-01,  2.3309e-01,  2.0696e-01, -1.2668e-01, -5.0634e-01,\n",
            "          -1.7131e+00,  7.7183e-02, -3.9138e-01, -1.0594e-01, -2.3743e-01,\n",
            "           3.9552e+00,  6.6596e-01, -6.1841e-01, -3.2680e-01,  3.7021e-01,\n",
            "           2.5764e-01,  3.8977e-01,  2.7121e-01,  4.3024e-02, -3.4322e-01,\n",
            "           2.0339e-02,  2.1420e-01,  4.4097e-02,  1.4003e-01, -2.0079e-01,\n",
            "           7.4794e-02, -3.6076e-01,  4.3382e-01, -8.4617e-02,  1.2140e-01],\n",
            "         [ 7.0853e-01,  5.7088e-01, -4.7160e-01,  1.8048e-01,  5.4449e-01,\n",
            "           7.2603e-01,  1.8157e-01, -5.2393e-01,  1.0381e-01, -1.7566e-01,\n",
            "           7.8852e-02, -3.6216e-01, -1.1829e-01, -8.3336e-01,  1.1917e-01,\n",
            "          -1.6605e-01,  6.1555e-02, -1.2719e-02, -5.6623e-01,  1.3616e-02,\n",
            "           2.2851e-01, -1.4396e-01, -6.7549e-02, -3.8157e-01, -2.3698e-01,\n",
            "          -1.7037e+00, -8.6692e-01, -2.6704e-01, -2.5890e-01,  1.7670e-01,\n",
            "           3.8676e+00, -1.6130e-01, -1.3273e-01, -6.8881e-01,  1.8444e-01,\n",
            "           5.2464e-03, -3.3874e-01, -7.8956e-02,  2.4185e-01,  3.6576e-01,\n",
            "          -3.4727e-01,  2.8483e-01,  7.5693e-02, -6.2178e-02, -3.8988e-01,\n",
            "           2.2902e-01, -2.1617e-01, -2.2562e-01, -9.3918e-02, -8.0375e-01],\n",
            "         [ 1.6467e-01,  4.5617e-01, -1.0946e-01, -1.1187e-01,  3.2895e-01,\n",
            "           6.0214e-01,  1.6244e-01, -7.1332e-01, -7.2385e-01,  5.4046e-01,\n",
            "          -1.8869e-02, -5.4255e-01,  3.8041e-01, -2.9355e-01, -3.4445e-01,\n",
            "           9.1307e-02, -3.9348e-01, -4.7011e-01, -1.9732e-01, -7.6051e-01,\n",
            "          -2.4486e-01,  9.1600e-02,  1.1437e-02, -4.7787e-01,  2.1308e-01,\n",
            "          -7.2743e-01, -5.1220e-01,  4.3272e-01, -1.0836e-02,  7.1255e-01,\n",
            "           2.6155e+00,  9.5236e-02,  6.0307e-01, -8.0700e-01,  4.5785e-02,\n",
            "          -4.8072e-01, -3.5269e-01,  4.3369e-01, -6.9256e-01, -3.9228e-01,\n",
            "          -5.3024e-03,  4.3702e-01, -6.7492e-02,  1.3434e-01,  7.3410e-02,\n",
            "           1.2548e-01,  9.8300e-02,  2.1389e-01, -2.0880e-01,  2.8631e-01]]],\n",
            "       device='cuda:0')\n",
            "tensor([[[ 4.1800e-01,  2.4968e-01, -4.1242e-01,  1.2170e-01,  3.4527e-01,\n",
            "          -4.4457e-02, -4.9688e-01, -1.7862e-01, -6.6023e-04, -6.5660e-01,\n",
            "           2.7843e-01, -1.4767e-01, -5.5677e-01,  1.4658e-01, -9.5095e-03,\n",
            "           1.1658e-02,  1.0204e-01, -1.2792e-01, -8.4430e-01, -1.2181e-01,\n",
            "          -1.6801e-02, -3.3279e-01, -1.5520e-01, -2.3131e-01, -1.9181e-01,\n",
            "          -1.8823e+00, -7.6746e-01,  9.9051e-02, -4.2125e-01, -1.9526e-01,\n",
            "           4.0071e+00, -1.8594e-01, -5.2287e-01, -3.1681e-01,  5.9213e-04,\n",
            "           7.4449e-03,  1.7778e-01, -1.5897e-01,  1.2041e-02, -5.4223e-02,\n",
            "          -2.9871e-01, -1.5749e-01, -3.4758e-01, -4.5637e-02, -4.4251e-01,\n",
            "           1.8785e-01,  2.7849e-03, -1.8411e-01, -1.1514e-01, -7.8581e-01],\n",
            "         [ 1.5164e-01,  3.0177e-01, -1.6763e-01,  1.7684e-01,  3.1719e-01,\n",
            "           3.3973e-01, -4.3478e-01, -3.1086e-01, -4.4999e-01, -2.9486e-01,\n",
            "           1.6608e-01,  1.1963e-01, -4.1328e-01, -4.2353e-01,  5.9868e-01,\n",
            "           2.8825e-01, -1.1547e-01, -4.1848e-02, -6.7989e-01, -2.5063e-01,\n",
            "           1.8472e-01,  8.6876e-02,  4.6582e-01,  1.5035e-02,  4.3474e-02,\n",
            "          -1.4671e+00, -3.0384e-01, -2.3441e-02,  3.0589e-01, -2.1785e-01,\n",
            "           3.7460e+00,  4.2284e-03, -1.8436e-01, -4.6209e-01,  9.8329e-02,\n",
            "          -1.1907e-01,  2.3919e-01,  1.1610e-01,  4.1705e-01,  5.6763e-02,\n",
            "          -6.3681e-05,  6.8987e-02,  8.7939e-02, -1.0285e-01, -1.3931e-01,\n",
            "           2.2314e-01, -8.0803e-02, -3.5652e-01,  1.6413e-02,  1.0216e-01],\n",
            "         [-1.6768e-01,  1.2151e+00,  4.9515e-01,  2.6836e-01, -4.5850e-01,\n",
            "          -2.3311e-01, -5.2822e-01, -1.3557e+00,  1.6098e-01,  3.7691e-01,\n",
            "          -9.2702e-01, -4.3904e-01, -1.0634e+00,  1.0280e+00,  5.3943e-03,\n",
            "           4.1530e-02, -1.8638e-02, -5.5451e-01,  2.6166e-02,  2.8066e-01,\n",
            "          -6.6245e-01,  2.3435e-01,  2.4510e-01,  2.5668e-02, -1.0869e+00,\n",
            "          -2.8440e+00, -5.1272e-01,  2.7286e-01,  7.1502e-03,  3.3984e-02,\n",
            "           3.9084e+00,  5.2766e-01, -6.6899e-01,  1.8238e+00,  4.3436e-01,\n",
            "          -3.0084e-01, -2.6996e-01,  4.3940e-01,  6.9956e-01,  1.4885e-01,\n",
            "           2.9453e-02,  1.4888e+00,  5.2361e-01,  9.9354e-02,  1.2515e+00,\n",
            "           9.9381e-02, -7.9261e-02, -3.0862e-01,  3.0893e-01,  1.1023e-01],\n",
            "         [ 1.5164e-01,  3.0177e-01, -1.6763e-01,  1.7684e-01,  3.1719e-01,\n",
            "           3.3973e-01, -4.3478e-01, -3.1086e-01, -4.4999e-01, -2.9486e-01,\n",
            "           1.6608e-01,  1.1963e-01, -4.1328e-01, -4.2353e-01,  5.9868e-01,\n",
            "           2.8825e-01, -1.1547e-01, -4.1848e-02, -6.7989e-01, -2.5063e-01,\n",
            "           1.8472e-01,  8.6876e-02,  4.6582e-01,  1.5035e-02,  4.3474e-02,\n",
            "          -1.4671e+00, -3.0384e-01, -2.3441e-02,  3.0589e-01, -2.1785e-01,\n",
            "           3.7460e+00,  4.2284e-03, -1.8436e-01, -4.6209e-01,  9.8329e-02,\n",
            "          -1.1907e-01,  2.3919e-01,  1.1610e-01,  4.1705e-01,  5.6763e-02,\n",
            "          -6.3681e-05,  6.8987e-02,  8.7939e-02, -1.0285e-01, -1.3931e-01,\n",
            "           2.2314e-01, -8.0803e-02, -3.5652e-01,  1.6413e-02,  1.0216e-01],\n",
            "         [-3.5290e-01,  4.0084e-01,  7.8817e-01,  2.3485e-02,  2.5018e-01,\n",
            "           4.3323e-01, -7.6438e-01, -1.6819e-01, -4.7921e-01, -4.6198e-01,\n",
            "          -8.7745e-02, -7.5746e-01, -4.5215e-01, -2.7435e-01,  8.9360e-01,\n",
            "          -5.7327e-01, -8.7674e-01, -4.0272e-01, -1.6636e+00,  7.3166e-01,\n",
            "           5.8405e-01,  1.0490e-01,  1.1528e+00, -2.0980e-01, -7.1302e-01,\n",
            "          -6.0422e-01,  7.4701e-01, -7.1666e-01,  9.2796e-02,  3.0186e-01,\n",
            "           2.7274e+00, -4.8856e-02, -3.7272e-01,  1.5233e-01,  7.5981e-01,\n",
            "          -4.6130e-01,  7.5876e-01,  2.6840e-01,  4.2265e-01,  2.4772e-01,\n",
            "          -3.6102e-01, -2.6264e-01,  6.6179e-01, -7.6379e-01, -8.9632e-01,\n",
            "           4.6482e-01, -5.8338e-01, -6.8574e-01,  3.0293e-01,  1.4929e-01],\n",
            "         [ 3.3076e-01, -4.3870e-01, -3.2163e-01, -4.9310e-01,  1.0254e-01,\n",
            "          -2.7421e-03, -5.1720e-01,  2.4336e-02, -1.2816e-01,  1.4349e-01,\n",
            "          -1.6691e-01,  5.6121e-01, -5.6241e-01, -4.0972e-02,  7.5000e-01,\n",
            "           2.3084e-01,  5.3204e-01, -4.0973e-02,  2.6892e-01, -6.9238e-01,\n",
            "           2.7883e-01,  3.7911e-01,  5.6390e-01, -3.8150e-01,  7.2132e-01,\n",
            "          -1.3562e+00, -8.1717e-01, -5.4842e-02,  5.7333e-01, -8.5489e-01,\n",
            "           3.1889e+00,  1.9918e-01, -4.2120e-01, -9.0427e-01, -1.9521e-01,\n",
            "           3.0111e-01,  4.6756e-01,  8.2130e-01,  6.0552e-02, -1.6143e-01,\n",
            "          -2.6668e-01, -1.7660e-01,  1.5820e-02,  2.5528e-01, -9.6739e-02,\n",
            "          -9.7282e-02, -8.4483e-02,  3.3312e-01, -2.2252e-01,  7.4457e-01],\n",
            "         [ 1.5164e-01,  3.0177e-01, -1.6763e-01,  1.7684e-01,  3.1719e-01,\n",
            "           3.3973e-01, -4.3478e-01, -3.1086e-01, -4.4999e-01, -2.9486e-01,\n",
            "           1.6608e-01,  1.1963e-01, -4.1328e-01, -4.2353e-01,  5.9868e-01,\n",
            "           2.8825e-01, -1.1547e-01, -4.1848e-02, -6.7989e-01, -2.5063e-01,\n",
            "           1.8472e-01,  8.6876e-02,  4.6582e-01,  1.5035e-02,  4.3474e-02,\n",
            "          -1.4671e+00, -3.0384e-01, -2.3441e-02,  3.0589e-01, -2.1785e-01,\n",
            "           3.7460e+00,  4.2284e-03, -1.8436e-01, -4.6209e-01,  9.8329e-02,\n",
            "          -1.1907e-01,  2.3919e-01,  1.1610e-01,  4.1705e-01,  5.6763e-02,\n",
            "          -6.3681e-05,  6.8987e-02,  8.7939e-02, -1.0285e-01, -1.3931e-01,\n",
            "           2.2314e-01, -8.0803e-02, -3.5652e-01,  1.6413e-02,  1.0216e-01]]],\n",
            "       device='cuda:0')\n",
            "tensor([[[ 0.4180,  0.2497, -0.4124,  ..., -0.1841, -0.1151, -0.7858],\n",
            "         [ 0.9456, -0.5613, -0.6108,  ...,  0.9537, -0.7052, -0.1391],\n",
            "         [ 0.4772, -0.2469, -0.4350,  ...,  0.1982,  0.2806, -0.3536],\n",
            "         ...,\n",
            "         [-1.2283,  1.0385, -0.5368,  ...,  0.0288, -0.1891,  0.6428],\n",
            "         [ 0.1516,  0.3018, -0.1676,  ..., -0.3565,  0.0164,  0.1022],\n",
            "         [ 0.0808, -0.4312,  0.1561,  ..., -0.0282, -0.5100,  0.6169]]],\n",
            "       device='cuda:0')\n",
            "tensor([[[ 4.1800e-01,  2.4968e-01, -4.1242e-01,  1.2170e-01,  3.4527e-01,\n",
            "          -4.4457e-02, -4.9688e-01, -1.7862e-01, -6.6023e-04, -6.5660e-01,\n",
            "           2.7843e-01, -1.4767e-01, -5.5677e-01,  1.4658e-01, -9.5095e-03,\n",
            "           1.1658e-02,  1.0204e-01, -1.2792e-01, -8.4430e-01, -1.2181e-01,\n",
            "          -1.6801e-02, -3.3279e-01, -1.5520e-01, -2.3131e-01, -1.9181e-01,\n",
            "          -1.8823e+00, -7.6746e-01,  9.9051e-02, -4.2125e-01, -1.9526e-01,\n",
            "           4.0071e+00, -1.8594e-01, -5.2287e-01, -3.1681e-01,  5.9213e-04,\n",
            "           7.4449e-03,  1.7778e-01, -1.5897e-01,  1.2041e-02, -5.4223e-02,\n",
            "          -2.9871e-01, -1.5749e-01, -3.4758e-01, -4.5637e-02, -4.4251e-01,\n",
            "           1.8785e-01,  2.7849e-03, -1.8411e-01, -1.1514e-01, -7.8581e-01],\n",
            "         [ 1.5164e-01,  3.0177e-01, -1.6763e-01,  1.7684e-01,  3.1719e-01,\n",
            "           3.3973e-01, -4.3478e-01, -3.1086e-01, -4.4999e-01, -2.9486e-01,\n",
            "           1.6608e-01,  1.1963e-01, -4.1328e-01, -4.2353e-01,  5.9868e-01,\n",
            "           2.8825e-01, -1.1547e-01, -4.1848e-02, -6.7989e-01, -2.5063e-01,\n",
            "           1.8472e-01,  8.6876e-02,  4.6582e-01,  1.5035e-02,  4.3474e-02,\n",
            "          -1.4671e+00, -3.0384e-01, -2.3441e-02,  3.0589e-01, -2.1785e-01,\n",
            "           3.7460e+00,  4.2284e-03, -1.8436e-01, -4.6209e-01,  9.8329e-02,\n",
            "          -1.1907e-01,  2.3919e-01,  1.1610e-01,  4.1705e-01,  5.6763e-02,\n",
            "          -6.3681e-05,  6.8987e-02,  8.7939e-02, -1.0285e-01, -1.3931e-01,\n",
            "           2.2314e-01, -8.0803e-02, -3.5652e-01,  1.6413e-02,  1.0216e-01],\n",
            "         [ 8.0520e-01,  3.7121e-01,  5.5933e-01, -1.1405e-02,  1.7319e-01,\n",
            "           1.9500e-01,  5.7701e-02, -1.2447e-01, -1.1342e-02,  2.0654e-01,\n",
            "           4.1079e-01,  8.9578e-01,  3.1893e-01,  3.0787e-02,  6.0194e-01,\n",
            "           1.2023e+00,  6.8283e-01, -1.3267e-01,  1.6984e-01, -1.4674e+00,\n",
            "          -4.1844e-01, -4.7395e-01,  7.2670e-01,  6.1088e-01,  4.4584e-01,\n",
            "          -1.4793e+00, -5.0037e-01, -1.2249e-01,  7.5994e-01, -7.7112e-01,\n",
            "           3.9653e+00,  3.8077e-01, -6.4390e-01, -8.4899e-01,  7.5540e-02,\n",
            "           1.7522e-01,  3.0117e-01,  1.2964e-01,  2.7253e-01, -3.2951e-01,\n",
            "           3.4211e-01,  1.5608e-01,  2.0953e-01,  9.7948e-01,  3.5927e-01,\n",
            "           1.9116e-01,  4.5494e-01, -1.8950e-01, -2.0902e-01,  4.7612e-01],\n",
            "         [ 1.0046e+00,  1.0915e+00, -4.9453e-01,  1.0203e-01,  1.4289e+00,\n",
            "          -8.6457e-01,  1.1843e-01, -2.8614e-01, -2.6157e-01,  2.3669e-02,\n",
            "          -6.6223e-01, -2.0835e-01,  6.7103e-01, -6.9952e-01, -1.5391e-01,\n",
            "           7.4996e-01,  7.7216e-01,  4.3044e-01, -6.5000e-01,  1.3065e+00,\n",
            "           3.0494e-01, -2.8992e-01, -7.4185e-01, -4.5312e-01,  6.4352e-01,\n",
            "          -7.1536e-01, -3.4850e-01, -4.7793e-01, -1.2760e+00, -1.1282e+00,\n",
            "           1.9814e+00, -8.0851e-01,  2.0259e-02, -2.8356e-01,  1.4718e-01,\n",
            "           6.3024e-01,  1.1015e+00, -2.9296e-01,  9.4952e-02,  7.7966e-01,\n",
            "          -9.2054e-01, -3.9856e-01, -1.3357e+00,  8.4538e-01,  3.7231e-01,\n",
            "           2.9657e-01, -4.2326e-01, -1.4540e+00,  4.1360e-02, -1.3405e+00],\n",
            "         [ 5.7387e-01, -3.2729e-01,  7.0521e-02, -4.1980e-01,  8.6200e-01,\n",
            "          -8.0001e-01, -4.0604e-01,  1.5312e-01, -2.9788e-01, -1.1050e-01,\n",
            "          -9.7119e-02,  5.9642e-01, -9.9814e-01, -2.8148e-01,  1.0152e+00,\n",
            "           8.7544e-01,  1.0282e+00, -5.0360e-02,  2.4194e-01, -1.1426e+00,\n",
            "          -5.0601e-01,  6.4976e-01,  7.4833e-01,  2.0473e-02,  9.5950e-01,\n",
            "          -1.9204e+00, -8.0656e-01,  2.9247e-01,  1.0009e+00, -9.8565e-01,\n",
            "           4.0094e+00,  1.0407e+00, -8.2849e-01, -4.8470e-01, -3.6146e-01,\n",
            "          -3.9552e-01,  2.7891e-01,  1.5312e-01,  1.5848e-01,  1.8686e-02,\n",
            "          -5.0905e-01, -2.2916e-01,  1.8680e-01,  4.4946e-01,  1.0229e-01,\n",
            "           2.1882e-01, -3.0608e-01,  4.8759e-01, -1.8439e-01,  6.9939e-01],\n",
            "         [ 5.2125e-01, -3.3878e-03,  8.1485e-01,  4.9424e-02,  5.0668e-01,\n",
            "          -9.5911e-01,  3.1231e-01, -4.5548e-01,  5.2073e-01, -1.5376e+00,\n",
            "          -4.4826e-01, -3.6463e-01, -8.0871e-01,  2.5262e-01, -1.6081e-01,\n",
            "           5.6050e-01, -1.6230e-02, -2.3822e-01,  8.3667e-01, -3.1576e-02,\n",
            "           4.5841e-01,  7.0073e-01, -4.4999e-01, -5.6300e-01, -6.3356e-01,\n",
            "          -2.0531e+00,  5.5847e-01,  4.0415e-02,  1.5785e-01,  5.3227e-01,\n",
            "           3.4865e+00,  2.4928e-01, -9.1953e-01, -1.1876e+00, -1.8295e-01,\n",
            "           7.6939e-01,  2.9916e-01, -7.2577e-01, -6.5898e-01,  3.9304e-01,\n",
            "          -3.4360e-01,  3.6399e-01,  8.5622e-01, -3.0890e-01,  2.1141e-01,\n",
            "          -3.2681e-01, -5.6317e-01,  1.2145e+00,  1.8532e-01,  6.3210e-02],\n",
            "         [ 2.8514e-01,  8.6243e-01, -7.4840e-01, -5.5045e-02, -7.4512e-01,\n",
            "          -1.8680e+00, -5.8317e-01,  2.6677e-01, -2.6454e-01,  9.7167e-01,\n",
            "          -1.5623e-01, -5.5056e-01,  3.7575e-01,  4.8452e-01,  2.9933e-01,\n",
            "          -5.4104e-01, -1.0208e+00, -1.1522e-01, -7.7005e-03,  5.5467e-01,\n",
            "           1.7524e-01,  6.9460e-01, -4.4417e-01,  8.4706e-02, -4.8087e-01,\n",
            "          -1.0391e+00,  7.2816e-01,  6.7371e-01,  4.0436e-01, -2.9108e-01,\n",
            "           1.1165e+00,  1.1398e-02, -6.7995e-01, -3.1161e-01, -5.9182e-01,\n",
            "          -6.7345e-01, -1.2396e-01,  3.1721e-01, -1.6369e-01,  1.0378e+00,\n",
            "          -5.2533e-01,  3.4077e-01,  1.1541e+00, -5.2374e-01, -1.8129e-01,\n",
            "           4.8074e-01, -8.2683e-01, -9.3021e-01, -3.2241e-01, -4.1571e-01]]],\n",
            "       device='cuda:0')\n",
            "tensor([[[ 4.1800e-01,  2.4968e-01, -4.1242e-01,  ..., -1.8411e-01,\n",
            "          -1.1514e-01, -7.8581e-01],\n",
            "         [-3.1575e-01,  7.4461e-01, -1.1566e-01,  ..., -8.2834e-01,\n",
            "           1.0107e-01,  2.4414e-02],\n",
            "         [ 7.8080e-01, -5.0892e-02,  1.3434e+00,  ...,  3.5387e-01,\n",
            "          -1.3548e+00, -2.9974e-01],\n",
            "         ...,\n",
            "         [-5.0169e-02, -2.1908e-01, -3.0202e-01,  ..., -5.7698e-01,\n",
            "          -6.4793e-01,  6.9950e-01],\n",
            "         [ 5.1491e-01,  8.8806e-01, -7.1906e-01,  ..., -9.9837e-01,\n",
            "          -6.6328e-02,  1.3118e-01],\n",
            "         [-5.3160e-01, -2.6971e-01,  2.8537e-01,  ..., -2.7574e-01,\n",
            "           3.6688e-04, -1.4718e-01]]], device='cuda:0')\n"
          ]
        },
        {
          "output_type": "error",
          "ename": "KeyboardInterrupt",
          "evalue": "",
          "traceback": [
            "\u001b[0;31m---------------------------------------------------------------------------\u001b[0m",
            "\u001b[0;31mKeyboardInterrupt\u001b[0m                         Traceback (most recent call last)",
            "\u001b[0;32m/tmp/ipykernel_16420/778073050.py\u001b[0m in \u001b[0;36m<module>\u001b[0;34m\u001b[0m\n\u001b[0;32m----> 1\u001b[0;31m \u001b[0mavg_losses\u001b[0m\u001b[0;34m,\u001b[0m \u001b[0mbleu_scores\u001b[0m\u001b[0;34m,\u001b[0m \u001b[0mperplexities\u001b[0m \u001b[0;34m=\u001b[0m \u001b[0mtrain\u001b[0m\u001b[0;34m(\u001b[0m\u001b[0mmodel\u001b[0m\u001b[0;34m,\u001b[0m \u001b[0mdata_iterator\u001b[0m\u001b[0;34m,\u001b[0m \u001b[0mvocab\u001b[0m\u001b[0;34m,\u001b[0m \u001b[0mbatch_size\u001b[0m\u001b[0;34m=\u001b[0m\u001b[0mbatch_size\u001b[0m\u001b[0;34m,\u001b[0m \u001b[0mnum_epochs\u001b[0m\u001b[0;34m=\u001b[0m\u001b[0mnum_epochs\u001b[0m\u001b[0;34m,\u001b[0m \u001b[0mlr\u001b[0m\u001b[0;34m=\u001b[0m\u001b[0mlr\u001b[0m\u001b[0;34m,\u001b[0m \u001b[0mprint_every\u001b[0m\u001b[0;34m=\u001b[0m\u001b[0;36m500\u001b[0m\u001b[0;34m)\u001b[0m\u001b[0;34m\u001b[0m\u001b[0;34m\u001b[0m\u001b[0m\n\u001b[0m",
            "\u001b[0;32m/tmp/ipykernel_16420/4232564015.py\u001b[0m in \u001b[0;36mtrain\u001b[0;34m(model, iterator, vocab, batch_size, num_epochs, lr, print_every)\u001b[0m\n\u001b[1;32m     26\u001b[0m             \u001b[0moptimizer\u001b[0m\u001b[0;34m.\u001b[0m\u001b[0mzero_grad\u001b[0m\u001b[0;34m(\u001b[0m\u001b[0;34m)\u001b[0m\u001b[0;34m\u001b[0m\u001b[0;34m\u001b[0m\u001b[0m\n\u001b[1;32m     27\u001b[0m             \u001b[0;31m# forward pass\u001b[0m\u001b[0;34m\u001b[0m\u001b[0;34m\u001b[0m\u001b[0;34m\u001b[0m\u001b[0m\n\u001b[0;32m---> 28\u001b[0;31m             \u001b[0moutput\u001b[0m\u001b[0;34m,\u001b[0m \u001b[0mhidden\u001b[0m \u001b[0;34m=\u001b[0m \u001b[0mmodel\u001b[0m\u001b[0;34m(\u001b[0m\u001b[0minput\u001b[0m\u001b[0;34m,\u001b[0m \u001b[0mhidden\u001b[0m\u001b[0;34m)\u001b[0m\u001b[0;34m\u001b[0m\u001b[0;34m\u001b[0m\u001b[0m\n\u001b[0m\u001b[1;32m     29\u001b[0m             \u001b[0mloss\u001b[0m \u001b[0;34m=\u001b[0m \u001b[0mcriterion\u001b[0m\u001b[0;34m(\u001b[0m\u001b[0moutput\u001b[0m\u001b[0;34m.\u001b[0m\u001b[0mreshape\u001b[0m\u001b[0;34m(\u001b[0m\u001b[0;34m-\u001b[0m\u001b[0;36m1\u001b[0m\u001b[0;34m,\u001b[0m \u001b[0mvocab_size\u001b[0m\u001b[0;34m)\u001b[0m\u001b[0;34m,\u001b[0m \u001b[0mtarget\u001b[0m\u001b[0;34m.\u001b[0m\u001b[0mreshape\u001b[0m\u001b[0;34m(\u001b[0m\u001b[0;34m-\u001b[0m\u001b[0;36m1\u001b[0m\u001b[0;34m)\u001b[0m\u001b[0;34m)\u001b[0m\u001b[0;34m\u001b[0m\u001b[0;34m\u001b[0m\u001b[0m\n\u001b[1;32m     30\u001b[0m             \u001b[0mhidden\u001b[0m \u001b[0;34m=\u001b[0m \u001b[0mhidden\u001b[0m\u001b[0;34m.\u001b[0m\u001b[0mdetach\u001b[0m\u001b[0;34m(\u001b[0m\u001b[0;34m)\u001b[0m\u001b[0;34m\u001b[0m\u001b[0;34m\u001b[0m\u001b[0m\n",
            "\u001b[0;32m~/anaconda3/envs/nlp-4650-project/lib/python3.8/site-packages/torch/nn/modules/module.py\u001b[0m in \u001b[0;36m_call_impl\u001b[0;34m(self, *input, **kwargs)\u001b[0m\n\u001b[1;32m   1100\u001b[0m         if not (self._backward_hooks or self._forward_hooks or self._forward_pre_hooks or _global_backward_hooks\n\u001b[1;32m   1101\u001b[0m                 or _global_forward_hooks or _global_forward_pre_hooks):\n\u001b[0;32m-> 1102\u001b[0;31m             \u001b[0;32mreturn\u001b[0m \u001b[0mforward_call\u001b[0m\u001b[0;34m(\u001b[0m\u001b[0;34m*\u001b[0m\u001b[0minput\u001b[0m\u001b[0;34m,\u001b[0m \u001b[0;34m**\u001b[0m\u001b[0mkwargs\u001b[0m\u001b[0;34m)\u001b[0m\u001b[0;34m\u001b[0m\u001b[0;34m\u001b[0m\u001b[0m\n\u001b[0m\u001b[1;32m   1103\u001b[0m         \u001b[0;31m# Do not call functions when jit is used\u001b[0m\u001b[0;34m\u001b[0m\u001b[0;34m\u001b[0m\u001b[0;34m\u001b[0m\u001b[0m\n\u001b[1;32m   1104\u001b[0m         \u001b[0mfull_backward_hooks\u001b[0m\u001b[0;34m,\u001b[0m \u001b[0mnon_full_backward_hooks\u001b[0m \u001b[0;34m=\u001b[0m \u001b[0;34m[\u001b[0m\u001b[0;34m]\u001b[0m\u001b[0;34m,\u001b[0m \u001b[0;34m[\u001b[0m\u001b[0;34m]\u001b[0m\u001b[0;34m\u001b[0m\u001b[0;34m\u001b[0m\u001b[0m\n",
            "\u001b[0;32m/tmp/ipykernel_16420/1000446185.py\u001b[0m in \u001b[0;36mforward\u001b[0;34m(self, input, hidden)\u001b[0m\n\u001b[1;32m     24\u001b[0m     \u001b[0;32mdef\u001b[0m \u001b[0mforward\u001b[0m\u001b[0;34m(\u001b[0m\u001b[0mself\u001b[0m\u001b[0;34m,\u001b[0m \u001b[0minput\u001b[0m\u001b[0;34m,\u001b[0m \u001b[0mhidden\u001b[0m\u001b[0;34m)\u001b[0m\u001b[0;34m:\u001b[0m\u001b[0;34m\u001b[0m\u001b[0;34m\u001b[0m\u001b[0m\n\u001b[1;32m     25\u001b[0m         \u001b[0minput\u001b[0m \u001b[0;34m=\u001b[0m \u001b[0mself\u001b[0m\u001b[0;34m.\u001b[0m\u001b[0mencoder\u001b[0m\u001b[0;34m(\u001b[0m\u001b[0minput\u001b[0m\u001b[0;34m)\u001b[0m              \u001b[0;31m# encode input using embedding layer\u001b[0m\u001b[0;34m\u001b[0m\u001b[0;34m\u001b[0m\u001b[0m\n\u001b[0;32m---> 26\u001b[0;31m         \u001b[0mprint\u001b[0m\u001b[0;34m(\u001b[0m\u001b[0minput\u001b[0m\u001b[0;34m)\u001b[0m\u001b[0;34m\u001b[0m\u001b[0;34m\u001b[0m\u001b[0m\n\u001b[0m\u001b[1;32m     27\u001b[0m         \u001b[0moutput\u001b[0m\u001b[0;34m,\u001b[0m \u001b[0mhidden\u001b[0m \u001b[0;34m=\u001b[0m \u001b[0mself\u001b[0m\u001b[0;34m.\u001b[0m\u001b[0mrnn\u001b[0m\u001b[0;34m(\u001b[0m\u001b[0minput\u001b[0m\u001b[0;34m,\u001b[0m \u001b[0mhidden\u001b[0m\u001b[0;34m)\u001b[0m \u001b[0;31m# get the next output and hidden state\u001b[0m\u001b[0;34m\u001b[0m\u001b[0;34m\u001b[0m\u001b[0m\n\u001b[1;32m     28\u001b[0m         \u001b[0moutput\u001b[0m \u001b[0;34m=\u001b[0m \u001b[0mself\u001b[0m\u001b[0;34m.\u001b[0m\u001b[0mdecoder\u001b[0m\u001b[0;34m(\u001b[0m\u001b[0moutput\u001b[0m\u001b[0;34m)\u001b[0m            \u001b[0;31m# predict distribution over next tokens\u001b[0m\u001b[0;34m\u001b[0m\u001b[0;34m\u001b[0m\u001b[0m\n",
            "\u001b[0;32m~/anaconda3/envs/nlp-4650-project/lib/python3.8/site-packages/torch/_tensor.py\u001b[0m in \u001b[0;36m__repr__\u001b[0;34m(self)\u001b[0m\n\u001b[1;32m    247\u001b[0m             \u001b[0;32mreturn\u001b[0m \u001b[0mhandle_torch_function\u001b[0m\u001b[0;34m(\u001b[0m\u001b[0mTensor\u001b[0m\u001b[0;34m.\u001b[0m\u001b[0m__repr__\u001b[0m\u001b[0;34m,\u001b[0m \u001b[0;34m(\u001b[0m\u001b[0mself\u001b[0m\u001b[0;34m,\u001b[0m\u001b[0;34m)\u001b[0m\u001b[0;34m,\u001b[0m \u001b[0mself\u001b[0m\u001b[0;34m)\u001b[0m\u001b[0;34m\u001b[0m\u001b[0;34m\u001b[0m\u001b[0m\n\u001b[1;32m    248\u001b[0m         \u001b[0;31m# All strings are unicode in Python 3.\u001b[0m\u001b[0;34m\u001b[0m\u001b[0;34m\u001b[0m\u001b[0;34m\u001b[0m\u001b[0m\n\u001b[0;32m--> 249\u001b[0;31m         \u001b[0;32mreturn\u001b[0m \u001b[0mtorch\u001b[0m\u001b[0;34m.\u001b[0m\u001b[0m_tensor_str\u001b[0m\u001b[0;34m.\u001b[0m\u001b[0m_str\u001b[0m\u001b[0;34m(\u001b[0m\u001b[0mself\u001b[0m\u001b[0;34m)\u001b[0m\u001b[0;34m\u001b[0m\u001b[0;34m\u001b[0m\u001b[0m\n\u001b[0m\u001b[1;32m    250\u001b[0m \u001b[0;34m\u001b[0m\u001b[0m\n\u001b[1;32m    251\u001b[0m     \u001b[0;32mdef\u001b[0m \u001b[0mbackward\u001b[0m\u001b[0;34m(\u001b[0m\u001b[0mself\u001b[0m\u001b[0;34m,\u001b[0m \u001b[0mgradient\u001b[0m\u001b[0;34m=\u001b[0m\u001b[0;32mNone\u001b[0m\u001b[0;34m,\u001b[0m \u001b[0mretain_graph\u001b[0m\u001b[0;34m=\u001b[0m\u001b[0;32mNone\u001b[0m\u001b[0;34m,\u001b[0m \u001b[0mcreate_graph\u001b[0m\u001b[0;34m=\u001b[0m\u001b[0;32mFalse\u001b[0m\u001b[0;34m,\u001b[0m \u001b[0minputs\u001b[0m\u001b[0;34m=\u001b[0m\u001b[0;32mNone\u001b[0m\u001b[0;34m)\u001b[0m\u001b[0;34m:\u001b[0m\u001b[0;34m\u001b[0m\u001b[0;34m\u001b[0m\u001b[0m\n",
            "\u001b[0;32m~/anaconda3/envs/nlp-4650-project/lib/python3.8/site-packages/torch/_tensor_str.py\u001b[0m in \u001b[0;36m_str\u001b[0;34m(self)\u001b[0m\n\u001b[1;32m    413\u001b[0m \u001b[0;32mdef\u001b[0m \u001b[0m_str\u001b[0m\u001b[0;34m(\u001b[0m\u001b[0mself\u001b[0m\u001b[0;34m)\u001b[0m\u001b[0;34m:\u001b[0m\u001b[0;34m\u001b[0m\u001b[0;34m\u001b[0m\u001b[0m\n\u001b[1;32m    414\u001b[0m     \u001b[0;32mwith\u001b[0m \u001b[0mtorch\u001b[0m\u001b[0;34m.\u001b[0m\u001b[0mno_grad\u001b[0m\u001b[0;34m(\u001b[0m\u001b[0;34m)\u001b[0m\u001b[0;34m:\u001b[0m\u001b[0;34m\u001b[0m\u001b[0;34m\u001b[0m\u001b[0m\n\u001b[0;32m--> 415\u001b[0;31m         \u001b[0;32mreturn\u001b[0m \u001b[0m_str_intern\u001b[0m\u001b[0;34m(\u001b[0m\u001b[0mself\u001b[0m\u001b[0;34m)\u001b[0m\u001b[0;34m\u001b[0m\u001b[0;34m\u001b[0m\u001b[0m\n\u001b[0m",
            "\u001b[0;32m~/anaconda3/envs/nlp-4650-project/lib/python3.8/site-packages/torch/_tensor_str.py\u001b[0m in \u001b[0;36m_str_intern\u001b[0;34m(inp)\u001b[0m\n\u001b[1;32m    388\u001b[0m                     \u001b[0mtensor_str\u001b[0m \u001b[0;34m=\u001b[0m \u001b[0m_tensor_str\u001b[0m\u001b[0;34m(\u001b[0m\u001b[0mself\u001b[0m\u001b[0;34m.\u001b[0m\u001b[0mto_dense\u001b[0m\u001b[0;34m(\u001b[0m\u001b[0;34m)\u001b[0m\u001b[0;34m,\u001b[0m \u001b[0mindent\u001b[0m\u001b[0;34m)\u001b[0m\u001b[0;34m\u001b[0m\u001b[0;34m\u001b[0m\u001b[0m\n\u001b[1;32m    389\u001b[0m                 \u001b[0;32melse\u001b[0m\u001b[0;34m:\u001b[0m\u001b[0;34m\u001b[0m\u001b[0;34m\u001b[0m\u001b[0m\n\u001b[0;32m--> 390\u001b[0;31m                     \u001b[0mtensor_str\u001b[0m \u001b[0;34m=\u001b[0m \u001b[0m_tensor_str\u001b[0m\u001b[0;34m(\u001b[0m\u001b[0mself\u001b[0m\u001b[0;34m,\u001b[0m \u001b[0mindent\u001b[0m\u001b[0;34m)\u001b[0m\u001b[0;34m\u001b[0m\u001b[0;34m\u001b[0m\u001b[0m\n\u001b[0m\u001b[1;32m    391\u001b[0m \u001b[0;34m\u001b[0m\u001b[0m\n\u001b[1;32m    392\u001b[0m     \u001b[0;32mif\u001b[0m \u001b[0mself\u001b[0m\u001b[0;34m.\u001b[0m\u001b[0mlayout\u001b[0m \u001b[0;34m!=\u001b[0m \u001b[0mtorch\u001b[0m\u001b[0;34m.\u001b[0m\u001b[0mstrided\u001b[0m\u001b[0;34m:\u001b[0m\u001b[0;34m\u001b[0m\u001b[0;34m\u001b[0m\u001b[0m\n",
            "\u001b[0;32m~/anaconda3/envs/nlp-4650-project/lib/python3.8/site-packages/torch/_tensor_str.py\u001b[0m in \u001b[0;36m_tensor_str\u001b[0;34m(self, indent)\u001b[0m\n\u001b[1;32m    249\u001b[0m         \u001b[0;32mreturn\u001b[0m \u001b[0m_tensor_str_with_formatter\u001b[0m\u001b[0;34m(\u001b[0m\u001b[0mself\u001b[0m\u001b[0;34m,\u001b[0m \u001b[0mindent\u001b[0m\u001b[0;34m,\u001b[0m \u001b[0msummarize\u001b[0m\u001b[0;34m,\u001b[0m \u001b[0mreal_formatter\u001b[0m\u001b[0;34m,\u001b[0m \u001b[0mimag_formatter\u001b[0m\u001b[0;34m)\u001b[0m\u001b[0;34m\u001b[0m\u001b[0;34m\u001b[0m\u001b[0m\n\u001b[1;32m    250\u001b[0m     \u001b[0;32melse\u001b[0m\u001b[0;34m:\u001b[0m\u001b[0;34m\u001b[0m\u001b[0;34m\u001b[0m\u001b[0m\n\u001b[0;32m--> 251\u001b[0;31m         \u001b[0mformatter\u001b[0m \u001b[0;34m=\u001b[0m \u001b[0m_Formatter\u001b[0m\u001b[0;34m(\u001b[0m\u001b[0mget_summarized_data\u001b[0m\u001b[0;34m(\u001b[0m\u001b[0mself\u001b[0m\u001b[0;34m)\u001b[0m \u001b[0;32mif\u001b[0m \u001b[0msummarize\u001b[0m \u001b[0;32melse\u001b[0m \u001b[0mself\u001b[0m\u001b[0;34m)\u001b[0m\u001b[0;34m\u001b[0m\u001b[0;34m\u001b[0m\u001b[0m\n\u001b[0m\u001b[1;32m    252\u001b[0m         \u001b[0;32mreturn\u001b[0m \u001b[0m_tensor_str_with_formatter\u001b[0m\u001b[0;34m(\u001b[0m\u001b[0mself\u001b[0m\u001b[0;34m,\u001b[0m \u001b[0mindent\u001b[0m\u001b[0;34m,\u001b[0m \u001b[0msummarize\u001b[0m\u001b[0;34m,\u001b[0m \u001b[0mformatter\u001b[0m\u001b[0;34m)\u001b[0m\u001b[0;34m\u001b[0m\u001b[0;34m\u001b[0m\u001b[0m\n\u001b[1;32m    253\u001b[0m \u001b[0;34m\u001b[0m\u001b[0m\n",
            "\u001b[0;32m~/anaconda3/envs/nlp-4650-project/lib/python3.8/site-packages/torch/_tensor_str.py\u001b[0m in \u001b[0;36m__init__\u001b[0;34m(self, tensor)\u001b[0m\n\u001b[1;32m    123\u001b[0m                     \u001b[0mself\u001b[0m\u001b[0;34m.\u001b[0m\u001b[0msci_mode\u001b[0m \u001b[0;34m=\u001b[0m \u001b[0;32mTrue\u001b[0m\u001b[0;34m\u001b[0m\u001b[0;34m\u001b[0m\u001b[0m\n\u001b[1;32m    124\u001b[0m                     \u001b[0;32mfor\u001b[0m \u001b[0mvalue\u001b[0m \u001b[0;32min\u001b[0m \u001b[0mnonzero_finite_vals\u001b[0m\u001b[0;34m:\u001b[0m\u001b[0;34m\u001b[0m\u001b[0;34m\u001b[0m\u001b[0m\n\u001b[0;32m--> 125\u001b[0;31m                         \u001b[0mvalue_str\u001b[0m \u001b[0;34m=\u001b[0m \u001b[0;34m(\u001b[0m\u001b[0;34m'{{:.{}e}}'\u001b[0m\u001b[0;34m)\u001b[0m\u001b[0;34m.\u001b[0m\u001b[0mformat\u001b[0m\u001b[0;34m(\u001b[0m\u001b[0mPRINT_OPTS\u001b[0m\u001b[0;34m.\u001b[0m\u001b[0mprecision\u001b[0m\u001b[0;34m)\u001b[0m\u001b[0;34m.\u001b[0m\u001b[0mformat\u001b[0m\u001b[0;34m(\u001b[0m\u001b[0mvalue\u001b[0m\u001b[0;34m)\u001b[0m\u001b[0;34m\u001b[0m\u001b[0;34m\u001b[0m\u001b[0m\n\u001b[0m\u001b[1;32m    126\u001b[0m                         \u001b[0mself\u001b[0m\u001b[0;34m.\u001b[0m\u001b[0mmax_width\u001b[0m \u001b[0;34m=\u001b[0m \u001b[0mmax\u001b[0m\u001b[0;34m(\u001b[0m\u001b[0mself\u001b[0m\u001b[0;34m.\u001b[0m\u001b[0mmax_width\u001b[0m\u001b[0;34m,\u001b[0m \u001b[0mlen\u001b[0m\u001b[0;34m(\u001b[0m\u001b[0mvalue_str\u001b[0m\u001b[0;34m)\u001b[0m\u001b[0;34m)\u001b[0m\u001b[0;34m\u001b[0m\u001b[0;34m\u001b[0m\u001b[0m\n\u001b[1;32m    127\u001b[0m                 \u001b[0;32melse\u001b[0m\u001b[0;34m:\u001b[0m\u001b[0;34m\u001b[0m\u001b[0;34m\u001b[0m\u001b[0m\n",
            "\u001b[0;32m~/anaconda3/envs/nlp-4650-project/lib/python3.8/site-packages/torch/_tensor.py\u001b[0m in \u001b[0;36m__format__\u001b[0;34m(self, format_spec)\u001b[0m\n\u001b[1;32m    569\u001b[0m             \u001b[0;32mreturn\u001b[0m \u001b[0mhandle_torch_function\u001b[0m\u001b[0;34m(\u001b[0m\u001b[0mTensor\u001b[0m\u001b[0;34m.\u001b[0m\u001b[0m__format__\u001b[0m\u001b[0;34m,\u001b[0m \u001b[0;34m(\u001b[0m\u001b[0mself\u001b[0m\u001b[0;34m,\u001b[0m\u001b[0;34m)\u001b[0m\u001b[0;34m,\u001b[0m \u001b[0mself\u001b[0m\u001b[0;34m,\u001b[0m \u001b[0mformat_spec\u001b[0m\u001b[0;34m)\u001b[0m\u001b[0;34m\u001b[0m\u001b[0;34m\u001b[0m\u001b[0m\n\u001b[1;32m    570\u001b[0m         \u001b[0;32mif\u001b[0m \u001b[0mself\u001b[0m\u001b[0;34m.\u001b[0m\u001b[0mdim\u001b[0m\u001b[0;34m(\u001b[0m\u001b[0;34m)\u001b[0m \u001b[0;34m==\u001b[0m \u001b[0;36m0\u001b[0m\u001b[0;34m:\u001b[0m\u001b[0;34m\u001b[0m\u001b[0;34m\u001b[0m\u001b[0m\n\u001b[0;32m--> 571\u001b[0;31m             \u001b[0;32mreturn\u001b[0m \u001b[0mself\u001b[0m\u001b[0;34m.\u001b[0m\u001b[0mitem\u001b[0m\u001b[0;34m(\u001b[0m\u001b[0;34m)\u001b[0m\u001b[0;34m.\u001b[0m\u001b[0m__format__\u001b[0m\u001b[0;34m(\u001b[0m\u001b[0mformat_spec\u001b[0m\u001b[0;34m)\u001b[0m\u001b[0;34m\u001b[0m\u001b[0;34m\u001b[0m\u001b[0m\n\u001b[0m\u001b[1;32m    572\u001b[0m         \u001b[0;32mreturn\u001b[0m \u001b[0mobject\u001b[0m\u001b[0;34m.\u001b[0m\u001b[0m__format__\u001b[0m\u001b[0;34m(\u001b[0m\u001b[0mself\u001b[0m\u001b[0;34m,\u001b[0m \u001b[0mformat_spec\u001b[0m\u001b[0;34m)\u001b[0m\u001b[0;34m\u001b[0m\u001b[0;34m\u001b[0m\u001b[0m\n\u001b[1;32m    573\u001b[0m \u001b[0;34m\u001b[0m\u001b[0m\n",
            "\u001b[0;31mKeyboardInterrupt\u001b[0m: "
          ]
        }
      ]
    },
    {
      "cell_type": "code",
      "metadata": {
        "id": "a6b2XDJLBuO3",
        "colab": {
          "base_uri": "https://localhost:8080/"
        },
        "outputId": "616c24f6-e76a-4618-ce4f-82684c5b6a85"
      },
      "source": [
        "print(sample_sequence(model, vocab, temperature=0.6))"
      ],
      "execution_count": 14,
      "outputs": [
        {
          "output_type": "stream",
          "name": "stdout",
          "text": [
            "<UNK> \n"
          ]
        }
      ]
    },
    {
      "cell_type": "code",
      "execution_count": 18,
      "metadata": {},
      "outputs": [
        {
          "output_type": "stream",
          "name": "stdout",
          "text": [
            "Space Station planned for 1 \n"
          ]
        }
      ],
      "source": [
        "start = input()\n",
        "print(start + \" \" + sample_sequence(model, vocab, start_sequence=start.split(), temperature=0.6))"
      ]
    },
    {
      "cell_type": "code",
      "execution_count": 20,
      "metadata": {},
      "outputs": [
        {
          "output_type": "execute_result",
          "data": {
            "text/plain": [
              "[<matplotlib.lines.Line2D at 0x7f53ea54e0d0>]"
            ]
          },
          "metadata": {},
          "execution_count": 20
        },
        {
          "output_type": "display_data",
          "data": {
            "text/plain": "<Figure size 432x288 with 1 Axes>",
            "image/svg+xml": "<?xml version=\"1.0\" encoding=\"utf-8\" standalone=\"no\"?>\n<!DOCTYPE svg PUBLIC \"-//W3C//DTD SVG 1.1//EN\"\n  \"http://www.w3.org/Graphics/SVG/1.1/DTD/svg11.dtd\">\n<svg height=\"248.518125pt\" version=\"1.1\" viewBox=\"0 0 381.65 248.518125\" width=\"381.65pt\" xmlns=\"http://www.w3.org/2000/svg\" xmlns:xlink=\"http://www.w3.org/1999/xlink\">\n <metadata>\n  <rdf:RDF xmlns:cc=\"http://creativecommons.org/ns#\" xmlns:dc=\"http://purl.org/dc/elements/1.1/\" xmlns:rdf=\"http://www.w3.org/1999/02/22-rdf-syntax-ns#\">\n   <cc:Work>\n    <dc:type rdf:resource=\"http://purl.org/dc/dcmitype/StillImage\"/>\n    <dc:date>2021-12-02T12:54:20.596996</dc:date>\n    <dc:format>image/svg+xml</dc:format>\n    <dc:creator>\n     <cc:Agent>\n      <dc:title>Matplotlib v3.4.2, https://matplotlib.org/</dc:title>\n     </cc:Agent>\n    </dc:creator>\n   </cc:Work>\n  </rdf:RDF>\n </metadata>\n <defs>\n  <style type=\"text/css\">*{stroke-linecap:butt;stroke-linejoin:round;}</style>\n </defs>\n <g id=\"figure_1\">\n  <g id=\"patch_1\">\n   <path d=\"M -0 248.518125 \nL 381.65 248.518125 \nL 381.65 0 \nL -0 0 \nz\n\" style=\"fill:none;\"/>\n  </g>\n  <g id=\"axes_1\">\n   <g id=\"patch_2\">\n    <path d=\"M 39.65 224.64 \nL 374.45 224.64 \nL 374.45 7.2 \nL 39.65 7.2 \nz\n\" style=\"fill:#ffffff;\"/>\n   </g>\n   <g id=\"matplotlib.axis_1\">\n    <g id=\"xtick_1\">\n     <g id=\"line2d_1\">\n      <defs>\n       <path d=\"M 0 0 \nL 0 3.5 \n\" id=\"m8b43db0e30\" style=\"stroke:#000000;stroke-width:0.8;\"/>\n      </defs>\n      <g>\n       <use style=\"stroke:#000000;stroke-width:0.8;\" x=\"54.868182\" xlink:href=\"#m8b43db0e30\" y=\"224.64\"/>\n      </g>\n     </g>\n     <g id=\"text_1\">\n      <!-- 0 -->\n      <g transform=\"translate(51.686932 239.238437)scale(0.1 -0.1)\">\n       <defs>\n        <path d=\"M 2034 4250 \nQ 1547 4250 1301 3770 \nQ 1056 3291 1056 2328 \nQ 1056 1369 1301 889 \nQ 1547 409 2034 409 \nQ 2525 409 2770 889 \nQ 3016 1369 3016 2328 \nQ 3016 3291 2770 3770 \nQ 2525 4250 2034 4250 \nz\nM 2034 4750 \nQ 2819 4750 3233 4129 \nQ 3647 3509 3647 2328 \nQ 3647 1150 3233 529 \nQ 2819 -91 2034 -91 \nQ 1250 -91 836 529 \nQ 422 1150 422 2328 \nQ 422 3509 836 4129 \nQ 1250 4750 2034 4750 \nz\n\" id=\"DejaVuSans-30\" transform=\"scale(0.015625)\"/>\n       </defs>\n       <use xlink:href=\"#DejaVuSans-30\"/>\n      </g>\n     </g>\n    </g>\n    <g id=\"xtick_2\">\n     <g id=\"line2d_2\">\n      <g>\n       <use style=\"stroke:#000000;stroke-width:0.8;\" x=\"104.76386\" xlink:href=\"#m8b43db0e30\" y=\"224.64\"/>\n      </g>\n     </g>\n     <g id=\"text_2\">\n      <!-- 10 -->\n      <g transform=\"translate(98.40136 239.238437)scale(0.1 -0.1)\">\n       <defs>\n        <path d=\"M 794 531 \nL 1825 531 \nL 1825 4091 \nL 703 3866 \nL 703 4441 \nL 1819 4666 \nL 2450 4666 \nL 2450 531 \nL 3481 531 \nL 3481 0 \nL 794 0 \nL 794 531 \nz\n\" id=\"DejaVuSans-31\" transform=\"scale(0.015625)\"/>\n       </defs>\n       <use xlink:href=\"#DejaVuSans-31\"/>\n       <use x=\"63.623047\" xlink:href=\"#DejaVuSans-30\"/>\n      </g>\n     </g>\n    </g>\n    <g id=\"xtick_3\">\n     <g id=\"line2d_3\">\n      <g>\n       <use style=\"stroke:#000000;stroke-width:0.8;\" x=\"154.659538\" xlink:href=\"#m8b43db0e30\" y=\"224.64\"/>\n      </g>\n     </g>\n     <g id=\"text_3\">\n      <!-- 20 -->\n      <g transform=\"translate(148.297038 239.238437)scale(0.1 -0.1)\">\n       <defs>\n        <path d=\"M 1228 531 \nL 3431 531 \nL 3431 0 \nL 469 0 \nL 469 531 \nQ 828 903 1448 1529 \nQ 2069 2156 2228 2338 \nQ 2531 2678 2651 2914 \nQ 2772 3150 2772 3378 \nQ 2772 3750 2511 3984 \nQ 2250 4219 1831 4219 \nQ 1534 4219 1204 4116 \nQ 875 4013 500 3803 \nL 500 4441 \nQ 881 4594 1212 4672 \nQ 1544 4750 1819 4750 \nQ 2544 4750 2975 4387 \nQ 3406 4025 3406 3419 \nQ 3406 3131 3298 2873 \nQ 3191 2616 2906 2266 \nQ 2828 2175 2409 1742 \nQ 1991 1309 1228 531 \nz\n\" id=\"DejaVuSans-32\" transform=\"scale(0.015625)\"/>\n       </defs>\n       <use xlink:href=\"#DejaVuSans-32\"/>\n       <use x=\"63.623047\" xlink:href=\"#DejaVuSans-30\"/>\n      </g>\n     </g>\n    </g>\n    <g id=\"xtick_4\">\n     <g id=\"line2d_4\">\n      <g>\n       <use style=\"stroke:#000000;stroke-width:0.8;\" x=\"204.555216\" xlink:href=\"#m8b43db0e30\" y=\"224.64\"/>\n      </g>\n     </g>\n     <g id=\"text_4\">\n      <!-- 30 -->\n      <g transform=\"translate(198.192716 239.238437)scale(0.1 -0.1)\">\n       <defs>\n        <path d=\"M 2597 2516 \nQ 3050 2419 3304 2112 \nQ 3559 1806 3559 1356 \nQ 3559 666 3084 287 \nQ 2609 -91 1734 -91 \nQ 1441 -91 1130 -33 \nQ 819 25 488 141 \nL 488 750 \nQ 750 597 1062 519 \nQ 1375 441 1716 441 \nQ 2309 441 2620 675 \nQ 2931 909 2931 1356 \nQ 2931 1769 2642 2001 \nQ 2353 2234 1838 2234 \nL 1294 2234 \nL 1294 2753 \nL 1863 2753 \nQ 2328 2753 2575 2939 \nQ 2822 3125 2822 3475 \nQ 2822 3834 2567 4026 \nQ 2313 4219 1838 4219 \nQ 1578 4219 1281 4162 \nQ 984 4106 628 3988 \nL 628 4550 \nQ 988 4650 1302 4700 \nQ 1616 4750 1894 4750 \nQ 2613 4750 3031 4423 \nQ 3450 4097 3450 3541 \nQ 3450 3153 3228 2886 \nQ 3006 2619 2597 2516 \nz\n\" id=\"DejaVuSans-33\" transform=\"scale(0.015625)\"/>\n       </defs>\n       <use xlink:href=\"#DejaVuSans-33\"/>\n       <use x=\"63.623047\" xlink:href=\"#DejaVuSans-30\"/>\n      </g>\n     </g>\n    </g>\n    <g id=\"xtick_5\">\n     <g id=\"line2d_5\">\n      <g>\n       <use style=\"stroke:#000000;stroke-width:0.8;\" x=\"254.450894\" xlink:href=\"#m8b43db0e30\" y=\"224.64\"/>\n      </g>\n     </g>\n     <g id=\"text_5\">\n      <!-- 40 -->\n      <g transform=\"translate(248.088394 239.238437)scale(0.1 -0.1)\">\n       <defs>\n        <path d=\"M 2419 4116 \nL 825 1625 \nL 2419 1625 \nL 2419 4116 \nz\nM 2253 4666 \nL 3047 4666 \nL 3047 1625 \nL 3713 1625 \nL 3713 1100 \nL 3047 1100 \nL 3047 0 \nL 2419 0 \nL 2419 1100 \nL 313 1100 \nL 313 1709 \nL 2253 4666 \nz\n\" id=\"DejaVuSans-34\" transform=\"scale(0.015625)\"/>\n       </defs>\n       <use xlink:href=\"#DejaVuSans-34\"/>\n       <use x=\"63.623047\" xlink:href=\"#DejaVuSans-30\"/>\n      </g>\n     </g>\n    </g>\n    <g id=\"xtick_6\">\n     <g id=\"line2d_6\">\n      <g>\n       <use style=\"stroke:#000000;stroke-width:0.8;\" x=\"304.346572\" xlink:href=\"#m8b43db0e30\" y=\"224.64\"/>\n      </g>\n     </g>\n     <g id=\"text_6\">\n      <!-- 50 -->\n      <g transform=\"translate(297.984072 239.238437)scale(0.1 -0.1)\">\n       <defs>\n        <path d=\"M 691 4666 \nL 3169 4666 \nL 3169 4134 \nL 1269 4134 \nL 1269 2991 \nQ 1406 3038 1543 3061 \nQ 1681 3084 1819 3084 \nQ 2600 3084 3056 2656 \nQ 3513 2228 3513 1497 \nQ 3513 744 3044 326 \nQ 2575 -91 1722 -91 \nQ 1428 -91 1123 -41 \nQ 819 9 494 109 \nL 494 744 \nQ 775 591 1075 516 \nQ 1375 441 1709 441 \nQ 2250 441 2565 725 \nQ 2881 1009 2881 1497 \nQ 2881 1984 2565 2268 \nQ 2250 2553 1709 2553 \nQ 1456 2553 1204 2497 \nQ 953 2441 691 2322 \nL 691 4666 \nz\n\" id=\"DejaVuSans-35\" transform=\"scale(0.015625)\"/>\n       </defs>\n       <use xlink:href=\"#DejaVuSans-35\"/>\n       <use x=\"63.623047\" xlink:href=\"#DejaVuSans-30\"/>\n      </g>\n     </g>\n    </g>\n    <g id=\"xtick_7\">\n     <g id=\"line2d_7\">\n      <g>\n       <use style=\"stroke:#000000;stroke-width:0.8;\" x=\"354.24225\" xlink:href=\"#m8b43db0e30\" y=\"224.64\"/>\n      </g>\n     </g>\n     <g id=\"text_7\">\n      <!-- 60 -->\n      <g transform=\"translate(347.87975 239.238437)scale(0.1 -0.1)\">\n       <defs>\n        <path d=\"M 2113 2584 \nQ 1688 2584 1439 2293 \nQ 1191 2003 1191 1497 \nQ 1191 994 1439 701 \nQ 1688 409 2113 409 \nQ 2538 409 2786 701 \nQ 3034 994 3034 1497 \nQ 3034 2003 2786 2293 \nQ 2538 2584 2113 2584 \nz\nM 3366 4563 \nL 3366 3988 \nQ 3128 4100 2886 4159 \nQ 2644 4219 2406 4219 \nQ 1781 4219 1451 3797 \nQ 1122 3375 1075 2522 \nQ 1259 2794 1537 2939 \nQ 1816 3084 2150 3084 \nQ 2853 3084 3261 2657 \nQ 3669 2231 3669 1497 \nQ 3669 778 3244 343 \nQ 2819 -91 2113 -91 \nQ 1303 -91 875 529 \nQ 447 1150 447 2328 \nQ 447 3434 972 4092 \nQ 1497 4750 2381 4750 \nQ 2619 4750 2861 4703 \nQ 3103 4656 3366 4563 \nz\n\" id=\"DejaVuSans-36\" transform=\"scale(0.015625)\"/>\n       </defs>\n       <use xlink:href=\"#DejaVuSans-36\"/>\n       <use x=\"63.623047\" xlink:href=\"#DejaVuSans-30\"/>\n      </g>\n     </g>\n    </g>\n   </g>\n   <g id=\"matplotlib.axis_2\">\n    <g id=\"ytick_1\">\n     <g id=\"line2d_8\">\n      <defs>\n       <path d=\"M 0 0 \nL -3.5 0 \n\" id=\"m104fc865a9\" style=\"stroke:#000000;stroke-width:0.8;\"/>\n      </defs>\n      <g>\n       <use style=\"stroke:#000000;stroke-width:0.8;\" x=\"39.65\" xlink:href=\"#m104fc865a9\" y=\"216.147299\"/>\n      </g>\n     </g>\n     <g id=\"text_8\">\n      <!-- 0 -->\n      <g transform=\"translate(26.2875 219.946517)scale(0.1 -0.1)\">\n       <use xlink:href=\"#DejaVuSans-30\"/>\n      </g>\n     </g>\n    </g>\n    <g id=\"ytick_2\">\n     <g id=\"line2d_9\">\n      <g>\n       <use style=\"stroke:#000000;stroke-width:0.8;\" x=\"39.65\" xlink:href=\"#m104fc865a9\" y=\"185.046809\"/>\n      </g>\n     </g>\n     <g id=\"text_9\">\n      <!-- 500 -->\n      <g transform=\"translate(13.5625 188.846028)scale(0.1 -0.1)\">\n       <use xlink:href=\"#DejaVuSans-35\"/>\n       <use x=\"63.623047\" xlink:href=\"#DejaVuSans-30\"/>\n       <use x=\"127.246094\" xlink:href=\"#DejaVuSans-30\"/>\n      </g>\n     </g>\n    </g>\n    <g id=\"ytick_3\">\n     <g id=\"line2d_10\">\n      <g>\n       <use style=\"stroke:#000000;stroke-width:0.8;\" x=\"39.65\" xlink:href=\"#m104fc865a9\" y=\"153.94632\"/>\n      </g>\n     </g>\n     <g id=\"text_10\">\n      <!-- 1000 -->\n      <g transform=\"translate(7.2 157.745539)scale(0.1 -0.1)\">\n       <use xlink:href=\"#DejaVuSans-31\"/>\n       <use x=\"63.623047\" xlink:href=\"#DejaVuSans-30\"/>\n       <use x=\"127.246094\" xlink:href=\"#DejaVuSans-30\"/>\n       <use x=\"190.869141\" xlink:href=\"#DejaVuSans-30\"/>\n      </g>\n     </g>\n    </g>\n    <g id=\"ytick_4\">\n     <g id=\"line2d_11\">\n      <g>\n       <use style=\"stroke:#000000;stroke-width:0.8;\" x=\"39.65\" xlink:href=\"#m104fc865a9\" y=\"122.845831\"/>\n      </g>\n     </g>\n     <g id=\"text_11\">\n      <!-- 1500 -->\n      <g transform=\"translate(7.2 126.64505)scale(0.1 -0.1)\">\n       <use xlink:href=\"#DejaVuSans-31\"/>\n       <use x=\"63.623047\" xlink:href=\"#DejaVuSans-35\"/>\n       <use x=\"127.246094\" xlink:href=\"#DejaVuSans-30\"/>\n       <use x=\"190.869141\" xlink:href=\"#DejaVuSans-30\"/>\n      </g>\n     </g>\n    </g>\n    <g id=\"ytick_5\">\n     <g id=\"line2d_12\">\n      <g>\n       <use style=\"stroke:#000000;stroke-width:0.8;\" x=\"39.65\" xlink:href=\"#m104fc865a9\" y=\"91.745342\"/>\n      </g>\n     </g>\n     <g id=\"text_12\">\n      <!-- 2000 -->\n      <g transform=\"translate(7.2 95.54456)scale(0.1 -0.1)\">\n       <use xlink:href=\"#DejaVuSans-32\"/>\n       <use x=\"63.623047\" xlink:href=\"#DejaVuSans-30\"/>\n       <use x=\"127.246094\" xlink:href=\"#DejaVuSans-30\"/>\n       <use x=\"190.869141\" xlink:href=\"#DejaVuSans-30\"/>\n      </g>\n     </g>\n    </g>\n    <g id=\"ytick_6\">\n     <g id=\"line2d_13\">\n      <g>\n       <use style=\"stroke:#000000;stroke-width:0.8;\" x=\"39.65\" xlink:href=\"#m104fc865a9\" y=\"60.644852\"/>\n      </g>\n     </g>\n     <g id=\"text_13\">\n      <!-- 2500 -->\n      <g transform=\"translate(7.2 64.444071)scale(0.1 -0.1)\">\n       <use xlink:href=\"#DejaVuSans-32\"/>\n       <use x=\"63.623047\" xlink:href=\"#DejaVuSans-35\"/>\n       <use x=\"127.246094\" xlink:href=\"#DejaVuSans-30\"/>\n       <use x=\"190.869141\" xlink:href=\"#DejaVuSans-30\"/>\n      </g>\n     </g>\n    </g>\n    <g id=\"ytick_7\">\n     <g id=\"line2d_14\">\n      <g>\n       <use style=\"stroke:#000000;stroke-width:0.8;\" x=\"39.65\" xlink:href=\"#m104fc865a9\" y=\"29.544363\"/>\n      </g>\n     </g>\n     <g id=\"text_14\">\n      <!-- 3000 -->\n      <g transform=\"translate(7.2 33.343582)scale(0.1 -0.1)\">\n       <use xlink:href=\"#DejaVuSans-33\"/>\n       <use x=\"63.623047\" xlink:href=\"#DejaVuSans-30\"/>\n       <use x=\"127.246094\" xlink:href=\"#DejaVuSans-30\"/>\n       <use x=\"190.869141\" xlink:href=\"#DejaVuSans-30\"/>\n      </g>\n     </g>\n    </g>\n   </g>\n   <g id=\"line2d_15\">\n    <path clip-path=\"url(#pf3f6fd07cd)\" d=\"M 54.868182 17.083636 \nL 59.85775 25.762784 \nL 64.847317 35.516386 \nL 69.836885 36.802197 \nL 74.826453 40.83911 \nL 79.816021 41.889951 \nL 84.805589 112.51895 \nL 89.795156 70.200584 \nL 94.784724 73.085033 \nL 99.774292 72.487169 \nL 104.76386 72.958095 \nL 109.753428 76.625887 \nL 114.742996 170.385533 \nL 119.732563 109.102171 \nL 124.722131 104.870196 \nL 129.711699 101.073165 \nL 134.701267 101.41953 \nL 139.690835 99.629817 \nL 144.680402 203.689608 \nL 149.66997 134.35248 \nL 154.659538 129.109201 \nL 159.649106 123.867652 \nL 164.638674 121.74966 \nL 169.628241 122.562927 \nL 174.617809 120.933029 \nL 179.607377 157.422859 \nL 184.596945 146.96032 \nL 189.586513 142.53468 \nL 194.57608 139.537682 \nL 199.565648 139.289562 \nL 204.555216 134.172711 \nL 209.544784 181.048764 \nL 214.534352 155.844741 \nL 219.52392 153.981813 \nL 224.513487 149.604841 \nL 229.503055 148.874344 \nL 234.492623 146.855037 \nL 239.482191 199.061129 \nL 244.471759 162.447961 \nL 249.461326 159.56377 \nL 254.450894 157.967892 \nL 259.440462 156.632158 \nL 264.43003 152.576429 \nL 269.419598 214.756364 \nL 274.409165 167.706381 \nL 279.398733 165.21926 \nL 284.388301 162.169731 \nL 289.377869 159.50223 \nL 294.367437 156.53126 \nL 299.357004 158.273104 \nL 304.346572 182.5718 \nL 309.33614 166.625422 \nL 314.325708 167.074162 \nL 319.315276 164.54992 \nL 324.304844 163.157505 \nL 329.294411 159.069792 \nL 334.283979 194.965113 \nL 339.273547 169.219846 \nL 344.263115 169.25248 \nL 349.252683 166.086817 \nL 354.24225 164.911221 \nL 359.231818 164.219159 \n\" style=\"fill:none;stroke:#1f77b4;stroke-linecap:square;stroke-width:1.5;\"/>\n   </g>\n   <g id=\"patch_3\">\n    <path d=\"M 39.65 224.64 \nL 39.65 7.2 \n\" style=\"fill:none;stroke:#000000;stroke-linecap:square;stroke-linejoin:miter;stroke-width:0.8;\"/>\n   </g>\n   <g id=\"patch_4\">\n    <path d=\"M 374.45 224.64 \nL 374.45 7.2 \n\" style=\"fill:none;stroke:#000000;stroke-linecap:square;stroke-linejoin:miter;stroke-width:0.8;\"/>\n   </g>\n   <g id=\"patch_5\">\n    <path d=\"M 39.65 224.64 \nL 374.45 224.64 \n\" style=\"fill:none;stroke:#000000;stroke-linecap:square;stroke-linejoin:miter;stroke-width:0.8;\"/>\n   </g>\n   <g id=\"patch_6\">\n    <path d=\"M 39.65 7.2 \nL 374.45 7.2 \n\" style=\"fill:none;stroke:#000000;stroke-linecap:square;stroke-linejoin:miter;stroke-width:0.8;\"/>\n   </g>\n  </g>\n </g>\n <defs>\n  <clipPath id=\"pf3f6fd07cd\">\n   <rect height=\"217.44\" width=\"334.8\" x=\"39.65\" y=\"7.2\"/>\n  </clipPath>\n </defs>\n</svg>\n",
            "image/png": "[encoded data removed]"
          },
          "metadata": {
            "needs_background": "light"
          }
        }
      ],
      "source": [
        "plt.plot(avg_losses)"
      ]
    },
    {
      "cell_type": "code",
      "execution_count": 21,
      "metadata": {},
      "outputs": [
        {
          "output_type": "execute_result",
          "data": {
            "text/plain": [
              "[<matplotlib.lines.Line2D at 0x7f53ea46c160>]"
            ]
          },
          "metadata": {},
          "execution_count": 21
        },
        {
          "output_type": "display_data",
          "data": {
            "text/plain": "<Figure size 432x288 with 1 Axes>",
            "image/svg+xml": "<?xml version=\"1.0\" encoding=\"utf-8\" standalone=\"no\"?>\n<!DOCTYPE svg PUBLIC \"-//W3C//DTD SVG 1.1//EN\"\n  \"http://www.w3.org/Graphics/SVG/1.1/DTD/svg11.dtd\">\n<svg height=\"248.518125pt\" version=\"1.1\" viewBox=\"0 0 394.375 248.518125\" width=\"394.375pt\" xmlns=\"http://www.w3.org/2000/svg\" xmlns:xlink=\"http://www.w3.org/1999/xlink\">\n <metadata>\n  <rdf:RDF xmlns:cc=\"http://creativecommons.org/ns#\" xmlns:dc=\"http://purl.org/dc/elements/1.1/\" xmlns:rdf=\"http://www.w3.org/1999/02/22-rdf-syntax-ns#\">\n   <cc:Work>\n    <dc:type rdf:resource=\"http://purl.org/dc/dcmitype/StillImage\"/>\n    <dc:date>2021-12-02T12:54:21.692402</dc:date>\n    <dc:format>image/svg+xml</dc:format>\n    <dc:creator>\n     <cc:Agent>\n      <dc:title>Matplotlib v3.4.2, https://matplotlib.org/</dc:title>\n     </cc:Agent>\n    </dc:creator>\n   </cc:Work>\n  </rdf:RDF>\n </metadata>\n <defs>\n  <style type=\"text/css\">*{stroke-linecap:butt;stroke-linejoin:round;}</style>\n </defs>\n <g id=\"figure_1\">\n  <g id=\"patch_1\">\n   <path d=\"M 0 248.518125 \nL 394.375 248.518125 \nL 394.375 0 \nL 0 0 \nz\n\" style=\"fill:none;\"/>\n  </g>\n  <g id=\"axes_1\">\n   <g id=\"patch_2\">\n    <path d=\"M 52.375 224.64 \nL 387.175 224.64 \nL 387.175 7.2 \nL 52.375 7.2 \nz\n\" style=\"fill:#ffffff;\"/>\n   </g>\n   <g id=\"matplotlib.axis_1\">\n    <g id=\"xtick_1\">\n     <g id=\"line2d_1\">\n      <defs>\n       <path d=\"M 0 0 \nL 0 3.5 \n\" id=\"m9464ed2938\" style=\"stroke:#000000;stroke-width:0.8;\"/>\n      </defs>\n      <g>\n       <use style=\"stroke:#000000;stroke-width:0.8;\" x=\"67.593182\" xlink:href=\"#m9464ed2938\" y=\"224.64\"/>\n      </g>\n     </g>\n     <g id=\"text_1\">\n      <!-- 0 -->\n      <g transform=\"translate(64.411932 239.238438)scale(0.1 -0.1)\">\n       <defs>\n        <path d=\"M 2034 4250 \nQ 1547 4250 1301 3770 \nQ 1056 3291 1056 2328 \nQ 1056 1369 1301 889 \nQ 1547 409 2034 409 \nQ 2525 409 2770 889 \nQ 3016 1369 3016 2328 \nQ 3016 3291 2770 3770 \nQ 2525 4250 2034 4250 \nz\nM 2034 4750 \nQ 2819 4750 3233 4129 \nQ 3647 3509 3647 2328 \nQ 3647 1150 3233 529 \nQ 2819 -91 2034 -91 \nQ 1250 -91 836 529 \nQ 422 1150 422 2328 \nQ 422 3509 836 4129 \nQ 1250 4750 2034 4750 \nz\n\" id=\"DejaVuSans-30\" transform=\"scale(0.015625)\"/>\n       </defs>\n       <use xlink:href=\"#DejaVuSans-30\"/>\n      </g>\n     </g>\n    </g>\n    <g id=\"xtick_2\">\n     <g id=\"line2d_2\">\n      <g>\n       <use style=\"stroke:#000000;stroke-width:0.8;\" x=\"117.48886\" xlink:href=\"#m9464ed2938\" y=\"224.64\"/>\n      </g>\n     </g>\n     <g id=\"text_2\">\n      <!-- 10 -->\n      <g transform=\"translate(111.12636 239.238438)scale(0.1 -0.1)\">\n       <defs>\n        <path d=\"M 794 531 \nL 1825 531 \nL 1825 4091 \nL 703 3866 \nL 703 4441 \nL 1819 4666 \nL 2450 4666 \nL 2450 531 \nL 3481 531 \nL 3481 0 \nL 794 0 \nL 794 531 \nz\n\" id=\"DejaVuSans-31\" transform=\"scale(0.015625)\"/>\n       </defs>\n       <use xlink:href=\"#DejaVuSans-31\"/>\n       <use x=\"63.623047\" xlink:href=\"#DejaVuSans-30\"/>\n      </g>\n     </g>\n    </g>\n    <g id=\"xtick_3\">\n     <g id=\"line2d_3\">\n      <g>\n       <use style=\"stroke:#000000;stroke-width:0.8;\" x=\"167.384538\" xlink:href=\"#m9464ed2938\" y=\"224.64\"/>\n      </g>\n     </g>\n     <g id=\"text_3\">\n      <!-- 20 -->\n      <g transform=\"translate(161.022038 239.238438)scale(0.1 -0.1)\">\n       <defs>\n        <path d=\"M 1228 531 \nL 3431 531 \nL 3431 0 \nL 469 0 \nL 469 531 \nQ 828 903 1448 1529 \nQ 2069 2156 2228 2338 \nQ 2531 2678 2651 2914 \nQ 2772 3150 2772 3378 \nQ 2772 3750 2511 3984 \nQ 2250 4219 1831 4219 \nQ 1534 4219 1204 4116 \nQ 875 4013 500 3803 \nL 500 4441 \nQ 881 4594 1212 4672 \nQ 1544 4750 1819 4750 \nQ 2544 4750 2975 4387 \nQ 3406 4025 3406 3419 \nQ 3406 3131 3298 2873 \nQ 3191 2616 2906 2266 \nQ 2828 2175 2409 1742 \nQ 1991 1309 1228 531 \nz\n\" id=\"DejaVuSans-32\" transform=\"scale(0.015625)\"/>\n       </defs>\n       <use xlink:href=\"#DejaVuSans-32\"/>\n       <use x=\"63.623047\" xlink:href=\"#DejaVuSans-30\"/>\n      </g>\n     </g>\n    </g>\n    <g id=\"xtick_4\">\n     <g id=\"line2d_4\">\n      <g>\n       <use style=\"stroke:#000000;stroke-width:0.8;\" x=\"217.280216\" xlink:href=\"#m9464ed2938\" y=\"224.64\"/>\n      </g>\n     </g>\n     <g id=\"text_4\">\n      <!-- 30 -->\n      <g transform=\"translate(210.917716 239.238438)scale(0.1 -0.1)\">\n       <defs>\n        <path d=\"M 2597 2516 \nQ 3050 2419 3304 2112 \nQ 3559 1806 3559 1356 \nQ 3559 666 3084 287 \nQ 2609 -91 1734 -91 \nQ 1441 -91 1130 -33 \nQ 819 25 488 141 \nL 488 750 \nQ 750 597 1062 519 \nQ 1375 441 1716 441 \nQ 2309 441 2620 675 \nQ 2931 909 2931 1356 \nQ 2931 1769 2642 2001 \nQ 2353 2234 1838 2234 \nL 1294 2234 \nL 1294 2753 \nL 1863 2753 \nQ 2328 2753 2575 2939 \nQ 2822 3125 2822 3475 \nQ 2822 3834 2567 4026 \nQ 2313 4219 1838 4219 \nQ 1578 4219 1281 4162 \nQ 984 4106 628 3988 \nL 628 4550 \nQ 988 4650 1302 4700 \nQ 1616 4750 1894 4750 \nQ 2613 4750 3031 4423 \nQ 3450 4097 3450 3541 \nQ 3450 3153 3228 2886 \nQ 3006 2619 2597 2516 \nz\n\" id=\"DejaVuSans-33\" transform=\"scale(0.015625)\"/>\n       </defs>\n       <use xlink:href=\"#DejaVuSans-33\"/>\n       <use x=\"63.623047\" xlink:href=\"#DejaVuSans-30\"/>\n      </g>\n     </g>\n    </g>\n    <g id=\"xtick_5\">\n     <g id=\"line2d_5\">\n      <g>\n       <use style=\"stroke:#000000;stroke-width:0.8;\" x=\"267.175894\" xlink:href=\"#m9464ed2938\" y=\"224.64\"/>\n      </g>\n     </g>\n     <g id=\"text_5\">\n      <!-- 40 -->\n      <g transform=\"translate(260.813394 239.238438)scale(0.1 -0.1)\">\n       <defs>\n        <path d=\"M 2419 4116 \nL 825 1625 \nL 2419 1625 \nL 2419 4116 \nz\nM 2253 4666 \nL 3047 4666 \nL 3047 1625 \nL 3713 1625 \nL 3713 1100 \nL 3047 1100 \nL 3047 0 \nL 2419 0 \nL 2419 1100 \nL 313 1100 \nL 313 1709 \nL 2253 4666 \nz\n\" id=\"DejaVuSans-34\" transform=\"scale(0.015625)\"/>\n       </defs>\n       <use xlink:href=\"#DejaVuSans-34\"/>\n       <use x=\"63.623047\" xlink:href=\"#DejaVuSans-30\"/>\n      </g>\n     </g>\n    </g>\n    <g id=\"xtick_6\">\n     <g id=\"line2d_6\">\n      <g>\n       <use style=\"stroke:#000000;stroke-width:0.8;\" x=\"317.071572\" xlink:href=\"#m9464ed2938\" y=\"224.64\"/>\n      </g>\n     </g>\n     <g id=\"text_6\">\n      <!-- 50 -->\n      <g transform=\"translate(310.709072 239.238438)scale(0.1 -0.1)\">\n       <defs>\n        <path d=\"M 691 4666 \nL 3169 4666 \nL 3169 4134 \nL 1269 4134 \nL 1269 2991 \nQ 1406 3038 1543 3061 \nQ 1681 3084 1819 3084 \nQ 2600 3084 3056 2656 \nQ 3513 2228 3513 1497 \nQ 3513 744 3044 326 \nQ 2575 -91 1722 -91 \nQ 1428 -91 1123 -41 \nQ 819 9 494 109 \nL 494 744 \nQ 775 591 1075 516 \nQ 1375 441 1709 441 \nQ 2250 441 2565 725 \nQ 2881 1009 2881 1497 \nQ 2881 1984 2565 2268 \nQ 2250 2553 1709 2553 \nQ 1456 2553 1204 2497 \nQ 953 2441 691 2322 \nL 691 4666 \nz\n\" id=\"DejaVuSans-35\" transform=\"scale(0.015625)\"/>\n       </defs>\n       <use xlink:href=\"#DejaVuSans-35\"/>\n       <use x=\"63.623047\" xlink:href=\"#DejaVuSans-30\"/>\n      </g>\n     </g>\n    </g>\n    <g id=\"xtick_7\">\n     <g id=\"line2d_7\">\n      <g>\n       <use style=\"stroke:#000000;stroke-width:0.8;\" x=\"366.96725\" xlink:href=\"#m9464ed2938\" y=\"224.64\"/>\n      </g>\n     </g>\n     <g id=\"text_7\">\n      <!-- 60 -->\n      <g transform=\"translate(360.60475 239.238438)scale(0.1 -0.1)\">\n       <defs>\n        <path d=\"M 2113 2584 \nQ 1688 2584 1439 2293 \nQ 1191 2003 1191 1497 \nQ 1191 994 1439 701 \nQ 1688 409 2113 409 \nQ 2538 409 2786 701 \nQ 3034 994 3034 1497 \nQ 3034 2003 2786 2293 \nQ 2538 2584 2113 2584 \nz\nM 3366 4563 \nL 3366 3988 \nQ 3128 4100 2886 4159 \nQ 2644 4219 2406 4219 \nQ 1781 4219 1451 3797 \nQ 1122 3375 1075 2522 \nQ 1259 2794 1537 2939 \nQ 1816 3084 2150 3084 \nQ 2853 3084 3261 2657 \nQ 3669 2231 3669 1497 \nQ 3669 778 3244 343 \nQ 2819 -91 2113 -91 \nQ 1303 -91 875 529 \nQ 447 1150 447 2328 \nQ 447 3434 972 4092 \nQ 1497 4750 2381 4750 \nQ 2619 4750 2861 4703 \nQ 3103 4656 3366 4563 \nz\n\" id=\"DejaVuSans-36\" transform=\"scale(0.015625)\"/>\n       </defs>\n       <use xlink:href=\"#DejaVuSans-36\"/>\n       <use x=\"63.623047\" xlink:href=\"#DejaVuSans-30\"/>\n      </g>\n     </g>\n    </g>\n   </g>\n   <g id=\"matplotlib.axis_2\">\n    <g id=\"ytick_1\">\n     <g id=\"line2d_8\">\n      <defs>\n       <path d=\"M 0 0 \nL -3.5 0 \n\" id=\"meff350165b\" style=\"stroke:#000000;stroke-width:0.8;\"/>\n      </defs>\n      <g>\n       <use style=\"stroke:#000000;stroke-width:0.8;\" x=\"52.375\" xlink:href=\"#meff350165b\" y=\"214.826094\"/>\n      </g>\n     </g>\n     <g id=\"text_8\">\n      <!-- 0 -->\n      <g transform=\"translate(39.0125 218.625313)scale(0.1 -0.1)\">\n       <use xlink:href=\"#DejaVuSans-30\"/>\n      </g>\n     </g>\n    </g>\n    <g id=\"ytick_2\">\n     <g id=\"line2d_9\">\n      <g>\n       <use style=\"stroke:#000000;stroke-width:0.8;\" x=\"52.375\" xlink:href=\"#meff350165b\" y=\"179.199256\"/>\n      </g>\n     </g>\n     <g id=\"text_9\">\n      <!-- 100000 -->\n      <g transform=\"translate(7.2 182.998474)scale(0.1 -0.1)\">\n       <use xlink:href=\"#DejaVuSans-31\"/>\n       <use x=\"63.623047\" xlink:href=\"#DejaVuSans-30\"/>\n       <use x=\"127.246094\" xlink:href=\"#DejaVuSans-30\"/>\n       <use x=\"190.869141\" xlink:href=\"#DejaVuSans-30\"/>\n       <use x=\"254.492188\" xlink:href=\"#DejaVuSans-30\"/>\n       <use x=\"318.115234\" xlink:href=\"#DejaVuSans-30\"/>\n      </g>\n     </g>\n    </g>\n    <g id=\"ytick_3\">\n     <g id=\"line2d_10\">\n      <g>\n       <use style=\"stroke:#000000;stroke-width:0.8;\" x=\"52.375\" xlink:href=\"#meff350165b\" y=\"143.572417\"/>\n      </g>\n     </g>\n     <g id=\"text_10\">\n      <!-- 200000 -->\n      <g transform=\"translate(7.2 147.371636)scale(0.1 -0.1)\">\n       <use xlink:href=\"#DejaVuSans-32\"/>\n       <use x=\"63.623047\" xlink:href=\"#DejaVuSans-30\"/>\n       <use x=\"127.246094\" xlink:href=\"#DejaVuSans-30\"/>\n       <use x=\"190.869141\" xlink:href=\"#DejaVuSans-30\"/>\n       <use x=\"254.492188\" xlink:href=\"#DejaVuSans-30\"/>\n       <use x=\"318.115234\" xlink:href=\"#DejaVuSans-30\"/>\n      </g>\n     </g>\n    </g>\n    <g id=\"ytick_4\">\n     <g id=\"line2d_11\">\n      <g>\n       <use style=\"stroke:#000000;stroke-width:0.8;\" x=\"52.375\" xlink:href=\"#meff350165b\" y=\"107.945578\"/>\n      </g>\n     </g>\n     <g id=\"text_11\">\n      <!-- 300000 -->\n      <g transform=\"translate(7.2 111.744797)scale(0.1 -0.1)\">\n       <use xlink:href=\"#DejaVuSans-33\"/>\n       <use x=\"63.623047\" xlink:href=\"#DejaVuSans-30\"/>\n       <use x=\"127.246094\" xlink:href=\"#DejaVuSans-30\"/>\n       <use x=\"190.869141\" xlink:href=\"#DejaVuSans-30\"/>\n       <use x=\"254.492188\" xlink:href=\"#DejaVuSans-30\"/>\n       <use x=\"318.115234\" xlink:href=\"#DejaVuSans-30\"/>\n      </g>\n     </g>\n    </g>\n    <g id=\"ytick_5\">\n     <g id=\"line2d_12\">\n      <g>\n       <use style=\"stroke:#000000;stroke-width:0.8;\" x=\"52.375\" xlink:href=\"#meff350165b\" y=\"72.31874\"/>\n      </g>\n     </g>\n     <g id=\"text_12\">\n      <!-- 400000 -->\n      <g transform=\"translate(7.2 76.117958)scale(0.1 -0.1)\">\n       <use xlink:href=\"#DejaVuSans-34\"/>\n       <use x=\"63.623047\" xlink:href=\"#DejaVuSans-30\"/>\n       <use x=\"127.246094\" xlink:href=\"#DejaVuSans-30\"/>\n       <use x=\"190.869141\" xlink:href=\"#DejaVuSans-30\"/>\n       <use x=\"254.492188\" xlink:href=\"#DejaVuSans-30\"/>\n       <use x=\"318.115234\" xlink:href=\"#DejaVuSans-30\"/>\n      </g>\n     </g>\n    </g>\n    <g id=\"ytick_6\">\n     <g id=\"line2d_13\">\n      <g>\n       <use style=\"stroke:#000000;stroke-width:0.8;\" x=\"52.375\" xlink:href=\"#meff350165b\" y=\"36.691901\"/>\n      </g>\n     </g>\n     <g id=\"text_13\">\n      <!-- 500000 -->\n      <g transform=\"translate(7.2 40.49112)scale(0.1 -0.1)\">\n       <use xlink:href=\"#DejaVuSans-35\"/>\n       <use x=\"63.623047\" xlink:href=\"#DejaVuSans-30\"/>\n       <use x=\"127.246094\" xlink:href=\"#DejaVuSans-30\"/>\n       <use x=\"190.869141\" xlink:href=\"#DejaVuSans-30\"/>\n       <use x=\"254.492188\" xlink:href=\"#DejaVuSans-30\"/>\n       <use x=\"318.115234\" xlink:href=\"#DejaVuSans-30\"/>\n      </g>\n     </g>\n    </g>\n   </g>\n   <g id=\"line2d_14\">\n    <path clip-path=\"url(#p86d4912a31)\" d=\"M 67.593182 17.748293 \nL 72.58275 63.46857 \nL 77.572317 17.083636 \nL 82.561885 94.68671 \nL 87.551453 103.320177 \nL 92.541021 121.260918 \nL 97.530589 195.04562 \nL 102.520156 185.620823 \nL 107.509724 186.532062 \nL 112.499292 185.525897 \nL 117.48886 185.215554 \nL 122.478428 187.654231 \nL 127.467996 211.556911 \nL 132.457563 206.38844 \nL 137.447131 205.714778 \nL 142.436699 204.691804 \nL 147.426267 204.312065 \nL 152.415835 203.574838 \nL 157.405402 214.332564 \nL 162.39497 211.326359 \nL 167.384538 210.918657 \nL 172.374106 209.427859 \nL 177.363674 209.793565 \nL 182.353241 209.708874 \nL 187.342809 209.624026 \nL 192.332377 213.055741 \nL 197.321945 212.597486 \nL 202.311513 211.501759 \nL 207.30108 211.915723 \nL 212.290648 211.833052 \nL 217.280216 211.441917 \nL 222.269784 213.840379 \nL 227.259352 212.994974 \nL 232.24892 213.085501 \nL 237.238487 212.654776 \nL 242.228055 212.376753 \nL 247.217623 212.192218 \nL 252.207191 214.320056 \nL 257.196759 212.995044 \nL 262.186326 213.325638 \nL 267.175894 212.652654 \nL 272.165462 212.8603 \nL 277.15503 211.980406 \nL 282.144598 214.756364 \nL 287.134165 213.609345 \nL 292.123733 213.473691 \nL 297.113301 213.241005 \nL 302.102869 212.667209 \nL 307.092437 212.704624 \nL 312.082004 212.844422 \nL 317.071572 214.075671 \nL 322.06114 212.433177 \nL 327.050708 213.551962 \nL 332.040276 212.907772 \nL 337.029844 213.046796 \nL 342.019411 212.827944 \nL 347.008979 214.174703 \nL 351.998547 213.505224 \nL 356.988115 213.568403 \nL 361.977683 213.207789 \nL 366.96725 212.972686 \nL 371.956818 213.211536 \n\" style=\"fill:none;stroke:#1f77b4;stroke-linecap:square;stroke-width:1.5;\"/>\n   </g>\n   <g id=\"patch_3\">\n    <path d=\"M 52.375 224.64 \nL 52.375 7.2 \n\" style=\"fill:none;stroke:#000000;stroke-linecap:square;stroke-linejoin:miter;stroke-width:0.8;\"/>\n   </g>\n   <g id=\"patch_4\">\n    <path d=\"M 387.175 224.64 \nL 387.175 7.2 \n\" style=\"fill:none;stroke:#000000;stroke-linecap:square;stroke-linejoin:miter;stroke-width:0.8;\"/>\n   </g>\n   <g id=\"patch_5\">\n    <path d=\"M 52.375 224.64 \nL 387.175 224.64 \n\" style=\"fill:none;stroke:#000000;stroke-linecap:square;stroke-linejoin:miter;stroke-width:0.8;\"/>\n   </g>\n   <g id=\"patch_6\">\n    <path d=\"M 52.375 7.2 \nL 387.175 7.2 \n\" style=\"fill:none;stroke:#000000;stroke-linecap:square;stroke-linejoin:miter;stroke-width:0.8;\"/>\n   </g>\n  </g>\n </g>\n <defs>\n  <clipPath id=\"p86d4912a31\">\n   <rect height=\"217.44\" width=\"334.8\" x=\"52.375\" y=\"7.2\"/>\n  </clipPath>\n </defs>\n</svg>\n",
            "image/png": "[encoded data removed]"
          },
          "metadata": {
            "needs_background": "light"
          }
        }
      ],
      "source": [
        "plt.plot(perplexities)"
      ]
    }
  ]
}