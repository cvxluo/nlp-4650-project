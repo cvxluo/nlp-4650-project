{
  "nbformat": 4,
  "nbformat_minor": 0,
  "metadata": {
    "language_info": {
      "codemirror_mode": {
        "name": "ipython",
        "version": 3
      },
      "file_extension": ".py",
      "mimetype": "text/x-python",
      "name": "python",
      "nbconvert_exporter": "python",
      "pygments_lexer": "ipython3",
      "version": "3.8.12"
    },
    "orig_nbformat": 4,
    "kernelspec": {
      "name": "python3",
      "display_name": "Python 3.8.12 64-bit ('nlp-4650-project': conda)"
    },
    "interpreter": {
      "hash": "140351e719ebabd8c89d647add28ebb80040bf2d1128912b99179fb480ea150d"
    },
    "colab": {
      "name": "lstm.ipynb",
      "provenance": [],
      "collapsed_sections": []
    },
    "accelerator": "GPU"
  },
  "cells": [
    {
      "cell_type": "code",
      "metadata": {
        "id": "dbhpdgJevlV2"
      },
      "source": [
        "%load_ext autoreload\n",
        "%autoreload 2"
      ],
      "execution_count": 1,
      "outputs": []
    },
    {
      "cell_type": "code",
      "metadata": {
        "colab": {
          "base_uri": "https://localhost:8080/"
        },
        "id": "fWCHRlAbvtvn",
        "outputId": "0391815e-1da9-4d85-85bc-cba86eb99c9d"
      },
      "source": [
        "!pip install -r requirements.txt"
      ],
      "execution_count": 2,
      "outputs": [
        {
          "output_type": "stream",
          "name": "stdout",
          "text": [
            "Requirement already satisfied: tweepy in /home/cvxluo/anaconda3/envs/nlp-4650-project/lib/python3.8/site-packages (from -r requirements.txt (line 1)) (4.1.0)\n",
            "Requirement already satisfied: python-dotenv in /home/cvxluo/anaconda3/envs/nlp-4650-project/lib/python3.8/site-packages (from -r requirements.txt (line 2)) (0.19.1)\n",
            "Requirement already satisfied: jupyterlab in /home/cvxluo/anaconda3/envs/nlp-4650-project/lib/python3.8/site-packages (from -r requirements.txt (line 3)) (3.2.0)\n",
            "Requirement already satisfied: ipywidgets in /home/cvxluo/anaconda3/envs/nlp-4650-project/lib/python3.8/site-packages (from -r requirements.txt (line 4)) (7.6.5)\n",
            "Requirement already satisfied: matplotlib in /home/cvxluo/anaconda3/envs/nlp-4650-project/lib/python3.8/site-packages (from -r requirements.txt (line 5)) (3.4.2)\n",
            "Requirement already satisfied: seaborn in /home/cvxluo/anaconda3/envs/nlp-4650-project/lib/python3.8/site-packages (from -r requirements.txt (line 6)) (0.11.2)\n",
            "Requirement already satisfied: numpy in /home/cvxluo/anaconda3/envs/nlp-4650-project/lib/python3.8/site-packages (from -r requirements.txt (line 7)) (1.19.2)\n",
            "Requirement already satisfied: pandas in /home/cvxluo/anaconda3/envs/nlp-4650-project/lib/python3.8/site-packages (from -r requirements.txt (line 8)) (1.3.3)\n",
            "Requirement already satisfied: torch in /home/cvxluo/anaconda3/envs/nlp-4650-project/lib/python3.8/site-packages (from -r requirements.txt (line 9)) (1.10.0)\n",
            "Requirement already satisfied: torchtext in /home/cvxluo/anaconda3/envs/nlp-4650-project/lib/python3.8/site-packages (from -r requirements.txt (line 10)) (0.11.0)\n",
            "Requirement already satisfied: huggingface in /home/cvxluo/anaconda3/envs/nlp-4650-project/lib/python3.8/site-packages (from -r requirements.txt (line 11)) (0.0.1)\n",
            "Requirement already satisfied: transformers>3 in /home/cvxluo/anaconda3/envs/nlp-4650-project/lib/python3.8/site-packages (from -r requirements.txt (line 12)) (4.11.3)\n",
            "Requirement already satisfied: scikit-learn in /home/cvxluo/anaconda3/envs/nlp-4650-project/lib/python3.8/site-packages (from -r requirements.txt (line 13)) (0.24.2)\n",
            "Requirement already satisfied: nltk in /home/cvxluo/anaconda3/envs/nlp-4650-project/lib/python3.8/site-packages (from -r requirements.txt (line 14)) (3.6.5)\n",
            "Requirement already satisfied: tqdm in /home/cvxluo/anaconda3/envs/nlp-4650-project/lib/python3.8/site-packages (from -r requirements.txt (line 15)) (4.62.2)\n",
            "Requirement already satisfied: requests<3,>=2.11.1 in /home/cvxluo/anaconda3/envs/nlp-4650-project/lib/python3.8/site-packages (from tweepy->-r requirements.txt (line 1)) (2.26.0)\n",
            "Requirement already satisfied: requests-oauthlib<2,>=1.0.0 in /home/cvxluo/anaconda3/envs/nlp-4650-project/lib/python3.8/site-packages (from tweepy->-r requirements.txt (line 1)) (1.3.0)\n",
            "Requirement already satisfied: jupyterlab-server~=2.3 in /home/cvxluo/anaconda3/envs/nlp-4650-project/lib/python3.8/site-packages (from jupyterlab->-r requirements.txt (line 3)) (2.8.2)\n",
            "Requirement already satisfied: jinja2>=2.1 in /home/cvxluo/anaconda3/envs/nlp-4650-project/lib/python3.8/site-packages (from jupyterlab->-r requirements.txt (line 3)) (3.0.1)\n",
            "Requirement already satisfied: jupyter-core in /home/cvxluo/anaconda3/envs/nlp-4650-project/lib/python3.8/site-packages (from jupyterlab->-r requirements.txt (line 3)) (4.8.1)\n",
            "Requirement already satisfied: tornado>=6.1.0 in /home/cvxluo/anaconda3/envs/nlp-4650-project/lib/python3.8/site-packages (from jupyterlab->-r requirements.txt (line 3)) (6.1)\n",
            "Requirement already satisfied: packaging in /home/cvxluo/anaconda3/envs/nlp-4650-project/lib/python3.8/site-packages (from jupyterlab->-r requirements.txt (line 3)) (21.0)\n",
            "Requirement already satisfied: jupyter-server~=1.4 in /home/cvxluo/anaconda3/envs/nlp-4650-project/lib/python3.8/site-packages (from jupyterlab->-r requirements.txt (line 3)) (1.11.1)\n",
            "Requirement already satisfied: ipython in /home/cvxluo/anaconda3/envs/nlp-4650-project/lib/python3.8/site-packages (from jupyterlab->-r requirements.txt (line 3)) (7.27.0)\n",
            "Requirement already satisfied: nbclassic~=0.2 in /home/cvxluo/anaconda3/envs/nlp-4650-project/lib/python3.8/site-packages (from jupyterlab->-r requirements.txt (line 3)) (0.3.2)\n",
            "Requirement already satisfied: ipykernel>=4.5.1 in /home/cvxluo/anaconda3/envs/nlp-4650-project/lib/python3.8/site-packages (from ipywidgets->-r requirements.txt (line 4)) (6.4.1)\n",
            "Requirement already satisfied: jupyterlab-widgets>=1.0.0 in /home/cvxluo/anaconda3/envs/nlp-4650-project/lib/python3.8/site-packages (from ipywidgets->-r requirements.txt (line 4)) (1.0.2)\n",
            "Requirement already satisfied: nbformat>=4.2.0 in /home/cvxluo/anaconda3/envs/nlp-4650-project/lib/python3.8/site-packages (from ipywidgets->-r requirements.txt (line 4)) (5.1.3)\n",
            "Requirement already satisfied: widgetsnbextension~=3.5.0 in /home/cvxluo/anaconda3/envs/nlp-4650-project/lib/python3.8/site-packages (from ipywidgets->-r requirements.txt (line 4)) (3.5.1)\n",
            "Requirement already satisfied: traitlets>=4.3.1 in /home/cvxluo/anaconda3/envs/nlp-4650-project/lib/python3.8/site-packages (from ipywidgets->-r requirements.txt (line 4)) (5.1.0)\n",
            "Requirement already satisfied: ipython-genutils~=0.2.0 in /home/cvxluo/anaconda3/envs/nlp-4650-project/lib/python3.8/site-packages (from ipywidgets->-r requirements.txt (line 4)) (0.2.0)\n",
            "Requirement already satisfied: kiwisolver>=1.0.1 in /home/cvxluo/anaconda3/envs/nlp-4650-project/lib/python3.8/site-packages (from matplotlib->-r requirements.txt (line 5)) (1.3.1)\n",
            "Requirement already satisfied: pyparsing>=2.2.1 in /home/cvxluo/anaconda3/envs/nlp-4650-project/lib/python3.8/site-packages (from matplotlib->-r requirements.txt (line 5)) (2.4.7)\n",
            "Requirement already satisfied: pillow>=6.2.0 in /home/cvxluo/anaconda3/envs/nlp-4650-project/lib/python3.8/site-packages (from matplotlib->-r requirements.txt (line 5)) (8.4.0)\n",
            "Requirement already satisfied: python-dateutil>=2.7 in /home/cvxluo/anaconda3/envs/nlp-4650-project/lib/python3.8/site-packages (from matplotlib->-r requirements.txt (line 5)) (2.8.2)\n",
            "Requirement already satisfied: cycler>=0.10 in /home/cvxluo/anaconda3/envs/nlp-4650-project/lib/python3.8/site-packages (from matplotlib->-r requirements.txt (line 5)) (0.10.0)\n",
            "Requirement already satisfied: scipy>=1.0 in /home/cvxluo/anaconda3/envs/nlp-4650-project/lib/python3.8/site-packages (from seaborn->-r requirements.txt (line 6)) (1.6.2)\n",
            "Requirement already satisfied: pytz>=2017.3 in /home/cvxluo/anaconda3/envs/nlp-4650-project/lib/python3.8/site-packages (from pandas->-r requirements.txt (line 8)) (2021.3)\n",
            "Requirement already satisfied: typing-extensions in /home/cvxluo/anaconda3/envs/nlp-4650-project/lib/python3.8/site-packages (from torch->-r requirements.txt (line 9)) (3.10.0.2)\n",
            "Requirement already satisfied: huggingface-hub>=0.0.17 in /home/cvxluo/anaconda3/envs/nlp-4650-project/lib/python3.8/site-packages (from transformers>3->-r requirements.txt (line 12)) (0.0.19)\n",
            "Requirement already satisfied: pyyaml>=5.1 in /home/cvxluo/anaconda3/envs/nlp-4650-project/lib/python3.8/site-packages (from transformers>3->-r requirements.txt (line 12)) (6.0)\n",
            "Requirement already satisfied: filelock in /home/cvxluo/anaconda3/envs/nlp-4650-project/lib/python3.8/site-packages (from transformers>3->-r requirements.txt (line 12)) (3.3.1)\n",
            "Requirement already satisfied: tokenizers<0.11,>=0.10.1 in /home/cvxluo/anaconda3/envs/nlp-4650-project/lib/python3.8/site-packages (from transformers>3->-r requirements.txt (line 12)) (0.10.3)\n",
            "Requirement already satisfied: sacremoses in /home/cvxluo/anaconda3/envs/nlp-4650-project/lib/python3.8/site-packages (from transformers>3->-r requirements.txt (line 12)) (0.0.43)\n",
            "Requirement already satisfied: regex!=2019.12.17 in /home/cvxluo/anaconda3/envs/nlp-4650-project/lib/python3.8/site-packages (from transformers>3->-r requirements.txt (line 12)) (2021.8.3)\n",
            "Requirement already satisfied: threadpoolctl>=2.0.0 in /home/cvxluo/anaconda3/envs/nlp-4650-project/lib/python3.8/site-packages (from scikit-learn->-r requirements.txt (line 13)) (2.2.0)\n",
            "Requirement already satisfied: joblib>=0.11 in /home/cvxluo/anaconda3/envs/nlp-4650-project/lib/python3.8/site-packages (from scikit-learn->-r requirements.txt (line 13)) (1.0.1)\n",
            "Requirement already satisfied: click in /home/cvxluo/anaconda3/envs/nlp-4650-project/lib/python3.8/site-packages (from nltk->-r requirements.txt (line 14)) (8.0.1)\n",
            "Requirement already satisfied: six in /home/cvxluo/anaconda3/envs/nlp-4650-project/lib/python3.8/site-packages (from cycler>=0.10->matplotlib->-r requirements.txt (line 5)) (1.16.0)\n",
            "Requirement already satisfied: debugpy<2.0,>=1.0.0 in /home/cvxluo/anaconda3/envs/nlp-4650-project/lib/python3.8/site-packages (from ipykernel>=4.5.1->ipywidgets->-r requirements.txt (line 4)) (1.4.1)\n",
            "Requirement already satisfied: jupyter-client<8.0 in /home/cvxluo/anaconda3/envs/nlp-4650-project/lib/python3.8/site-packages (from ipykernel>=4.5.1->ipywidgets->-r requirements.txt (line 4)) (7.0.1)\n",
            "Requirement already satisfied: matplotlib-inline<0.2.0,>=0.1.0 in /home/cvxluo/anaconda3/envs/nlp-4650-project/lib/python3.8/site-packages (from ipykernel>=4.5.1->ipywidgets->-r requirements.txt (line 4)) (0.1.2)\n",
            "Requirement already satisfied: jedi>=0.16 in /home/cvxluo/anaconda3/envs/nlp-4650-project/lib/python3.8/site-packages (from ipython->jupyterlab->-r requirements.txt (line 3)) (0.18.0)\n",
            "Requirement already satisfied: setuptools>=18.5 in /home/cvxluo/anaconda3/envs/nlp-4650-project/lib/python3.8/site-packages (from ipython->jupyterlab->-r requirements.txt (line 3)) (58.0.4)\n",
            "Requirement already satisfied: backcall in /home/cvxluo/anaconda3/envs/nlp-4650-project/lib/python3.8/site-packages (from ipython->jupyterlab->-r requirements.txt (line 3)) (0.2.0)\n",
            "Requirement already satisfied: pexpect>4.3 in /home/cvxluo/anaconda3/envs/nlp-4650-project/lib/python3.8/site-packages (from ipython->jupyterlab->-r requirements.txt (line 3)) (4.8.0)\n",
            "Requirement already satisfied: pickleshare in /home/cvxluo/anaconda3/envs/nlp-4650-project/lib/python3.8/site-packages (from ipython->jupyterlab->-r requirements.txt (line 3)) (0.7.5)\n",
            "Requirement already satisfied: decorator in /home/cvxluo/anaconda3/envs/nlp-4650-project/lib/python3.8/site-packages (from ipython->jupyterlab->-r requirements.txt (line 3)) (5.1.0)\n",
            "Requirement already satisfied: pygments in /home/cvxluo/anaconda3/envs/nlp-4650-project/lib/python3.8/site-packages (from ipython->jupyterlab->-r requirements.txt (line 3)) (2.10.0)\n",
            "Requirement already satisfied: prompt-toolkit!=3.0.0,!=3.0.1,<3.1.0,>=2.0.0 in /home/cvxluo/anaconda3/envs/nlp-4650-project/lib/python3.8/site-packages (from ipython->jupyterlab->-r requirements.txt (line 3)) (3.0.20)\n",
            "Requirement already satisfied: parso<0.9.0,>=0.8.0 in /home/cvxluo/anaconda3/envs/nlp-4650-project/lib/python3.8/site-packages (from jedi>=0.16->ipython->jupyterlab->-r requirements.txt (line 3)) (0.8.2)\n",
            "Requirement already satisfied: MarkupSafe>=2.0 in /home/cvxluo/anaconda3/envs/nlp-4650-project/lib/python3.8/site-packages (from jinja2>=2.1->jupyterlab->-r requirements.txt (line 3)) (2.0.1)\n",
            "Requirement already satisfied: pyzmq>=13 in /home/cvxluo/anaconda3/envs/nlp-4650-project/lib/python3.8/site-packages (from jupyter-client<8.0->ipykernel>=4.5.1->ipywidgets->-r requirements.txt (line 4)) (22.2.1)\n",
            "Requirement already satisfied: entrypoints in /home/cvxluo/anaconda3/envs/nlp-4650-project/lib/python3.8/site-packages (from jupyter-client<8.0->ipykernel>=4.5.1->ipywidgets->-r requirements.txt (line 4)) (0.3)\n",
            "Requirement already satisfied: nest-asyncio>=1.5 in /home/cvxluo/anaconda3/envs/nlp-4650-project/lib/python3.8/site-packages (from jupyter-client<8.0->ipykernel>=4.5.1->ipywidgets->-r requirements.txt (line 4)) (1.5.1)\n",
            "Requirement already satisfied: argon2-cffi in /home/cvxluo/anaconda3/envs/nlp-4650-project/lib/python3.8/site-packages (from jupyter-server~=1.4->jupyterlab->-r requirements.txt (line 3)) (20.1.0)\n",
            "Requirement already satisfied: nbconvert in /home/cvxluo/anaconda3/envs/nlp-4650-project/lib/python3.8/site-packages (from jupyter-server~=1.4->jupyterlab->-r requirements.txt (line 3)) (6.1.0)\n",
            "Requirement already satisfied: terminado>=0.8.3 in /home/cvxluo/anaconda3/envs/nlp-4650-project/lib/python3.8/site-packages (from jupyter-server~=1.4->jupyterlab->-r requirements.txt (line 3)) (0.9.4)\n",
            "Requirement already satisfied: websocket-client in /home/cvxluo/anaconda3/envs/nlp-4650-project/lib/python3.8/site-packages (from jupyter-server~=1.4->jupyterlab->-r requirements.txt (line 3)) (1.2.1)\n",
            "Requirement already satisfied: prometheus-client in /home/cvxluo/anaconda3/envs/nlp-4650-project/lib/python3.8/site-packages (from jupyter-server~=1.4->jupyterlab->-r requirements.txt (line 3)) (0.11.0)\n",
            "Requirement already satisfied: anyio<4,>=3.1.0 in /home/cvxluo/anaconda3/envs/nlp-4650-project/lib/python3.8/site-packages (from jupyter-server~=1.4->jupyterlab->-r requirements.txt (line 3)) (3.3.4)\n",
            "Requirement already satisfied: requests-unixsocket in /home/cvxluo/anaconda3/envs/nlp-4650-project/lib/python3.8/site-packages (from jupyter-server~=1.4->jupyterlab->-r requirements.txt (line 3)) (0.2.0)\n",
            "Requirement already satisfied: Send2Trash in /home/cvxluo/anaconda3/envs/nlp-4650-project/lib/python3.8/site-packages (from jupyter-server~=1.4->jupyterlab->-r requirements.txt (line 3)) (1.8.0)\n",
            "Requirement already satisfied: idna>=2.8 in /home/cvxluo/anaconda3/envs/nlp-4650-project/lib/python3.8/site-packages (from anyio<4,>=3.1.0->jupyter-server~=1.4->jupyterlab->-r requirements.txt (line 3)) (3.2)\n",
            "Requirement already satisfied: sniffio>=1.1 in /home/cvxluo/anaconda3/envs/nlp-4650-project/lib/python3.8/site-packages (from anyio<4,>=3.1.0->jupyter-server~=1.4->jupyterlab->-r requirements.txt (line 3)) (1.2.0)\n",
            "Requirement already satisfied: babel in /home/cvxluo/anaconda3/envs/nlp-4650-project/lib/python3.8/site-packages (from jupyterlab-server~=2.3->jupyterlab->-r requirements.txt (line 3)) (2.9.1)\n",
            "Requirement already satisfied: json5 in /home/cvxluo/anaconda3/envs/nlp-4650-project/lib/python3.8/site-packages (from jupyterlab-server~=2.3->jupyterlab->-r requirements.txt (line 3)) (0.9.6)\n",
            "Requirement already satisfied: jsonschema>=3.0.1 in /home/cvxluo/anaconda3/envs/nlp-4650-project/lib/python3.8/site-packages (from jupyterlab-server~=2.3->jupyterlab->-r requirements.txt (line 3)) (3.2.0)\n",
            "Requirement already satisfied: attrs>=17.4.0 in /home/cvxluo/anaconda3/envs/nlp-4650-project/lib/python3.8/site-packages (from jsonschema>=3.0.1->jupyterlab-server~=2.3->jupyterlab->-r requirements.txt (line 3)) (21.2.0)\n",
            "Requirement already satisfied: pyrsistent>=0.14.0 in /home/cvxluo/anaconda3/envs/nlp-4650-project/lib/python3.8/site-packages (from jsonschema>=3.0.1->jupyterlab-server~=2.3->jupyterlab->-r requirements.txt (line 3)) (0.17.3)\n",
            "Requirement already satisfied: notebook<7 in /home/cvxluo/anaconda3/envs/nlp-4650-project/lib/python3.8/site-packages (from nbclassic~=0.2->jupyterlab->-r requirements.txt (line 3)) (6.4.3)\n",
            "Requirement already satisfied: ptyprocess>=0.5 in /home/cvxluo/anaconda3/envs/nlp-4650-project/lib/python3.8/site-packages (from pexpect>4.3->ipython->jupyterlab->-r requirements.txt (line 3)) (0.7.0)\n",
            "Requirement already satisfied: wcwidth in /home/cvxluo/anaconda3/envs/nlp-4650-project/lib/python3.8/site-packages (from prompt-toolkit!=3.0.0,!=3.0.1,<3.1.0,>=2.0.0->ipython->jupyterlab->-r requirements.txt (line 3)) (0.2.5)\n",
            "Requirement already satisfied: certifi>=2017.4.17 in /home/cvxluo/anaconda3/envs/nlp-4650-project/lib/python3.8/site-packages (from requests<3,>=2.11.1->tweepy->-r requirements.txt (line 1)) (2021.10.8)\n",
            "Requirement already satisfied: urllib3<1.27,>=1.21.1 in /home/cvxluo/anaconda3/envs/nlp-4650-project/lib/python3.8/site-packages (from requests<3,>=2.11.1->tweepy->-r requirements.txt (line 1)) (1.26.7)\n",
            "Requirement already satisfied: charset-normalizer~=2.0.0 in /home/cvxluo/anaconda3/envs/nlp-4650-project/lib/python3.8/site-packages (from requests<3,>=2.11.1->tweepy->-r requirements.txt (line 1)) (2.0.4)\n",
            "Requirement already satisfied: oauthlib>=3.0.0 in /home/cvxluo/anaconda3/envs/nlp-4650-project/lib/python3.8/site-packages (from requests-oauthlib<2,>=1.0.0->tweepy->-r requirements.txt (line 1)) (3.1.1)\n",
            "Requirement already satisfied: cffi>=1.0.0 in /home/cvxluo/anaconda3/envs/nlp-4650-project/lib/python3.8/site-packages (from argon2-cffi->jupyter-server~=1.4->jupyterlab->-r requirements.txt (line 3)) (1.14.6)\n",
            "Requirement already satisfied: pycparser in /home/cvxluo/anaconda3/envs/nlp-4650-project/lib/python3.8/site-packages (from cffi>=1.0.0->argon2-cffi->jupyter-server~=1.4->jupyterlab->-r requirements.txt (line 3)) (2.20)\n",
            "Requirement already satisfied: testpath in /home/cvxluo/anaconda3/envs/nlp-4650-project/lib/python3.8/site-packages (from nbconvert->jupyter-server~=1.4->jupyterlab->-r requirements.txt (line 3)) (0.5.0)\n",
            "Requirement already satisfied: bleach in /home/cvxluo/anaconda3/envs/nlp-4650-project/lib/python3.8/site-packages (from nbconvert->jupyter-server~=1.4->jupyterlab->-r requirements.txt (line 3)) (4.0.0)\n",
            "Requirement already satisfied: pandocfilters>=1.4.1 in /home/cvxluo/anaconda3/envs/nlp-4650-project/lib/python3.8/site-packages (from nbconvert->jupyter-server~=1.4->jupyterlab->-r requirements.txt (line 3)) (1.4.3)\n",
            "Requirement already satisfied: nbclient<0.6.0,>=0.5.0 in /home/cvxluo/anaconda3/envs/nlp-4650-project/lib/python3.8/site-packages (from nbconvert->jupyter-server~=1.4->jupyterlab->-r requirements.txt (line 3)) (0.5.3)\n",
            "Requirement already satisfied: jupyterlab-pygments in /home/cvxluo/anaconda3/envs/nlp-4650-project/lib/python3.8/site-packages (from nbconvert->jupyter-server~=1.4->jupyterlab->-r requirements.txt (line 3)) (0.1.2)\n",
            "Requirement already satisfied: defusedxml in /home/cvxluo/anaconda3/envs/nlp-4650-project/lib/python3.8/site-packages (from nbconvert->jupyter-server~=1.4->jupyterlab->-r requirements.txt (line 3)) (0.7.1)\n",
            "Requirement already satisfied: mistune<2,>=0.8.1 in /home/cvxluo/anaconda3/envs/nlp-4650-project/lib/python3.8/site-packages (from nbconvert->jupyter-server~=1.4->jupyterlab->-r requirements.txt (line 3)) (0.8.4)\n",
            "Requirement already satisfied: async-generator in /home/cvxluo/anaconda3/envs/nlp-4650-project/lib/python3.8/site-packages (from nbclient<0.6.0,>=0.5.0->nbconvert->jupyter-server~=1.4->jupyterlab->-r requirements.txt (line 3)) (1.10)\n",
            "Requirement already satisfied: webencodings in /home/cvxluo/anaconda3/envs/nlp-4650-project/lib/python3.8/site-packages (from bleach->nbconvert->jupyter-server~=1.4->jupyterlab->-r requirements.txt (line 3)) (0.5.1)\n"
          ]
        }
      ]
    },
    {
      "cell_type": "code",
      "metadata": {
        "id": "Z_3WDhl34Cqg"
      },
      "source": [
        "# Imports\n",
        "import string\n",
        "import re\n",
        "import random\n",
        "import csv\n",
        "\n",
        "import torch\n",
        "import torch.nn as nn\n",
        "from torch import optim\n",
        "from torch.utils.data import DataLoader, Dataset\n",
        "import torch.nn.functional as F\n",
        "import torchtext\n",
        "from torchtext.legacy import data\n",
        "from torchtext.data.metrics import bleu_score\n",
        "import pandas as pd\n",
        "import time\n",
        "import math\n",
        "import numpy as np\n",
        "\n",
        "# Plotting\n",
        "# for colab\n",
        "%matplotlib inline \n",
        "# for local notebook\n",
        "# %matplotlib notebook \n",
        "import matplotlib.pyplot as plt\n",
        "\n",
        "from dataset import *\n",
        "\n",
        "device = torch.device(\"cuda\" if torch.cuda.is_available() else \"cpu\")\n",
        "print(device)"
      ],
      "execution_count": 3,
      "outputs": [
        {
          "output_type": "stream",
          "name": "stdout",
          "text": [
            "cuda\n"
          ]
        }
      ]
    },
    {
      "cell_type": "code",
      "metadata": {
        "id": "Fr_0il6Mm4Pr"
      },
      "source": [
        "def asMinutes(s):\n",
        "    m = math.floor(s / 60)\n",
        "    s -= m * 60\n",
        "    return '%dm %ds' % (m, s)\n",
        "\n",
        "\n",
        "def timeSince(since, percent):\n",
        "    now = time.time()\n",
        "    s = now - since\n",
        "    es = s / (percent)\n",
        "    rs = es - s\n",
        "    return '%s (- %s)' % (asMinutes(s), asMinutes(rs))"
      ],
      "execution_count": 4,
      "outputs": []
    },
    {
      "cell_type": "code",
      "execution_count": 5,
      "metadata": {},
      "outputs": [],
      "source": [
        "def sentence_to_index(sentence, stoi) :\n",
        "    return [stoi.get(ch) if ch in stoi else stoi['<UNK>'] for ch in sentence]\n",
        "\n",
        "def index_to_sentence(indices, itos) :\n",
        "    return [itos[id] for id in indices]    "
      ]
    },
    {
      "cell_type": "code",
      "execution_count": 6,
      "metadata": {},
      "outputs": [],
      "source": [
        "class TwitterDataset(Dataset):\n",
        "    def __init__(self, df: pd.DataFrame, vocab: torchtext.vocab.Vocab) -> None:\n",
        "        super().__init__()\n",
        "        self.df = df\n",
        "        self.vocab = vocab\n",
        "        self.vocab_stoi = vocab.get_stoi()\n",
        "        self.vocab_itos = vocab.get_itos()\n",
        "\n",
        "    def __len__(self) -> int:\n",
        "        return len(self.df)\n",
        "\n",
        "    def __getitem__(self, index: int) -> torch.Tensor:\n",
        "        sample = self.df.iloc[index]\n",
        "        tweet = sample['text']\n",
        "        tweet_ch = ['<BOS>'] + tweet.strip().split() + ['<EOS>']\n",
        "        tweet_indices = sentence_to_index(tweet_ch, self.vocab_stoi)\n",
        "        tweet_tensor = torch.tensor(tweet_indices, dtype=torch.long).unsqueeze(0)\n",
        "\n",
        "        return tweet_tensor"
      ]
    },
    {
      "cell_type": "code",
      "metadata": {
        "id": "C685c5DC-rZw"
      },
      "source": [
        "class TextGenerator(nn.Module):\n",
        "    def __init__(self, vocab_size, hidden_size, n_layers=1, use_embeds=False):\n",
        "        super(TextGenerator, self).__init__()\n",
        "        # self.use_embeds = use_embeds\n",
        "        self.num_layers = n_layers\n",
        "        self.hidden_size = hidden_size\n",
        "        self.vocab_size = vocab_size\n",
        "\n",
        "        self.encoder = nn.Embedding(self.vocab_size, self.hidden_size)\n",
        "        self.rnn = nn.GRU(\n",
        "            self.hidden_size,\n",
        "            self.hidden_size,\n",
        "            self.num_layers,\n",
        "            batch_first=True\n",
        "        )\n",
        "        self.decoder = nn.Linear(self.hidden_size, self.vocab_size)\n",
        "    \n",
        "    def forward(self, input, hidden):\n",
        "        input = self.encoder(input)              # encode input using embedding layer\n",
        "        output, hidden = self.rnn(input, hidden) # get the next output and hidden state\n",
        "        output = self.decoder(output)            # predict distribution over next tokens\n",
        "        return output, hidden\n",
        "\n",
        "    def init_hidden(self, batch_size):\n",
        "        return torch.zeros(self.num_layers, batch_size, self.hidden_size, device=device)"
      ],
      "execution_count": 7,
      "outputs": []
    },
    {
      "cell_type": "code",
      "metadata": {
        "id": "jxAGJ4xg_fpt"
      },
      "source": [
        "def sample_sequence(model, vocab, start_sequence=[\"<BOS>\"], max_len=100, temperature=0.8):\n",
        "    generated_sequence = \"\"\n",
        "    vocab_stoi = vocab.get_stoi()\n",
        "    vocab_itos = vocab.get_itos()\n",
        "    inputs = torch.tensor(sentence_to_index(start_sequence, vocab_stoi), dtype=torch.long, device=device)\n",
        "    hidden = model.init_hidden(1)\n",
        "    for p in range(max_len):\n",
        "        output, hidden = model(inputs.unsqueeze(0), hidden)\n",
        "        # Sample from the network as a multinomial distribution\n",
        "        output_dist = output.data.view(-1).div(temperature).exp()\n",
        "        top_i = int(torch.multinomial(output_dist, 1)[0])\n",
        "        # Add predicted character to string and use as next input\n",
        "        predicted_char = vocab_itos[top_i] # if top_i in range(len(vocab_itos)) else \"UNK\"\n",
        "        \n",
        "        if predicted_char == \"<EOS>\":\n",
        "            break\n",
        "        generated_sequence += predicted_char + \" \"      \n",
        "        inputs = torch.tensor([top_i], dtype=torch.long, device=device)\n",
        "    return generated_sequence"
      ],
      "execution_count": 8,
      "outputs": []
    },
    {
      "cell_type": "code",
      "metadata": {
        "id": "qM264whjAHLu",
        "colab": {
          "base_uri": "https://localhost:8080/"
        },
        "outputId": "98f25a17-7456-41eb-b6bc-6fcfea815ea6",
        "tags": []
      },
      "source": [
        "df = load_dataset('elonmusk')\n",
        "tweets = df['text'].apply(lambda x: x.strip().split()).tolist()\n",
        "special_tokens = ['<BOS>', '<EOS>', '<UNK>']\n",
        "vocab = torchtext.vocab.build_vocab_from_iterator(tweets,\n",
        "                                                  min_freq=2,\n",
        "                                                  specials=special_tokens)\n",
        "vocab_stoi = vocab.get_stoi()\n",
        "vocab_itos = vocab.get_itos()\n",
        "vocab_size = len(vocab)\n",
        "dataset = TwitterDataset(df, vocab)"
      ],
      "execution_count": 9,
      "outputs": [
        {
          "output_type": "stream",
          "name": "stderr",
          "text": [
            "/home/cvxluo/Documents/Projects/Alive/nlp-4650-project/dataset.py:46: UserWarning: Boolean Series key will be reindexed to match DataFrame index.\n  df = df[filter]\n"
          ]
        }
      ]
    },
    {
      "cell_type": "code",
      "execution_count": 10,
      "metadata": {
        "tags": []
      },
      "outputs": [
        {
          "output_type": "stream",
          "name": "stdout",
          "text": [
            "['<BOS>', 'Am', 'reading', 'a', 'great', 'biography', 'of', '<UNK>', '<UNK>', 'by', '<UNK>', 'Highly', '<UNK>', '<EOS>']\n"
          ]
        }
      ],
      "source": [
        "example = dataset[5].squeeze()\n",
        "print(index_to_sentence(example, vocab_itos))"
      ]
    },
    {
      "cell_type": "code",
      "metadata": {
        "id": "4wUuCthDKJjM"
      },
      "source": [
        "def train(model, iterator, vocab, batch_size=1, num_epochs=1, lr=0.001, print_every=100):\n",
        "    optimizer = torch.optim.Adam(model.parameters(), lr=lr)\n",
        "    criterion = nn.CrossEntropyLoss()\n",
        "    it = 0\n",
        "    model.zero_grad()\n",
        "\n",
        "    candidates = []\n",
        "    references = []\n",
        "    \n",
        "    losses = []\n",
        "    bleu_scores = []\n",
        "    perplexities = []\n",
        "\n",
        "    for e in range(num_epochs):\n",
        "        # get training set\n",
        "        avg_loss = 0\n",
        "        avg_perplexity = 0\n",
        "        hidden = model.init_hidden(batch_size)\n",
        "\n",
        "        for tweet in iterator:\n",
        "            tweet = tweet.view(1, -1).to(device)\n",
        "            target = tweet[:, 1:]\n",
        "            input = tweet[:, :-1]\n",
        "\n",
        "            # cleanup\n",
        "            optimizer.zero_grad()\n",
        "            # forward pass\n",
        "            output, hidden = model(input, hidden)\n",
        "            loss = criterion(output.reshape(-1, vocab_size), target.reshape(-1))\n",
        "            hidden = hidden.detach()\n",
        "\n",
        "            # backward pass\n",
        "            loss.backward()\n",
        "            optimizer.step()\n",
        "\n",
        "            avg_loss += loss\n",
        "            avg_perplexity += math.exp(loss)\n",
        "            it += 1 # increment iteration count\n",
        "            if it % print_every == 0:\n",
        "                '''\n",
        "                # BLEU score calculation\n",
        "                candidates = [sample_sequence(model, vocab, temperature=0.6).split()] # for i in range(3)]\n",
        "                reference_corp = list(map(lambda ids : index_to_sentence(ids.squeeze(), vocab_itos), iterator))\n",
        "                references = [reference_corp] # for i in range(3)]\n",
        "                bleu = bleu_score(candidate_corpus=candidates, references_corpus=references, max_n=4)\n",
        "                '''\n",
        "                bleu = 0\n",
        "\n",
        "                print(\"[Epoch %d Iter %d] Loss %f, BLEU %f\" % (e+1, it+1, float(avg_loss/print_every), bleu))\n",
        "                print(\"    \" + sample_sequence(model, vocab))\n",
        "                losses.append(avg_loss.item())\n",
        "                bleu_scores.append(bleu)\n",
        "                perplexities.append(avg_perplexity)\n",
        "                avg_perplexity = 0\n",
        "                avg_loss = 0\n",
        "\n",
        "\n",
        "    return losses, bleu_scores, perplexities"
      ],
      "execution_count": 11,
      "outputs": []
    },
    {
      "cell_type": "code",
      "metadata": {
        "id": "d7p2Or35KSIS"
      },
      "source": [
        "hidden_size = 256\n",
        "n_layers = 1\n",
        "batch_size = 1\n",
        "lr = 0.001\n",
        "num_epochs = 10\n",
        "\n",
        "data_iterator = DataLoader(dataset, batch_size=batch_size, shuffle=True)\n",
        "model = TextGenerator(vocab_size, hidden_size, n_layers=n_layers).to(device)"
      ],
      "execution_count": 12,
      "outputs": []
    },
    {
      "cell_type": "code",
      "metadata": {
        "colab": {
          "base_uri": "https://localhost:8080/"
        },
        "id": "Z2UkCgibX8OB",
        "outputId": "dd63ed44-cba7-4013-fa41-0667314d8895",
        "tags": []
      },
      "source": [
        "avg_losses, bleu_scores, perplexities = train(model, data_iterator, vocab, batch_size=batch_size, num_epochs=num_epochs, lr=lr, print_every=500)"
      ],
      "execution_count": 13,
      "outputs": [
        {
          "output_type": "stream",
          "name": "stdout",
          "text": [
            "[Epoch 1 Iter 501] Loss 6.400661, BLEU 0.000000\n",
            "    Tesla C Ascent a you. mins chart today's will grid comic … \n",
            "[Epoch 1 Iter 1001] Loss 6.121593, BLEU 0.000000\n",
            "    impossible \n",
            "[Epoch 1 Iter 1501] Loss 5.807977, BLEU 0.000000\n",
            "    <UNK> \n",
            "[Epoch 1 Iter 2001] Loss 5.766633, BLEU 0.000000\n",
            "    News \n",
            "[Epoch 1 Iter 2501] Loss 5.636831, BLEU 0.000000\n",
            "    Doge \n",
            "[Epoch 1 Iter 3001] Loss 5.603042, BLEU 0.000000\n",
            "    <UNK> \n",
            "[Epoch 2 Iter 3501] Loss 3.332049, BLEU 0.000000\n",
            "    pass Mars \n",
            "[Epoch 2 Iter 4001] Loss 4.692747, BLEU 0.000000\n",
            "    PDT can be webcast live take closer <UNK> \n",
            "[Epoch 2 Iter 4501] Loss 4.600001, BLEU 0.000000\n",
            "    <UNK> <UNK> in 2 \n",
            "[Epoch 2 Iter 5001] Loss 4.619225, BLEU 0.000000\n",
            "    My favorite Full Self-Driving with a C19 \n",
            "[Epoch 2 Iter 5501] Loss 4.604082, BLEU 0.000000\n",
            "    <UNK> <UNK> \n",
            "[Epoch 2 Iter 6001] Loss 4.486149, BLEU 0.000000\n",
            "    . Tesla Model X video \n",
            "[Epoch 3 Iter 6501] Loss 1.471416, BLEU 0.000000\n",
            "    The <UNK> \n",
            "[Epoch 3 Iter 7001] Loss 3.441911, BLEU 0.000000\n",
            "    <UNK> \n",
            "[Epoch 3 Iter 7501] Loss 3.577986, BLEU 0.000000\n",
            "    <UNK> <UNK> SpaceX Dragon Starship <UNK> \n",
            "[Epoch 3 Iter 8001] Loss 3.700075, BLEU 0.000000\n",
            "    Worth reading space with <UNK> car is love we achieved about a computer <UNK> \n",
            "[Epoch 3 Iter 8501] Loss 3.688938, BLEU 0.000000\n",
            "    <UNK> \n",
            "[Epoch 3 Iter 9001] Loss 3.746484, BLEU 0.000000\n",
            "    <UNK> \n",
            "[Epoch 4 Iter 9501] Loss 0.400563, BLEU 0.000000\n",
            "    Raptor just achieved power level needed for high velocity missions. \n",
            "[Epoch 4 Iter 10001] Loss 2.630017, BLEU 0.000000\n",
            "    Time lapse video games & movies <UNK> & <UNK> \n",
            "[Epoch 4 Iter 10501] Loss 2.798609, BLEU 0.000000\n",
            "    Drone hexacopter takes pic of drone ship OCISLY on station in Atlantic \n",
            "[Epoch 4 Iter 11001] Loss 2.967145, BLEU 0.000000\n",
            "    Great trip to be called <UNK> \n",
            "[Epoch 4 Iter 11501] Loss 3.035246, BLEU 0.000000\n",
            "    <UNK> \n",
            "[Epoch 4 Iter 12001] Loss 3.009097, BLEU 0.000000\n",
            "    Floki <UNK> \n",
            "[Epoch 4 Iter 12501] Loss 3.061504, BLEU 0.000000\n",
            "    1.5K \n",
            "[Epoch 5 Iter 13001] Loss 1.888216, BLEU 0.000000\n",
            "    Testing Starship heatshield hex tiles \n",
            "[Epoch 5 Iter 13501] Loss 2.224627, BLEU 0.000000\n",
            "    <UNK> \n",
            "[Epoch 5 Iter 14001] Loss 2.366928, BLEU 0.000000\n",
            "    Science has gone too far \n",
            "[Epoch 5 Iter 14501] Loss 2.463293, BLEU 0.000000\n",
            "    6.5K \n",
            "[Epoch 5 Iter 15001] Loss 2.471271, BLEU 0.000000\n",
            "    <UNK> \n",
            "[Epoch 5 Iter 15501] Loss 2.635798, BLEU 0.000000\n",
            "    reflight <UNK> <UNK> \n",
            "[Epoch 6 Iter 16001] Loss 1.128553, BLEU 0.000000\n",
            "    <UNK> my son to <UNK> family <UNK> \n",
            "[Epoch 6 Iter 16501] Loss 1.938959, BLEU 0.000000\n",
            "    Over <UNK> hats hats … \n",
            "[Epoch 6 Iter 17001] Loss 1.998859, BLEU 0.000000\n",
            "    <UNK> all working on the moon. \n",
            "[Epoch 6 Iter 17501] Loss 2.139595, BLEU 0.000000\n",
            "    Music is a limbic <UNK> \n",
            "[Epoch 6 Iter 18001] Loss 2.163084, BLEU 0.000000\n",
            "    Extremely important merch \n",
            "[Epoch 6 Iter 18501] Loss 2.228012, BLEU 0.000000\n",
            "    6.1K \n",
            "[Epoch 7 Iter 19001] Loss 0.549386, BLEU 0.000000\n",
            "    . <UNK> is <UNK> \n",
            "[Epoch 7 Iter 19501] Loss 1.726640, BLEU 0.000000\n",
            "    Looks so sus when we paint cars red \n",
            "[Epoch 7 Iter 20001] Loss 1.819378, BLEU 0.000000\n",
            "    Autonomous SpaceX droneship, A Shortfall of Gravitas \n",
            "[Epoch 7 Iter 20501] Loss 1.870691, BLEU 0.000000\n",
            "    <UNK> they <UNK> \n",
            "[Epoch 7 Iter 21001] Loss 1.913640, BLEU 0.000000\n",
            "    Working on Top <UNK> <UNK> <UNK> <UNK> the <UNK> Tesla software <UNK> \n",
            "[Epoch 7 Iter 21501] Loss 2.044047, BLEU 0.000000\n",
            "    Ms Tree catches fairing in her net \n",
            "[Epoch 8 Iter 22001] Loss 0.044724, BLEU 0.000000\n",
            "    Falcon 9 rocket booster has delivered Dragon to its target <UNK> \n",
            "[Epoch 8 Iter 22501] Loss 1.557561, BLEU 0.000000\n",
            "    Announcing a <UNK> <UNK> <UNK> they are <UNK> Tesla driving technology \n",
            "[Epoch 8 Iter 23001] Loss 1.637532, BLEU 0.000000\n",
            "    Nice comment about the Model S by <UNK> on <UNK> \n",
            "[Epoch 8 Iter 23501] Loss 1.735586, BLEU 0.000000\n",
            "    <UNK> <UNK> <UNK> <UNK> <UNK> <UNK> \n",
            "[Epoch 8 Iter 24001] Loss 1.821356, BLEU 0.000000\n",
            "    <UNK> <UNK> \n",
            "[Epoch 8 Iter 24501] Loss 1.916884, BLEU 0.000000\n",
            "    <UNK> interview with <UNK> or AI <UNK> \n",
            "[Epoch 8 Iter 25001] Loss 1.860877, BLEU 0.000000\n",
            "    Falcon Heavy launch simulation almost ready. Will be set up to deep space & batteries in CA working on this … \n",
            "[Epoch 9 Iter 25501] Loss 1.079581, BLEU 0.000000\n",
            "    Falcon Heavy goes vertical \n",
            "[Epoch 9 Iter 26001] Loss 1.592318, BLEU 0.000000\n",
            "    10.3K \n",
            "[Epoch 9 Iter 26501] Loss 1.577890, BLEU 0.000000\n",
            "    <UNK> <UNK> <UNK> <UNK> <UNK> <UNK> <UNK> <UNK> <UNK> <UNK> <UNK> with <UNK> - <UNK> \n",
            "[Epoch 9 Iter 27001] Loss 1.659054, BLEU 0.000000\n",
            "    <UNK> <UNK> \n",
            "[Epoch 9 Iter 27501] Loss 1.703825, BLEU 0.000000\n",
            "    Do want irony on social <UNK> \n",
            "[Epoch 9 Iter 28001] Loss 1.835261, BLEU 0.000000\n",
            "    Plaid Model S ships next month \n",
            "[Epoch 10 Iter 28501] Loss 0.681089, BLEU 0.000000\n",
            "    <UNK> <UNK> \n",
            "[Epoch 10 Iter 29001] Loss 1.508898, BLEU 0.000000\n",
            "    Mathias Döpfner <UNK> <UNK> <UNK> by <UNK> <UNK> <UNK> <UNK> & <UNK> \n",
            "[Epoch 10 Iter 29501] Loss 1.507848, BLEU 0.000000\n",
            "    A <UNK> little red <UNK> <UNK> <UNK> <UNK> <UNK> <UNK> some <UNK> and <UNK> \n",
            "[Epoch 10 Iter 30001] Loss 1.609637, BLEU 0.000000\n",
            "    Interview and Tesla factory tour with <UNK> King \n",
            "[Epoch 10 Iter 30501] Loss 1.647436, BLEU 0.000000\n",
            "    Sigh \n",
            "[Epoch 10 Iter 31001] Loss 1.669689, BLEU 0.000000\n",
            "    6.8K \n"
          ]
        }
      ]
    },
    {
      "cell_type": "code",
      "metadata": {
        "id": "a6b2XDJLBuO3",
        "colab": {
          "base_uri": "https://localhost:8080/"
        },
        "outputId": "616c24f6-e76a-4618-ce4f-82684c5b6a85"
      },
      "source": [
        "print(sample_sequence(model, vocab, temperature=0.6))"
      ],
      "execution_count": 14,
      "outputs": [
        {
          "output_type": "stream",
          "name": "stdout",
          "text": [
            "<UNK> \n"
          ]
        }
      ]
    },
    {
      "cell_type": "code",
      "execution_count": 18,
      "metadata": {},
      "outputs": [
        {
          "output_type": "stream",
          "name": "stdout",
          "text": [
            "Space Station planned for 1 \n"
          ]
        }
      ],
      "source": [
        "start = input()\n",
        "print(start + \" \" + sample_sequence(model, vocab, start_sequence=start.split(), temperature=0.6))"
      ]
    },
    {
      "cell_type": "code",
      "execution_count": 20,
      "metadata": {},
      "outputs": [
        {
          "output_type": "execute_result",
          "data": {
            "text/plain": [
              "[<matplotlib.lines.Line2D at 0x7f53ea54e0d0>]"
            ]
          },
          "metadata": {},
          "execution_count": 20
        },
        {
          "output_type": "display_data",
          "data": {
            "text/plain": "<Figure size 432x288 with 1 Axes>",
            "image/svg+xml": "<?xml version=\"1.0\" encoding=\"utf-8\" standalone=\"no\"?>\n<!DOCTYPE svg PUBLIC \"-//W3C//DTD SVG 1.1//EN\"\n  \"http://www.w3.org/Graphics/SVG/1.1/DTD/svg11.dtd\">\n<svg height=\"248.518125pt\" version=\"1.1\" viewBox=\"0 0 381.65 248.518125\" width=\"381.65pt\" xmlns=\"http://www.w3.org/2000/svg\" xmlns:xlink=\"http://www.w3.org/1999/xlink\">\n <metadata>\n  <rdf:RDF xmlns:cc=\"http://creativecommons.org/ns#\" xmlns:dc=\"http://purl.org/dc/elements/1.1/\" xmlns:rdf=\"http://www.w3.org/1999/02/22-rdf-syntax-ns#\">\n   <cc:Work>\n    <dc:type rdf:resource=\"http://purl.org/dc/dcmitype/StillImage\"/>\n    <dc:date>2021-12-02T12:54:20.596996</dc:date>\n    <dc:format>image/svg+xml</dc:format>\n    <dc:creator>\n     <cc:Agent>\n      <dc:title>Matplotlib v3.4.2, https://matplotlib.org/</dc:title>\n     </cc:Agent>\n    </dc:creator>\n   </cc:Work>\n  </rdf:RDF>\n </metadata>\n <defs>\n  <style type=\"text/css\">*{stroke-linecap:butt;stroke-linejoin:round;}</style>\n </defs>\n <g id=\"figure_1\">\n  <g id=\"patch_1\">\n   <path d=\"M -0 248.518125 \nL 381.65 248.518125 \nL 381.65 0 \nL -0 0 \nz\n\" style=\"fill:none;\"/>\n  </g>\n  <g id=\"axes_1\">\n   <g id=\"patch_2\">\n    <path d=\"M 39.65 224.64 \nL 374.45 224.64 \nL 374.45 7.2 \nL 39.65 7.2 \nz\n\" style=\"fill:#ffffff;\"/>\n   </g>\n   <g id=\"matplotlib.axis_1\">\n    <g id=\"xtick_1\">\n     <g id=\"line2d_1\">\n      <defs>\n       <path d=\"M 0 0 \nL 0 3.5 \n\" id=\"m8b43db0e30\" style=\"stroke:#000000;stroke-width:0.8;\"/>\n      </defs>\n      <g>\n       <use style=\"stroke:#000000;stroke-width:0.8;\" x=\"54.868182\" xlink:href=\"#m8b43db0e30\" y=\"224.64\"/>\n      </g>\n     </g>\n     <g id=\"text_1\">\n      <!-- 0 -->\n      <g transform=\"translate(51.686932 239.238437)scale(0.1 -0.1)\">\n       <defs>\n        <path d=\"M 2034 4250 \nQ 1547 4250 1301 3770 \nQ 1056 3291 1056 2328 \nQ 1056 1369 1301 889 \nQ 1547 409 2034 409 \nQ 2525 409 2770 889 \nQ 3016 1369 3016 2328 \nQ 3016 3291 2770 3770 \nQ 2525 4250 2034 4250 \nz\nM 2034 4750 \nQ 2819 4750 3233 4129 \nQ 3647 3509 3647 2328 \nQ 3647 1150 3233 529 \nQ 2819 -91 2034 -91 \nQ 1250 -91 836 529 \nQ 422 1150 422 2328 \nQ 422 3509 836 4129 \nQ 1250 4750 2034 4750 \nz\n\" id=\"DejaVuSans-30\" transform=\"scale(0.015625)\"/>\n       </defs>\n       <use xlink:href=\"#DejaVuSans-30\"/>\n      </g>\n     </g>\n    </g>\n    <g id=\"xtick_2\">\n     <g id=\"line2d_2\">\n      <g>\n       <use style=\"stroke:#000000;stroke-width:0.8;\" x=\"104.76386\" xlink:href=\"#m8b43db0e30\" y=\"224.64\"/>\n      </g>\n     </g>\n     <g id=\"text_2\">\n      <!-- 10 -->\n      <g transform=\"translate(98.40136 239.238437)scale(0.1 -0.1)\">\n       <defs>\n        <path d=\"M 794 531 \nL 1825 531 \nL 1825 4091 \nL 703 3866 \nL 703 4441 \nL 1819 4666 \nL 2450 4666 \nL 2450 531 \nL 3481 531 \nL 3481 0 \nL 794 0 \nL 794 531 \nz\n\" id=\"DejaVuSans-31\" transform=\"scale(0.015625)\"/>\n       </defs>\n       <use xlink:href=\"#DejaVuSans-31\"/>\n       <use x=\"63.623047\" xlink:href=\"#DejaVuSans-30\"/>\n      </g>\n     </g>\n    </g>\n    <g id=\"xtick_3\">\n     <g id=\"line2d_3\">\n      <g>\n       <use style=\"stroke:#000000;stroke-width:0.8;\" x=\"154.659538\" xlink:href=\"#m8b43db0e30\" y=\"224.64\"/>\n      </g>\n     </g>\n     <g id=\"text_3\">\n      <!-- 20 -->\n      <g transform=\"translate(148.297038 239.238437)scale(0.1 -0.1)\">\n       <defs>\n        <path d=\"M 1228 531 \nL 3431 531 \nL 3431 0 \nL 469 0 \nL 469 531 \nQ 828 903 1448 1529 \nQ 2069 2156 2228 2338 \nQ 2531 2678 2651 2914 \nQ 2772 3150 2772 3378 \nQ 2772 3750 2511 3984 \nQ 2250 4219 1831 4219 \nQ 1534 4219 1204 4116 \nQ 875 4013 500 3803 \nL 500 4441 \nQ 881 4594 1212 4672 \nQ 1544 4750 1819 4750 \nQ 2544 4750 2975 4387 \nQ 3406 4025 3406 3419 \nQ 3406 3131 3298 2873 \nQ 3191 2616 2906 2266 \nQ 2828 2175 2409 1742 \nQ 1991 1309 1228 531 \nz\n\" id=\"DejaVuSans-32\" transform=\"scale(0.015625)\"/>\n       </defs>\n       <use xlink:href=\"#DejaVuSans-32\"/>\n       <use x=\"63.623047\" xlink:href=\"#DejaVuSans-30\"/>\n      </g>\n     </g>\n    </g>\n    <g id=\"xtick_4\">\n     <g id=\"line2d_4\">\n      <g>\n       <use style=\"stroke:#000000;stroke-width:0.8;\" x=\"204.555216\" xlink:href=\"#m8b43db0e30\" y=\"224.64\"/>\n      </g>\n     </g>\n     <g id=\"text_4\">\n      <!-- 30 -->\n      <g transform=\"translate(198.192716 239.238437)scale(0.1 -0.1)\">\n       <defs>\n        <path d=\"M 2597 2516 \nQ 3050 2419 3304 2112 \nQ 3559 1806 3559 1356 \nQ 3559 666 3084 287 \nQ 2609 -91 1734 -91 \nQ 1441 -91 1130 -33 \nQ 819 25 488 141 \nL 488 750 \nQ 750 597 1062 519 \nQ 1375 441 1716 441 \nQ 2309 441 2620 675 \nQ 2931 909 2931 1356 \nQ 2931 1769 2642 2001 \nQ 2353 2234 1838 2234 \nL 1294 2234 \nL 1294 2753 \nL 1863 2753 \nQ 2328 2753 2575 2939 \nQ 2822 3125 2822 3475 \nQ 2822 3834 2567 4026 \nQ 2313 4219 1838 4219 \nQ 1578 4219 1281 4162 \nQ 984 4106 628 3988 \nL 628 4550 \nQ 988 4650 1302 4700 \nQ 1616 4750 1894 4750 \nQ 2613 4750 3031 4423 \nQ 3450 4097 3450 3541 \nQ 3450 3153 3228 2886 \nQ 3006 2619 2597 2516 \nz\n\" id=\"DejaVuSans-33\" transform=\"scale(0.015625)\"/>\n       </defs>\n       <use xlink:href=\"#DejaVuSans-33\"/>\n       <use x=\"63.623047\" xlink:href=\"#DejaVuSans-30\"/>\n      </g>\n     </g>\n    </g>\n    <g id=\"xtick_5\">\n     <g id=\"line2d_5\">\n      <g>\n       <use style=\"stroke:#000000;stroke-width:0.8;\" x=\"254.450894\" xlink:href=\"#m8b43db0e30\" y=\"224.64\"/>\n      </g>\n     </g>\n     <g id=\"text_5\">\n      <!-- 40 -->\n      <g transform=\"translate(248.088394 239.238437)scale(0.1 -0.1)\">\n       <defs>\n        <path d=\"M 2419 4116 \nL 825 1625 \nL 2419 1625 \nL 2419 4116 \nz\nM 2253 4666 \nL 3047 4666 \nL 3047 1625 \nL 3713 1625 \nL 3713 1100 \nL 3047 1100 \nL 3047 0 \nL 2419 0 \nL 2419 1100 \nL 313 1100 \nL 313 1709 \nL 2253 4666 \nz\n\" id=\"DejaVuSans-34\" transform=\"scale(0.015625)\"/>\n       </defs>\n       <use xlink:href=\"#DejaVuSans-34\"/>\n       <use x=\"63.623047\" xlink:href=\"#DejaVuSans-30\"/>\n      </g>\n     </g>\n    </g>\n    <g id=\"xtick_6\">\n     <g id=\"line2d_6\">\n      <g>\n       <use style=\"stroke:#000000;stroke-width:0.8;\" x=\"304.346572\" xlink:href=\"#m8b43db0e30\" y=\"224.64\"/>\n      </g>\n     </g>\n     <g id=\"text_6\">\n      <!-- 50 -->\n      <g transform=\"translate(297.984072 239.238437)scale(0.1 -0.1)\">\n       <defs>\n        <path d=\"M 691 4666 \nL 3169 4666 \nL 3169 4134 \nL 1269 4134 \nL 1269 2991 \nQ 1406 3038 1543 3061 \nQ 1681 3084 1819 3084 \nQ 2600 3084 3056 2656 \nQ 3513 2228 3513 1497 \nQ 3513 744 3044 326 \nQ 2575 -91 1722 -91 \nQ 1428 -91 1123 -41 \nQ 819 9 494 109 \nL 494 744 \nQ 775 591 1075 516 \nQ 1375 441 1709 441 \nQ 2250 441 2565 725 \nQ 2881 1009 2881 1497 \nQ 2881 1984 2565 2268 \nQ 2250 2553 1709 2553 \nQ 1456 2553 1204 2497 \nQ 953 2441 691 2322 \nL 691 4666 \nz\n\" id=\"DejaVuSans-35\" transform=\"scale(0.015625)\"/>\n       </defs>\n       <use xlink:href=\"#DejaVuSans-35\"/>\n       <use x=\"63.623047\" xlink:href=\"#DejaVuSans-30\"/>\n      </g>\n     </g>\n    </g>\n    <g id=\"xtick_7\">\n     <g id=\"line2d_7\">\n      <g>\n       <use style=\"stroke:#000000;stroke-width:0.8;\" x=\"354.24225\" xlink:href=\"#m8b43db0e30\" y=\"224.64\"/>\n      </g>\n     </g>\n     <g id=\"text_7\">\n      <!-- 60 -->\n      <g transform=\"translate(347.87975 239.238437)scale(0.1 -0.1)\">\n       <defs>\n        <path d=\"M 2113 2584 \nQ 1688 2584 1439 2293 \nQ 1191 2003 1191 1497 \nQ 1191 994 1439 701 \nQ 1688 409 2113 409 \nQ 2538 409 2786 701 \nQ 3034 994 3034 1497 \nQ 3034 2003 2786 2293 \nQ 2538 2584 2113 2584 \nz\nM 3366 4563 \nL 3366 3988 \nQ 3128 4100 2886 4159 \nQ 2644 4219 2406 4219 \nQ 1781 4219 1451 3797 \nQ 1122 3375 1075 2522 \nQ 1259 2794 1537 2939 \nQ 1816 3084 2150 3084 \nQ 2853 3084 3261 2657 \nQ 3669 2231 3669 1497 \nQ 3669 778 3244 343 \nQ 2819 -91 2113 -91 \nQ 1303 -91 875 529 \nQ 447 1150 447 2328 \nQ 447 3434 972 4092 \nQ 1497 4750 2381 4750 \nQ 2619 4750 2861 4703 \nQ 3103 4656 3366 4563 \nz\n\" id=\"DejaVuSans-36\" transform=\"scale(0.015625)\"/>\n       </defs>\n       <use xlink:href=\"#DejaVuSans-36\"/>\n       <use x=\"63.623047\" xlink:href=\"#DejaVuSans-30\"/>\n      </g>\n     </g>\n    </g>\n   </g>\n   <g id=\"matplotlib.axis_2\">\n    <g id=\"ytick_1\">\n     <g id=\"line2d_8\">\n      <defs>\n       <path d=\"M 0 0 \nL -3.5 0 \n\" id=\"m104fc865a9\" style=\"stroke:#000000;stroke-width:0.8;\"/>\n      </defs>\n      <g>\n       <use style=\"stroke:#000000;stroke-width:0.8;\" x=\"39.65\" xlink:href=\"#m104fc865a9\" y=\"216.147299\"/>\n      </g>\n     </g>\n     <g id=\"text_8\">\n      <!-- 0 -->\n      <g transform=\"translate(26.2875 219.946517)scale(0.1 -0.1)\">\n       <use xlink:href=\"#DejaVuSans-30\"/>\n      </g>\n     </g>\n    </g>\n    <g id=\"ytick_2\">\n     <g id=\"line2d_9\">\n      <g>\n       <use style=\"stroke:#000000;stroke-width:0.8;\" x=\"39.65\" xlink:href=\"#m104fc865a9\" y=\"185.046809\"/>\n      </g>\n     </g>\n     <g id=\"text_9\">\n      <!-- 500 -->\n      <g transform=\"translate(13.5625 188.846028)scale(0.1 -0.1)\">\n       <use xlink:href=\"#DejaVuSans-35\"/>\n       <use x=\"63.623047\" xlink:href=\"#DejaVuSans-30\"/>\n       <use x=\"127.246094\" xlink:href=\"#DejaVuSans-30\"/>\n      </g>\n     </g>\n    </g>\n    <g id=\"ytick_3\">\n     <g id=\"line2d_10\">\n      <g>\n       <use style=\"stroke:#000000;stroke-width:0.8;\" x=\"39.65\" xlink:href=\"#m104fc865a9\" y=\"153.94632\"/>\n      </g>\n     </g>\n     <g id=\"text_10\">\n      <!-- 1000 -->\n      <g transform=\"translate(7.2 157.745539)scale(0.1 -0.1)\">\n       <use xlink:href=\"#DejaVuSans-31\"/>\n       <use x=\"63.623047\" xlink:href=\"#DejaVuSans-30\"/>\n       <use x=\"127.246094\" xlink:href=\"#DejaVuSans-30\"/>\n       <use x=\"190.869141\" xlink:href=\"#DejaVuSans-30\"/>\n      </g>\n     </g>\n    </g>\n    <g id=\"ytick_4\">\n     <g id=\"line2d_11\">\n      <g>\n       <use style=\"stroke:#000000;stroke-width:0.8;\" x=\"39.65\" xlink:href=\"#m104fc865a9\" y=\"122.845831\"/>\n      </g>\n     </g>\n     <g id=\"text_11\">\n      <!-- 1500 -->\n      <g transform=\"translate(7.2 126.64505)scale(0.1 -0.1)\">\n       <use xlink:href=\"#DejaVuSans-31\"/>\n       <use x=\"63.623047\" xlink:href=\"#DejaVuSans-35\"/>\n       <use x=\"127.246094\" xlink:href=\"#DejaVuSans-30\"/>\n       <use x=\"190.869141\" xlink:href=\"#DejaVuSans-30\"/>\n      </g>\n     </g>\n    </g>\n    <g id=\"ytick_5\">\n     <g id=\"line2d_12\">\n      <g>\n       <use style=\"stroke:#000000;stroke-width:0.8;\" x=\"39.65\" xlink:href=\"#m104fc865a9\" y=\"91.745342\"/>\n      </g>\n     </g>\n     <g id=\"text_12\">\n      <!-- 2000 -->\n      <g transform=\"translate(7.2 95.54456)scale(0.1 -0.1)\">\n       <use xlink:href=\"#DejaVuSans-32\"/>\n       <use x=\"63.623047\" xlink:href=\"#DejaVuSans-30\"/>\n       <use x=\"127.246094\" xlink:href=\"#DejaVuSans-30\"/>\n       <use x=\"190.869141\" xlink:href=\"#DejaVuSans-30\"/>\n      </g>\n     </g>\n    </g>\n    <g id=\"ytick_6\">\n     <g id=\"line2d_13\">\n      <g>\n       <use style=\"stroke:#000000;stroke-width:0.8;\" x=\"39.65\" xlink:href=\"#m104fc865a9\" y=\"60.644852\"/>\n      </g>\n     </g>\n     <g id=\"text_13\">\n      <!-- 2500 -->\n      <g transform=\"translate(7.2 64.444071)scale(0.1 -0.1)\">\n       <use xlink:href=\"#DejaVuSans-32\"/>\n       <use x=\"63.623047\" xlink:href=\"#DejaVuSans-35\"/>\n       <use x=\"127.246094\" xlink:href=\"#DejaVuSans-30\"/>\n       <use x=\"190.869141\" xlink:href=\"#DejaVuSans-30\"/>\n      </g>\n     </g>\n    </g>\n    <g id=\"ytick_7\">\n     <g id=\"line2d_14\">\n      <g>\n       <use style=\"stroke:#000000;stroke-width:0.8;\" x=\"39.65\" xlink:href=\"#m104fc865a9\" y=\"29.544363\"/>\n      </g>\n     </g>\n     <g id=\"text_14\">\n      <!-- 3000 -->\n      <g transform=\"translate(7.2 33.343582)scale(0.1 -0.1)\">\n       <use xlink:href=\"#DejaVuSans-33\"/>\n       <use x=\"63.623047\" xlink:href=\"#DejaVuSans-30\"/>\n       <use x=\"127.246094\" xlink:href=\"#DejaVuSans-30\"/>\n       <use x=\"190.869141\" xlink:href=\"#DejaVuSans-30\"/>\n      </g>\n     </g>\n    </g>\n   </g>\n   <g id=\"line2d_15\">\n    <path clip-path=\"url(#pf3f6fd07cd)\" d=\"M 54.868182 17.083636 \nL 59.85775 25.762784 \nL 64.847317 35.516386 \nL 69.836885 36.802197 \nL 74.826453 40.83911 \nL 79.816021 41.889951 \nL 84.805589 112.51895 \nL 89.795156 70.200584 \nL 94.784724 73.085033 \nL 99.774292 72.487169 \nL 104.76386 72.958095 \nL 109.753428 76.625887 \nL 114.742996 170.385533 \nL 119.732563 109.102171 \nL 124.722131 104.870196 \nL 129.711699 101.073165 \nL 134.701267 101.41953 \nL 139.690835 99.629817 \nL 144.680402 203.689608 \nL 149.66997 134.35248 \nL 154.659538 129.109201 \nL 159.649106 123.867652 \nL 164.638674 121.74966 \nL 169.628241 122.562927 \nL 174.617809 120.933029 \nL 179.607377 157.422859 \nL 184.596945 146.96032 \nL 189.586513 142.53468 \nL 194.57608 139.537682 \nL 199.565648 139.289562 \nL 204.555216 134.172711 \nL 209.544784 181.048764 \nL 214.534352 155.844741 \nL 219.52392 153.981813 \nL 224.513487 149.604841 \nL 229.503055 148.874344 \nL 234.492623 146.855037 \nL 239.482191 199.061129 \nL 244.471759 162.447961 \nL 249.461326 159.56377 \nL 254.450894 157.967892 \nL 259.440462 156.632158 \nL 264.43003 152.576429 \nL 269.419598 214.756364 \nL 274.409165 167.706381 \nL 279.398733 165.21926 \nL 284.388301 162.169731 \nL 289.377869 159.50223 \nL 294.367437 156.53126 \nL 299.357004 158.273104 \nL 304.346572 182.5718 \nL 309.33614 166.625422 \nL 314.325708 167.074162 \nL 319.315276 164.54992 \nL 324.304844 163.157505 \nL 329.294411 159.069792 \nL 334.283979 194.965113 \nL 339.273547 169.219846 \nL 344.263115 169.25248 \nL 349.252683 166.086817 \nL 354.24225 164.911221 \nL 359.231818 164.219159 \n\" style=\"fill:none;stroke:#1f77b4;stroke-linecap:square;stroke-width:1.5;\"/>\n   </g>\n   <g id=\"patch_3\">\n    <path d=\"M 39.65 224.64 \nL 39.65 7.2 \n\" style=\"fill:none;stroke:#000000;stroke-linecap:square;stroke-linejoin:miter;stroke-width:0.8;\"/>\n   </g>\n   <g id=\"patch_4\">\n    <path d=\"M 374.45 224.64 \nL 374.45 7.2 \n\" style=\"fill:none;stroke:#000000;stroke-linecap:square;stroke-linejoin:miter;stroke-width:0.8;\"/>\n   </g>\n   <g id=\"patch_5\">\n    <path d=\"M 39.65 224.64 \nL 374.45 224.64 \n\" style=\"fill:none;stroke:#000000;stroke-linecap:square;stroke-linejoin:miter;stroke-width:0.8;\"/>\n   </g>\n   <g id=\"patch_6\">\n    <path d=\"M 39.65 7.2 \nL 374.45 7.2 \n\" style=\"fill:none;stroke:#000000;stroke-linecap:square;stroke-linejoin:miter;stroke-width:0.8;\"/>\n   </g>\n  </g>\n </g>\n <defs>\n  <clipPath id=\"pf3f6fd07cd\">\n   <rect height=\"217.44\" width=\"334.8\" x=\"39.65\" y=\"7.2\"/>\n  </clipPath>\n </defs>\n</svg>\n",
            "image/png": "[encoded data removed]"
          },
          "metadata": {
            "needs_background": "light"
          }
        }
      ],
      "source": [
        "plt.plot(avg_losses)"
      ]
    },
    {
      "cell_type": "code",
      "execution_count": 21,
      "metadata": {},
      "outputs": [
        {
          "output_type": "execute_result",
          "data": {
            "text/plain": [
              "[<matplotlib.lines.Line2D at 0x7f53ea46c160>]"
            ]
          },
          "metadata": {},
          "execution_count": 21
        },
        {
          "output_type": "display_data",
          "data": {
            "text/plain": "<Figure size 432x288 with 1 Axes>",
            "image/svg+xml": "<?xml version=\"1.0\" encoding=\"utf-8\" standalone=\"no\"?>\n<!DOCTYPE svg PUBLIC \"-//W3C//DTD SVG 1.1//EN\"\n  \"http://www.w3.org/Graphics/SVG/1.1/DTD/svg11.dtd\">\n<svg height=\"248.518125pt\" version=\"1.1\" viewBox=\"0 0 394.375 248.518125\" width=\"394.375pt\" xmlns=\"http://www.w3.org/2000/svg\" xmlns:xlink=\"http://www.w3.org/1999/xlink\">\n <metadata>\n  <rdf:RDF xmlns:cc=\"http://creativecommons.org/ns#\" xmlns:dc=\"http://purl.org/dc/elements/1.1/\" xmlns:rdf=\"http://www.w3.org/1999/02/22-rdf-syntax-ns#\">\n   <cc:Work>\n    <dc:type rdf:resource=\"http://purl.org/dc/dcmitype/StillImage\"/>\n    <dc:date>2021-12-02T12:54:21.692402</dc:date>\n    <dc:format>image/svg+xml</dc:format>\n    <dc:creator>\n     <cc:Agent>\n      <dc:title>Matplotlib v3.4.2, https://matplotlib.org/</dc:title>\n     </cc:Agent>\n    </dc:creator>\n   </cc:Work>\n  </rdf:RDF>\n </metadata>\n <defs>\n  <style type=\"text/css\">*{stroke-linecap:butt;stroke-linejoin:round;}</style>\n </defs>\n <g id=\"figure_1\">\n  <g id=\"patch_1\">\n   <path d=\"M 0 248.518125 \nL 394.375 248.518125 \nL 394.375 0 \nL 0 0 \nz\n\" style=\"fill:none;\"/>\n  </g>\n  <g id=\"axes_1\">\n   <g id=\"patch_2\">\n    <path d=\"M 52.375 224.64 \nL 387.175 224.64 \nL 387.175 7.2 \nL 52.375 7.2 \nz\n\" style=\"fill:#ffffff;\"/>\n   </g>\n   <g id=\"matplotlib.axis_1\">\n    <g id=\"xtick_1\">\n     <g id=\"line2d_1\">\n      <defs>\n       <path d=\"M 0 0 \nL 0 3.5 \n\" id=\"m9464ed2938\" style=\"stroke:#000000;stroke-width:0.8;\"/>\n      </defs>\n      <g>\n       <use style=\"stroke:#000000;stroke-width:0.8;\" x=\"67.593182\" xlink:href=\"#m9464ed2938\" y=\"224.64\"/>\n      </g>\n     </g>\n     <g id=\"text_1\">\n      <!-- 0 -->\n      <g transform=\"translate(64.411932 239.238438)scale(0.1 -0.1)\">\n       <defs>\n        <path d=\"M 2034 4250 \nQ 1547 4250 1301 3770 \nQ 1056 3291 1056 2328 \nQ 1056 1369 1301 889 \nQ 1547 409 2034 409 \nQ 2525 409 2770 889 \nQ 3016 1369 3016 2328 \nQ 3016 3291 2770 3770 \nQ 2525 4250 2034 4250 \nz\nM 2034 4750 \nQ 2819 4750 3233 4129 \nQ 3647 3509 3647 2328 \nQ 3647 1150 3233 529 \nQ 2819 -91 2034 -91 \nQ 1250 -91 836 529 \nQ 422 1150 422 2328 \nQ 422 3509 836 4129 \nQ 1250 4750 2034 4750 \nz\n\" id=\"DejaVuSans-30\" transform=\"scale(0.015625)\"/>\n       </defs>\n       <use xlink:href=\"#DejaVuSans-30\"/>\n      </g>\n     </g>\n    </g>\n    <g id=\"xtick_2\">\n     <g id=\"line2d_2\">\n      <g>\n       <use style=\"stroke:#000000;stroke-width:0.8;\" x=\"117.48886\" xlink:href=\"#m9464ed2938\" y=\"224.64\"/>\n      </g>\n     </g>\n     <g id=\"text_2\">\n      <!-- 10 -->\n      <g transform=\"translate(111.12636 239.238438)scale(0.1 -0.1)\">\n       <defs>\n        <path d=\"M 794 531 \nL 1825 531 \nL 1825 4091 \nL 703 3866 \nL 703 4441 \nL 1819 4666 \nL 2450 4666 \nL 2450 531 \nL 3481 531 \nL 3481 0 \nL 794 0 \nL 794 531 \nz\n\" id=\"DejaVuSans-31\" transform=\"scale(0.015625)\"/>\n       </defs>\n       <use xlink:href=\"#DejaVuSans-31\"/>\n       <use x=\"63.623047\" xlink:href=\"#DejaVuSans-30\"/>\n      </g>\n     </g>\n    </g>\n    <g id=\"xtick_3\">\n     <g id=\"line2d_3\">\n      <g>\n       <use style=\"stroke:#000000;stroke-width:0.8;\" x=\"167.384538\" xlink:href=\"#m9464ed2938\" y=\"224.64\"/>\n      </g>\n     </g>\n     <g id=\"text_3\">\n      <!-- 20 -->\n      <g transform=\"translate(161.022038 239.238438)scale(0.1 -0.1)\">\n       <defs>\n        <path d=\"M 1228 531 \nL 3431 531 \nL 3431 0 \nL 469 0 \nL 469 531 \nQ 828 903 1448 1529 \nQ 2069 2156 2228 2338 \nQ 2531 2678 2651 2914 \nQ 2772 3150 2772 3378 \nQ 2772 3750 2511 3984 \nQ 2250 4219 1831 4219 \nQ 1534 4219 1204 4116 \nQ 875 4013 500 3803 \nL 500 4441 \nQ 881 4594 1212 4672 \nQ 1544 4750 1819 4750 \nQ 2544 4750 2975 4387 \nQ 3406 4025 3406 3419 \nQ 3406 3131 3298 2873 \nQ 3191 2616 2906 2266 \nQ 2828 2175 2409 1742 \nQ 1991 1309 1228 531 \nz\n\" id=\"DejaVuSans-32\" transform=\"scale(0.015625)\"/>\n       </defs>\n       <use xlink:href=\"#DejaVuSans-32\"/>\n       <use x=\"63.623047\" xlink:href=\"#DejaVuSans-30\"/>\n      </g>\n     </g>\n    </g>\n    <g id=\"xtick_4\">\n     <g id=\"line2d_4\">\n      <g>\n       <use style=\"stroke:#000000;stroke-width:0.8;\" x=\"217.280216\" xlink:href=\"#m9464ed2938\" y=\"224.64\"/>\n      </g>\n     </g>\n     <g id=\"text_4\">\n      <!-- 30 -->\n      <g transform=\"translate(210.917716 239.238438)scale(0.1 -0.1)\">\n       <defs>\n        <path d=\"M 2597 2516 \nQ 3050 2419 3304 2112 \nQ 3559 1806 3559 1356 \nQ 3559 666 3084 287 \nQ 2609 -91 1734 -91 \nQ 1441 -91 1130 -33 \nQ 819 25 488 141 \nL 488 750 \nQ 750 597 1062 519 \nQ 1375 441 1716 441 \nQ 2309 441 2620 675 \nQ 2931 909 2931 1356 \nQ 2931 1769 2642 2001 \nQ 2353 2234 1838 2234 \nL 1294 2234 \nL 1294 2753 \nL 1863 2753 \nQ 2328 2753 2575 2939 \nQ 2822 3125 2822 3475 \nQ 2822 3834 2567 4026 \nQ 2313 4219 1838 4219 \nQ 1578 4219 1281 4162 \nQ 984 4106 628 3988 \nL 628 4550 \nQ 988 4650 1302 4700 \nQ 1616 4750 1894 4750 \nQ 2613 4750 3031 4423 \nQ 3450 4097 3450 3541 \nQ 3450 3153 3228 2886 \nQ 3006 2619 2597 2516 \nz\n\" id=\"DejaVuSans-33\" transform=\"scale(0.015625)\"/>\n       </defs>\n       <use xlink:href=\"#DejaVuSans-33\"/>\n       <use x=\"63.623047\" xlink:href=\"#DejaVuSans-30\"/>\n      </g>\n     </g>\n    </g>\n    <g id=\"xtick_5\">\n     <g id=\"line2d_5\">\n      <g>\n       <use style=\"stroke:#000000;stroke-width:0.8;\" x=\"267.175894\" xlink:href=\"#m9464ed2938\" y=\"224.64\"/>\n      </g>\n     </g>\n     <g id=\"text_5\">\n      <!-- 40 -->\n      <g transform=\"translate(260.813394 239.238438)scale(0.1 -0.1)\">\n       <defs>\n        <path d=\"M 2419 4116 \nL 825 1625 \nL 2419 1625 \nL 2419 4116 \nz\nM 2253 4666 \nL 3047 4666 \nL 3047 1625 \nL 3713 1625 \nL 3713 1100 \nL 3047 1100 \nL 3047 0 \nL 2419 0 \nL 2419 1100 \nL 313 1100 \nL 313 1709 \nL 2253 4666 \nz\n\" id=\"DejaVuSans-34\" transform=\"scale(0.015625)\"/>\n       </defs>\n       <use xlink:href=\"#DejaVuSans-34\"/>\n       <use x=\"63.623047\" xlink:href=\"#DejaVuSans-30\"/>\n      </g>\n     </g>\n    </g>\n    <g id=\"xtick_6\">\n     <g id=\"line2d_6\">\n      <g>\n       <use style=\"stroke:#000000;stroke-width:0.8;\" x=\"317.071572\" xlink:href=\"#m9464ed2938\" y=\"224.64\"/>\n      </g>\n     </g>\n     <g id=\"text_6\">\n      <!-- 50 -->\n      <g transform=\"translate(310.709072 239.238438)scale(0.1 -0.1)\">\n       <defs>\n        <path d=\"M 691 4666 \nL 3169 4666 \nL 3169 4134 \nL 1269 4134 \nL 1269 2991 \nQ 1406 3038 1543 3061 \nQ 1681 3084 1819 3084 \nQ 2600 3084 3056 2656 \nQ 3513 2228 3513 1497 \nQ 3513 744 3044 326 \nQ 2575 -91 1722 -91 \nQ 1428 -91 1123 -41 \nQ 819 9 494 109 \nL 494 744 \nQ 775 591 1075 516 \nQ 1375 441 1709 441 \nQ 2250 441 2565 725 \nQ 2881 1009 2881 1497 \nQ 2881 1984 2565 2268 \nQ 2250 2553 1709 2553 \nQ 1456 2553 1204 2497 \nQ 953 2441 691 2322 \nL 691 4666 \nz\n\" id=\"DejaVuSans-35\" transform=\"scale(0.015625)\"/>\n       </defs>\n       <use xlink:href=\"#DejaVuSans-35\"/>\n       <use x=\"63.623047\" xlink:href=\"#DejaVuSans-30\"/>\n      </g>\n     </g>\n    </g>\n    <g id=\"xtick_7\">\n     <g id=\"line2d_7\">\n      <g>\n       <use style=\"stroke:#000000;stroke-width:0.8;\" x=\"366.96725\" xlink:href=\"#m9464ed2938\" y=\"224.64\"/>\n      </g>\n     </g>\n     <g id=\"text_7\">\n      <!-- 60 -->\n      <g transform=\"translate(360.60475 239.238438)scale(0.1 -0.1)\">\n       <defs>\n        <path d=\"M 2113 2584 \nQ 1688 2584 1439 2293 \nQ 1191 2003 1191 1497 \nQ 1191 994 1439 701 \nQ 1688 409 2113 409 \nQ 2538 409 2786 701 \nQ 3034 994 3034 1497 \nQ 3034 2003 2786 2293 \nQ 2538 2584 2113 2584 \nz\nM 3366 4563 \nL 3366 3988 \nQ 3128 4100 2886 4159 \nQ 2644 4219 2406 4219 \nQ 1781 4219 1451 3797 \nQ 1122 3375 1075 2522 \nQ 1259 2794 1537 2939 \nQ 1816 3084 2150 3084 \nQ 2853 3084 3261 2657 \nQ 3669 2231 3669 1497 \nQ 3669 778 3244 343 \nQ 2819 -91 2113 -91 \nQ 1303 -91 875 529 \nQ 447 1150 447 2328 \nQ 447 3434 972 4092 \nQ 1497 4750 2381 4750 \nQ 2619 4750 2861 4703 \nQ 3103 4656 3366 4563 \nz\n\" id=\"DejaVuSans-36\" transform=\"scale(0.015625)\"/>\n       </defs>\n       <use xlink:href=\"#DejaVuSans-36\"/>\n       <use x=\"63.623047\" xlink:href=\"#DejaVuSans-30\"/>\n      </g>\n     </g>\n    </g>\n   </g>\n   <g id=\"matplotlib.axis_2\">\n    <g id=\"ytick_1\">\n     <g id=\"line2d_8\">\n      <defs>\n       <path d=\"M 0 0 \nL -3.5 0 \n\" id=\"meff350165b\" style=\"stroke:#000000;stroke-width:0.8;\"/>\n      </defs>\n      <g>\n       <use style=\"stroke:#000000;stroke-width:0.8;\" x=\"52.375\" xlink:href=\"#meff350165b\" y=\"214.826094\"/>\n      </g>\n     </g>\n     <g id=\"text_8\">\n      <!-- 0 -->\n      <g transform=\"translate(39.0125 218.625313)scale(0.1 -0.1)\">\n       <use xlink:href=\"#DejaVuSans-30\"/>\n      </g>\n     </g>\n    </g>\n    <g id=\"ytick_2\">\n     <g id=\"line2d_9\">\n      <g>\n       <use style=\"stroke:#000000;stroke-width:0.8;\" x=\"52.375\" xlink:href=\"#meff350165b\" y=\"179.199256\"/>\n      </g>\n     </g>\n     <g id=\"text_9\">\n      <!-- 100000 -->\n      <g transform=\"translate(7.2 182.998474)scale(0.1 -0.1)\">\n       <use xlink:href=\"#DejaVuSans-31\"/>\n       <use x=\"63.623047\" xlink:href=\"#DejaVuSans-30\"/>\n       <use x=\"127.246094\" xlink:href=\"#DejaVuSans-30\"/>\n       <use x=\"190.869141\" xlink:href=\"#DejaVuSans-30\"/>\n       <use x=\"254.492188\" xlink:href=\"#DejaVuSans-30\"/>\n       <use x=\"318.115234\" xlink:href=\"#DejaVuSans-30\"/>\n      </g>\n     </g>\n    </g>\n    <g id=\"ytick_3\">\n     <g id=\"line2d_10\">\n      <g>\n       <use style=\"stroke:#000000;stroke-width:0.8;\" x=\"52.375\" xlink:href=\"#meff350165b\" y=\"143.572417\"/>\n      </g>\n     </g>\n     <g id=\"text_10\">\n      <!-- 200000 -->\n      <g transform=\"translate(7.2 147.371636)scale(0.1 -0.1)\">\n       <use xlink:href=\"#DejaVuSans-32\"/>\n       <use x=\"63.623047\" xlink:href=\"#DejaVuSans-30\"/>\n       <use x=\"127.246094\" xlink:href=\"#DejaVuSans-30\"/>\n       <use x=\"190.869141\" xlink:href=\"#DejaVuSans-30\"/>\n       <use x=\"254.492188\" xlink:href=\"#DejaVuSans-30\"/>\n       <use x=\"318.115234\" xlink:href=\"#DejaVuSans-30\"/>\n      </g>\n     </g>\n    </g>\n    <g id=\"ytick_4\">\n     <g id=\"line2d_11\">\n      <g>\n       <use style=\"stroke:#000000;stroke-width:0.8;\" x=\"52.375\" xlink:href=\"#meff350165b\" y=\"107.945578\"/>\n      </g>\n     </g>\n     <g id=\"text_11\">\n      <!-- 300000 -->\n      <g transform=\"translate(7.2 111.744797)scale(0.1 -0.1)\">\n       <use xlink:href=\"#DejaVuSans-33\"/>\n       <use x=\"63.623047\" xlink:href=\"#DejaVuSans-30\"/>\n       <use x=\"127.246094\" xlink:href=\"#DejaVuSans-30\"/>\n       <use x=\"190.869141\" xlink:href=\"#DejaVuSans-30\"/>\n       <use x=\"254.492188\" xlink:href=\"#DejaVuSans-30\"/>\n       <use x=\"318.115234\" xlink:href=\"#DejaVuSans-30\"/>\n      </g>\n     </g>\n    </g>\n    <g id=\"ytick_5\">\n     <g id=\"line2d_12\">\n      <g>\n       <use style=\"stroke:#000000;stroke-width:0.8;\" x=\"52.375\" xlink:href=\"#meff350165b\" y=\"72.31874\"/>\n      </g>\n     </g>\n     <g id=\"text_12\">\n      <!-- 400000 -->\n      <g transform=\"translate(7.2 76.117958)scale(0.1 -0.1)\">\n       <use xlink:href=\"#DejaVuSans-34\"/>\n       <use x=\"63.623047\" xlink:href=\"#DejaVuSans-30\"/>\n       <use x=\"127.246094\" xlink:href=\"#DejaVuSans-30\"/>\n       <use x=\"190.869141\" xlink:href=\"#DejaVuSans-30\"/>\n       <use x=\"254.492188\" xlink:href=\"#DejaVuSans-30\"/>\n       <use x=\"318.115234\" xlink:href=\"#DejaVuSans-30\"/>\n      </g>\n     </g>\n    </g>\n    <g id=\"ytick_6\">\n     <g id=\"line2d_13\">\n      <g>\n       <use style=\"stroke:#000000;stroke-width:0.8;\" x=\"52.375\" xlink:href=\"#meff350165b\" y=\"36.691901\"/>\n      </g>\n     </g>\n     <g id=\"text_13\">\n      <!-- 500000 -->\n      <g transform=\"translate(7.2 40.49112)scale(0.1 -0.1)\">\n       <use xlink:href=\"#DejaVuSans-35\"/>\n       <use x=\"63.623047\" xlink:href=\"#DejaVuSans-30\"/>\n       <use x=\"127.246094\" xlink:href=\"#DejaVuSans-30\"/>\n       <use x=\"190.869141\" xlink:href=\"#DejaVuSans-30\"/>\n       <use x=\"254.492188\" xlink:href=\"#DejaVuSans-30\"/>\n       <use x=\"318.115234\" xlink:href=\"#DejaVuSans-30\"/>\n      </g>\n     </g>\n    </g>\n   </g>\n   <g id=\"line2d_14\">\n    <path clip-path=\"url(#p86d4912a31)\" d=\"M 67.593182 17.748293 \nL 72.58275 63.46857 \nL 77.572317 17.083636 \nL 82.561885 94.68671 \nL 87.551453 103.320177 \nL 92.541021 121.260918 \nL 97.530589 195.04562 \nL 102.520156 185.620823 \nL 107.509724 186.532062 \nL 112.499292 185.525897 \nL 117.48886 185.215554 \nL 122.478428 187.654231 \nL 127.467996 211.556911 \nL 132.457563 206.38844 \nL 137.447131 205.714778 \nL 142.436699 204.691804 \nL 147.426267 204.312065 \nL 152.415835 203.574838 \nL 157.405402 214.332564 \nL 162.39497 211.326359 \nL 167.384538 210.918657 \nL 172.374106 209.427859 \nL 177.363674 209.793565 \nL 182.353241 209.708874 \nL 187.342809 209.624026 \nL 192.332377 213.055741 \nL 197.321945 212.597486 \nL 202.311513 211.501759 \nL 207.30108 211.915723 \nL 212.290648 211.833052 \nL 217.280216 211.441917 \nL 222.269784 213.840379 \nL 227.259352 212.994974 \nL 232.24892 213.085501 \nL 237.238487 212.654776 \nL 242.228055 212.376753 \nL 247.217623 212.192218 \nL 252.207191 214.320056 \nL 257.196759 212.995044 \nL 262.186326 213.325638 \nL 267.175894 212.652654 \nL 272.165462 212.8603 \nL 277.15503 211.980406 \nL 282.144598 214.756364 \nL 287.134165 213.609345 \nL 292.123733 213.473691 \nL 297.113301 213.241005 \nL 302.102869 212.667209 \nL 307.092437 212.704624 \nL 312.082004 212.844422 \nL 317.071572 214.075671 \nL 322.06114 212.433177 \nL 327.050708 213.551962 \nL 332.040276 212.907772 \nL 337.029844 213.046796 \nL 342.019411 212.827944 \nL 347.008979 214.174703 \nL 351.998547 213.505224 \nL 356.988115 213.568403 \nL 361.977683 213.207789 \nL 366.96725 212.972686 \nL 371.956818 213.211536 \n\" style=\"fill:none;stroke:#1f77b4;stroke-linecap:square;stroke-width:1.5;\"/>\n   </g>\n   <g id=\"patch_3\">\n    <path d=\"M 52.375 224.64 \nL 52.375 7.2 \n\" style=\"fill:none;stroke:#000000;stroke-linecap:square;stroke-linejoin:miter;stroke-width:0.8;\"/>\n   </g>\n   <g id=\"patch_4\">\n    <path d=\"M 387.175 224.64 \nL 387.175 7.2 \n\" style=\"fill:none;stroke:#000000;stroke-linecap:square;stroke-linejoin:miter;stroke-width:0.8;\"/>\n   </g>\n   <g id=\"patch_5\">\n    <path d=\"M 52.375 224.64 \nL 387.175 224.64 \n\" style=\"fill:none;stroke:#000000;stroke-linecap:square;stroke-linejoin:miter;stroke-width:0.8;\"/>\n   </g>\n   <g id=\"patch_6\">\n    <path d=\"M 52.375 7.2 \nL 387.175 7.2 \n\" style=\"fill:none;stroke:#000000;stroke-linecap:square;stroke-linejoin:miter;stroke-width:0.8;\"/>\n   </g>\n  </g>\n </g>\n <defs>\n  <clipPath id=\"p86d4912a31\">\n   <rect height=\"217.44\" width=\"334.8\" x=\"52.375\" y=\"7.2\"/>\n  </clipPath>\n </defs>\n</svg>\n",
            "image/png": "[encoded data removed]"
          },
          "metadata": {
            "needs_background": "light"
          }
        }
      ],
      "source": [
        "plt.plot(perplexities)"
      ]
    }
  ]
}